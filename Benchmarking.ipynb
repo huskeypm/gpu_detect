{
 "cells": [
  {
   "cell_type": "code",
   "execution_count": 7,
   "metadata": {},
   "outputs": [],
   "source": [
    "import numpy as np\n",
    "import matplotlib.pylab as plt\n",
    "plt.rcParams['figure.figsize'] = [10,8]"
   ]
  },
  {
   "cell_type": "markdown",
   "metadata": {},
   "source": [
    "### Use dimensions used in threeDtense.py"
   ]
  },
  {
   "cell_type": "code",
   "execution_count": 2,
   "metadata": {},
   "outputs": [
    {
     "name": "stdout",
     "output_type": "stream",
     "text": [
      "[32, 64, 128, 256, 512, 1024, 2048, 4096]\n"
     ]
    }
   ],
   "source": [
    "dims = [5,6,7,8,9,10,11,12]\n",
    "dims = map(lambda x: 2**x, dims)\n",
    "print dims"
   ]
  },
  {
   "cell_type": "code",
   "execution_count": 3,
   "metadata": {},
   "outputs": [
    {
     "name": "stdout",
     "output_type": "stream",
     "text": [
      "Dims:[32, 64, 128, 256, 512, 1024, 2048, 4096]\n",
      "\n",
      "CPU:[0.008621931076049805, 0.014156103134155273, 0.03694796562194824, 0.10738205909729004, 0.35481905937194824, 1.6842892169952393, 8.45430302619934, 33.38830590248108]\n",
      "\n",
      "GPU:[4.924138784408569, 0.24214410781860352, 0.2969059944152832, 0.3245220184326172, 0.5727369785308838, 1.2459330558776855, 4.425498962402344, 16.934237003326416]\n"
     ]
    }
   ],
   "source": [
    "f = open('GPU_Benchmark.txt')\n",
    "buff = []\n",
    "CPU =[]\n",
    "GPU = []\n",
    "for line in f:\n",
    "    \n",
    "    left = line.split(']')\n",
    "    print line\n",
    "    if 'CPU' in line:\n",
    "        CPU = line[5:]\n",
    "    elif 'GPU' in line:\n",
    "        GPU = line[5:]"
   ]
  },
  {
   "cell_type": "code",
   "execution_count": 4,
   "metadata": {},
   "outputs": [
    {
     "name": "stdout",
     "output_type": "stream",
     "text": [
      "['0.008621931076049805', ' 0.014156103134155273', ' 0.03694796562194824', ' 0.10738205909729004', ' 0.35481905937194824', ' 1.6842892169952393', ' 8.45430302619934', ' 33.38830590248108]\\n']\n"
     ]
    }
   ],
   "source": [
    "CPU = CPU.split(',')\n",
    "print CPU\n",
    "newCPU = []\n",
    "for val in CPU:\n",
    "  newCPU.append(float(val[:8]))"
   ]
  },
  {
   "cell_type": "code",
   "execution_count": 5,
   "metadata": {},
   "outputs": [
    {
     "name": "stdout",
     "output_type": "stream",
     "text": [
      "['4.924138784408569', ' 0.24214410781860352', ' 0.2969059944152832', ' 0.3245220184326172', ' 0.5727369785308838', ' 1.2459330558776855', ' 4.425498962402344', ' 16.934237003326416]']\n"
     ]
    }
   ],
   "source": [
    "GPU = GPU.split(',')\n",
    "print GPU\n",
    "newGPU = []\n",
    "for val in GPU:\n",
    "  newGPU.append(float(val[:8]))"
   ]
  },
  {
   "cell_type": "code",
   "execution_count": 8,
   "metadata": {},
   "outputs": [
    {
     "name": "stdout",
     "output_type": "stream",
     "text": [
      "(8,)\n",
      "(8,)\n"
     ]
    }
   ],
   "source": [
    "print np.shape(dims)\n",
    "print np.shape(newCPU)"
   ]
  },
  {
   "cell_type": "code",
   "execution_count": 15,
   "metadata": {},
   "outputs": [],
   "source": [
    "#ax = plt.subplot(111)\n",
    "#ax.plot(dims,newCPU,'bo',markersize=12)\n",
    "#ax.plot(dims,newGPU,color='orange',marker='h',linewidth=0,markersize=12)\n",
    "#ax.set_ylabel(\"Time (s)\",fontsize=18)\n",
    "#ax.set_xlabel('X and Y Dimensions (Pixels)',fontsize=18)\n",
    "\n",
    "plt.figure()\n",
    "plt.plot(dims,newCPU,'b',markersize=12,label='CPU')\n",
    "plt.plot(dims,newGPU,'r',markersize=12,label='GPU')\n",
    "plt.ylabel(\"Time (s)\",fontsize=18)\n",
    "plt.xlabel('N (Pixels)',fontsize=18)\n",
    "plt.legend(loc='best',fontsize=15)\n",
    "\n",
    "#locs = [0., 200., 400., 600., 800.]\n",
    "#labels = ('0', '200', '400', '600', '800')\n",
    "#locs,labels = plt.yticks()\n",
    "#plt.yticks(locs,labels,fontsize=12)\n",
    "\n",
    "#xlocs = [0., 100., 200., 300., 400., 500., 600.]\n",
    "#xlabels = ['0', '100', '200', '300', '400', '500', '600']\n",
    "#plt.xticks(xlocs,xlabels,fontsize=12)\n",
    "\n",
    "plt.title(\"Computational Time for N x N Synthetic Image\",fontsize=24)\n",
    "plt.show()\n",
    "\n",
    "plt.gcf().savefig('GPU_Benchmarking.png')"
   ]
  },
  {
   "cell_type": "code",
   "execution_count": 7,
   "metadata": {},
   "outputs": [],
   "source": []
  },
  {
   "cell_type": "code",
   "execution_count": 7,
   "metadata": {},
   "outputs": [],
   "source": []
  },
  {
   "cell_type": "code",
   "execution_count": 7,
   "metadata": {},
   "outputs": [],
   "source": []
  },
  {
   "cell_type": "code",
   "execution_count": 7,
   "metadata": {},
   "outputs": [],
   "source": []
  }
 ],
 "metadata": {
  "kernelspec": {
   "display_name": "Python 2",
   "language": "python",
   "name": "python2"
  },
  "language_info": {
   "codemirror_mode": {
    "name": "ipython",
    "version": 2
   },
   "file_extension": ".py",
   "mimetype": "text/x-python",
   "name": "python",
   "nbconvert_exporter": "python",
   "pygments_lexer": "ipython2",
   "version": "2.7.5"
  }
 },
 "nbformat": 4,
 "nbformat_minor": 1
}
