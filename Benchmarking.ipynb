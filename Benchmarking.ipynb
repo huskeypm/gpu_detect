{
 "metadata": {
  "kernelspec": {
   "display_name": "Python 2",
   "language": "python",
   "name": "python2"
  },
  "language_info": {
   "codemirror_mode": {
    "name": "ipython",
    "version": 2
   },
   "file_extension": ".py",
   "mimetype": "text/x-python",
   "name": "python",
   "nbconvert_exporter": "python",
   "pygments_lexer": "ipython2",
   "version": "2.7.9"
  },
  "name": "",
  "signature": "sha256:aa57df78427a88b3c195e8cf0682ed64205deb2ca5e527a25a48ae915d01b2b3"
 },
 "nbformat": 3,
 "nbformat_minor": 0,
 "worksheets": [
  {
   "cells": [
    {
     "cell_type": "code",
     "collapsed": false,
     "input": [
      "\n",
      "import matplotlib.pylab as plt\n",
      "plt.rcParams['figure.figsize'] = [10,8]"
     ],
     "language": "python",
     "metadata": {},
     "outputs": [],
     "prompt_number": 1
    },
    {
     "cell_type": "markdown",
     "metadata": {},
     "source": [
      "### Use dimensions used in threeDtense.py"
     ]
    },
    {
     "cell_type": "code",
     "collapsed": false,
     "input": [
      "dims = [5,6,7,8,9]\n",
      "dims = map(lambda x: 2**x, dims)\n",
      "print dims"
     ],
     "language": "python",
     "metadata": {},
     "outputs": [
      {
       "output_type": "stream",
       "stream": "stdout",
       "text": [
        "[32, 64, 128, 256, 512]\n"
       ]
      }
     ],
     "prompt_number": 2
    },
    {
     "cell_type": "code",
     "collapsed": false,
     "input": [
      "f = open('GPU_Benchmark.txt')\n",
      "buff = []\n",
      "CPU =[]\n",
      "GPU = []\n",
      "for line in f:\n",
      "    \n",
      "    left = line.split(']')\n",
      "    print line\n",
      "    if 'CPU' in line:\n",
      "        CPU = line[5:]\n",
      "    elif 'GPU' in line:\n",
      "        GPU = line[5:]"
     ],
     "language": "python",
     "metadata": {},
     "outputs": [
      {
       "output_type": "stream",
       "stream": "stdout",
       "text": [
        "Dims:[32, 64, 128, 256, 512]\n",
        "\n",
        "CPU:[85.67362785339355, 210.04167079925537, 344.90810990333557, 493.27536487579346, 928.0093641281128]\n",
        "\n",
        "GPU:[8.850283145904541, 8.831270933151245, 15.478039979934692, 31.2034170627594, 77.4319818019867]\n"
       ]
      }
     ],
     "prompt_number": 3
    },
    {
     "cell_type": "code",
     "collapsed": false,
     "input": [
      "CPU = CPU.split(',')\n",
      "print CPU\n",
      "newCPU = []\n",
      "for val in CPU:\n",
      "  newCPU.append(float(val[:8]))"
     ],
     "language": "python",
     "metadata": {},
     "outputs": [
      {
       "output_type": "stream",
       "stream": "stdout",
       "text": [
        "['85.67362785339355', ' 210.04167079925537', ' 344.90810990333557', ' 493.27536487579346', ' 928.0093641281128]\\n']\n"
       ]
      }
     ],
     "prompt_number": 4
    },
    {
     "cell_type": "code",
     "collapsed": false,
     "input": [
      "GPU = GPU.split(',')\n",
      "print GPU\n",
      "newGPU = []\n",
      "for val in GPU:\n",
      "  newGPU.append(float(val[:8]))"
     ],
     "language": "python",
     "metadata": {},
     "outputs": [
      {
       "output_type": "stream",
       "stream": "stdout",
       "text": [
        "['8.850283145904541', ' 8.831270933151245', ' 15.478039979934692', ' 31.2034170627594', ' 77.4319818019867]']\n"
       ]
      }
     ],
     "prompt_number": 5
    },
    {
     "cell_type": "code",
     "collapsed": false,
     "input": [
      "print np.shape(dims)\n",
      "print np.shape(newCPU)"
     ],
     "language": "python",
     "metadata": {},
     "outputs": [
      {
       "output_type": "stream",
       "stream": "stdout",
       "text": [
        "(5,)\n",
        "(5,)\n"
       ]
      }
     ],
     "prompt_number": 6
    },
    {
     "cell_type": "code",
     "collapsed": false,
     "input": [
      "#ax = plt.subplot(111)\n",
      "#ax.plot(dims,newCPU,'bo',markersize=12)\n",
      "#ax.plot(dims,newGPU,color='orange',marker='h',linewidth=0,markersize=12)\n",
      "#ax.set_ylabel(\"Time (s)\",fontsize=18)\n",
      "#ax.set_xlabel('X and Y Dimensions (Pixels)',fontsize=18)\n",
      "\n",
      "plt.figure()\n",
      "plt.plot(dims,newCPU,'bo',markersize=12,label='CPU')\n",
      "plt.plot(dims,newGPU,'ro',markersize=12,label='GPU')\n",
      "plt.ylabel(\"Time (s)\",fontsize=18)\n",
      "plt.xlabel('N (Pixels)',fontsize=18)\n",
      "plt.legend(loc='center right',fontsize=15)\n",
      "\n",
      "locs = [0., 200., 400., 600., 800.]\n",
      "labels = ('0', '200', '400', '600', '800')\n",
      "#locs,labels = plt.yticks()\n",
      "plt.yticks(locs,labels,fontsize=12)\n",
      "\n",
      "xlocs = [0., 100., 200., 300., 400., 500., 600.]\n",
      "xlabels = ['0', '100', '200', '300', '400', '500', '600']\n",
      "plt.xticks(xlocs,xlabels,fontsize=12)\n",
      "\n",
      "plt.title(\"Computational Time for N x N x 50 Pixel Sample Image\",fontsize=24)\n",
      "\n",
      "plt.gcf().savefig('GPU_Benchmarking.png')"
     ],
     "language": "python",
     "metadata": {},
     "outputs": [
      {
       "metadata": {},
       "output_type": "display_data",
       "png": "[encoded data removed]",
       "text": [
        "<matplotlib.figure.Figure at 0x7f005d186dd0>"
       ]
      }
     ],
     "prompt_number": 36
    },
    {
     "cell_type": "code",
     "collapsed": false,
     "input": [],
     "language": "python",
     "metadata": {},
     "outputs": [],
     "prompt_number": 7
    },
    {
     "cell_type": "code",
     "collapsed": false,
     "input": [],
     "language": "python",
     "metadata": {},
     "outputs": [],
     "prompt_number": 7
    },
    {
     "cell_type": "code",
     "collapsed": false,
     "input": [],
     "language": "python",
     "metadata": {},
     "outputs": [],
     "prompt_number": 7
    },
    {
     "cell_type": "code",
     "collapsed": false,
     "input": [],
     "language": "python",
     "metadata": {},
     "outputs": [],
     "prompt_number": 7
    }
   ],
   "metadata": {}
  }
 ]
}