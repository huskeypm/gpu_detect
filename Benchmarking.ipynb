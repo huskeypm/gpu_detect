{
 "cells": [
  {
   "cell_type": "code",
   "execution_count": 16,
   "metadata": {},
   "outputs": [],
   "source": [
    "import numpy as np\n",
    "import matplotlib.pylab as plt\n",
    "plt.rcParams['figure.figsize'] = [10,8]"
   ]
  },
  {
   "cell_type": "markdown",
   "metadata": {},
   "source": [
    "### Use dimensions used in threeDtense.py"
   ]
  },
  {
   "cell_type": "code",
   "execution_count": 17,
   "metadata": {},
   "outputs": [
    {
     "name": "stdout",
     "output_type": "stream",
     "text": [
      "[32, 64, 128, 256, 512, 1024, 2048, 4096]\n"
     ]
    }
   ],
   "source": [
    "dims = [5,6,7,8,9,10,11,12]\n",
    "dims = map(lambda x: 2**x, dims)\n",
    "print dims"
   ]
  },
  {
   "cell_type": "code",
   "execution_count": 18,
   "metadata": {},
   "outputs": [
    {
     "name": "stdout",
     "output_type": "stream",
     "text": [
      "Dims:[32, 64, 128, 256, 512, 1024, 2048, 4096]\n",
      "\n",
      "CPU:[0.0033898353576660156, 0.006250858306884766, 0.019554853439331055, 0.08075404167175293, 0.40062379837036133, 1.8461329936981201, 9.11604905128479, 33.419760942459106]\n",
      "\n",
      "GPU:[1.5572209358215332, 0.20785999298095703, 0.21825504302978516, 0.24437904357910156, 0.4566950798034668, 0.9293310642242432, 3.006897211074829, 10.759378910064697]\n"
     ]
    }
   ],
   "source": [
    "f = open('GPU_Benchmark.txt')\n",
    "buff = []\n",
    "CPU =[]\n",
    "GPU = []\n",
    "for line in f:\n",
    "    \n",
    "    left = line.split(']')\n",
    "    print line\n",
    "    if 'CPU' in line:\n",
    "        CPU = line[5:]\n",
    "    elif 'GPU' in line:\n",
    "        GPU = line[5:]"
   ]
  },
  {
   "cell_type": "code",
   "execution_count": 19,
   "metadata": {},
   "outputs": [
    {
     "name": "stdout",
     "output_type": "stream",
     "text": [
      "['0.0033898353576660156', ' 0.006250858306884766', ' 0.019554853439331055', ' 0.08075404167175293', ' 0.40062379837036133', ' 1.8461329936981201', ' 9.11604905128479', ' 33.419760942459106]\\n']\n"
     ]
    }
   ],
   "source": [
    "CPU = CPU.split(',')\n",
    "print CPU\n",
    "newCPU = []\n",
    "for val in CPU:\n",
    "  newCPU.append(float(val[:8]))"
   ]
  },
  {
   "cell_type": "code",
   "execution_count": 20,
   "metadata": {},
   "outputs": [
    {
     "name": "stdout",
     "output_type": "stream",
     "text": [
      "['1.5572209358215332', ' 0.20785999298095703', ' 0.21825504302978516', ' 0.24437904357910156', ' 0.4566950798034668', ' 0.9293310642242432', ' 3.006897211074829', ' 10.759378910064697]']\n"
     ]
    }
   ],
   "source": [
    "GPU = GPU.split(',')\n",
    "print GPU\n",
    "newGPU = []\n",
    "for val in GPU:\n",
    "  newGPU.append(float(val[:8]))"
   ]
  },
  {
   "cell_type": "code",
   "execution_count": 24,
   "metadata": {},
   "outputs": [
    {
     "name": "stdout",
     "output_type": "stream",
     "text": [
      "[2.17631420e-03 3.00697618e-02 8.95761741e-02 3.30441544e-01\n",
      " 8.77225251e-01 1.98651717e+00 3.03171716e+00 3.10612215e+00]\n"
     ]
    }
   ],
   "source": [
    "print np.asarray(newCPU)/np.asarray(newGPU)"
   ]
  },
  {
   "cell_type": "code",
   "execution_count": 21,
   "metadata": {},
   "outputs": [
    {
     "name": "stdout",
     "output_type": "stream",
     "text": [
      "(8,)\n",
      "(8,)\n"
     ]
    }
   ],
   "source": [
    "print np.shape(dims)\n",
    "print np.shape(newCPU)"
   ]
  },
  {
   "cell_type": "code",
   "execution_count": 23,
   "metadata": {},
   "outputs": [],
   "source": [
    "#ax = plt.subplot(111)\n",
    "#ax.plot(dims,newCPU,'bo',markersize=12)\n",
    "#ax.plot(dims,newGPU,color='orange',marker='h',linewidth=0,markersize=12)\n",
    "#ax.set_ylabel(\"Time (s)\",fontsize=18)\n",
    "#ax.set_xlabel('X and Y Dimensions (Pixels)',fontsize=18)\n",
    "\n",
    "plt.figure()\n",
    "plt.plot(dims,newCPU,'b',markersize=12,label='CPU')\n",
    "plt.plot(dims,newGPU,'r',markersize=12,label='GPU')\n",
    "plt.ylabel(\"Time (s)\",fontsize=18)\n",
    "plt.xlabel('N (Pixels)',fontsize=18)\n",
    "plt.legend(loc='best',fontsize=15)\n",
    "\n",
    "#locs = [0., 200., 400., 600., 800.]\n",
    "#labels = ('0', '200', '400', '600', '800')\n",
    "#locs,labels = plt.yticks()\n",
    "#plt.yticks(locs,labels,fontsize=12)\n",
    "\n",
    "#xlocs = [0., 100., 200., 300., 400., 500., 600.]\n",
    "#xlabels = ['0', '100', '200', '300', '400', '500', '600']\n",
    "#plt.xticks(xlocs,xlabels,fontsize=12)\n",
    "\n",
    "plt.title(\"Computational Time for N x N Synthetic Image\",fontsize=24)\n",
    "#plt.show()\n",
    "\n",
    "plt.gcf().savefig('GPU_Benchmarking.png')"
   ]
  },
  {
   "cell_type": "code",
   "execution_count": null,
   "metadata": {},
   "outputs": [],
   "source": []
  },
  {
   "cell_type": "code",
   "execution_count": 7,
   "metadata": {},
   "outputs": [],
   "source": []
  },
  {
   "cell_type": "code",
   "execution_count": 7,
   "metadata": {},
   "outputs": [],
   "source": []
  },
  {
   "cell_type": "code",
   "execution_count": 7,
   "metadata": {},
   "outputs": [],
   "source": []
  }
 ],
 "metadata": {
  "kernelspec": {
   "display_name": "Python 2",
   "language": "python",
   "name": "python2"
  },
  "language_info": {
   "codemirror_mode": {
    "name": "ipython",
    "version": 2
   },
   "file_extension": ".py",
   "mimetype": "text/x-python",
   "name": "python",
   "nbconvert_exporter": "python",
   "pygments_lexer": "ipython2",
   "version": "2.7.5"
  }
 },
 "nbformat": 4,
 "nbformat_minor": 1
}
