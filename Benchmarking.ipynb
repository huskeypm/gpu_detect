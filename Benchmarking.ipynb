{
 "metadata": {
  "kernelspec": {
   "display_name": "Python 2",
   "language": "python",
   "name": "python2"
  },
  "language_info": {
   "codemirror_mode": {
    "name": "ipython",
    "version": 2
   },
   "file_extension": ".py",
   "mimetype": "text/x-python",
   "name": "python",
   "nbconvert_exporter": "python",
   "pygments_lexer": "ipython2",
   "version": "2.7.9"
  },
  "name": "",
  "signature": "sha256:32fabe30c8226fc9b651528cf2e8cd2b77027739cd2c13e622db16e98fa5e64c"
 },
 "nbformat": 3,
 "nbformat_minor": 0,
 "worksheets": [
  {
   "cells": [
    {
     "cell_type": "code",
     "collapsed": false,
     "input": [
      "%matplotlib inline\n",
      "import matplotlib.pylab as plt"
     ],
     "language": "python",
     "metadata": {},
     "outputs": [],
     "prompt_number": 1
    },
    {
     "cell_type": "code",
     "collapsed": false,
     "input": [
      "dims = np.linspace(100,1000,10,endpoint=True)"
     ],
     "language": "python",
     "metadata": {},
     "outputs": [],
     "prompt_number": 2
    },
    {
     "cell_type": "code",
     "collapsed": false,
     "input": [],
     "language": "python",
     "metadata": {},
     "outputs": [],
     "prompt_number": 2
    },
    {
     "cell_type": "code",
     "collapsed": false,
     "input": [
      "f = open('GPU_Benchmark.txt')\n",
      "buff = []\n",
      "CPU =[]\n",
      "GPU = []\n",
      "for line in f:\n",
      "    \n",
      "    left = line.split(']')\n",
      "    print line\n",
      "    if 'CPU' in line:\n",
      "        CPU = line[5:]\n",
      "    elif 'GPU' in line:\n",
      "        GPU = line[5:]"
     ],
     "language": "python",
     "metadata": {},
     "outputs": [
      {
       "output_type": "stream",
       "stream": "stdout",
       "text": [
        "Dims:[   50.   145.   240.   335.   430.   525.   620.   715.   810.   905.\n",
        "\n",
        "  1000.]\n",
        "\n",
        "CPU:[0.004288911819458008, 0.0600888729095459, 0.12044310569763184, 0.4867238998413086, 0.6099350452423096, 0.7760539054870605, 1.1808161735534668, 1.4128141403198242, 1.7841711044311523, 6.8919618129730225, 2.53515887260437]\n",
        "\n",
        "GPU:[0.7222499847412109, 0.02385997772216797, 0.02797102928161621, 0.08051514625549316, 0.07468104362487793, 0.1623070240020752, 0.18862700462341309, 0.37892723083496094, 0.4162881374359131, 0.72599196434021, 1.0480501651763916]\n"
       ]
      }
     ],
     "prompt_number": 3
    },
    {
     "cell_type": "code",
     "collapsed": false,
     "input": [
      "CPU = CPU.split(',')\n",
      "print CPU\n",
      "newCPU = []\n",
      "for val in CPU:\n",
      "  newCPU.append(float(val[:8]))"
     ],
     "language": "python",
     "metadata": {},
     "outputs": [
      {
       "output_type": "stream",
       "stream": "stdout",
       "text": [
        "['0.004288911819458008', ' 0.0600888729095459', ' 0.12044310569763184', ' 0.4867238998413086', ' 0.6099350452423096', ' 0.7760539054870605', ' 1.1808161735534668', ' 1.4128141403198242', ' 1.7841711044311523', ' 6.8919618129730225', ' 2.53515887260437]\\n']\n"
       ]
      }
     ],
     "prompt_number": 4
    },
    {
     "cell_type": "code",
     "collapsed": false,
     "input": [
      "GPU = GPU.split(',')\n",
      "print GPU\n",
      "newGPU = []\n",
      "for val in GPU:\n",
      "  newGPU.append(float(val[:8]))"
     ],
     "language": "python",
     "metadata": {},
     "outputs": [
      {
       "output_type": "stream",
       "stream": "stdout",
       "text": [
        "['0.7222499847412109', ' 0.02385997772216797', ' 0.02797102928161621', ' 0.08051514625549316', ' 0.07468104362487793', ' 0.1623070240020752', ' 0.18862700462341309', ' 0.37892723083496094', ' 0.4162881374359131', ' 0.72599196434021', ' 1.0480501651763916]']\n"
       ]
      }
     ],
     "prompt_number": 5
    },
    {
     "cell_type": "code",
     "collapsed": false,
     "input": [
      "print np.shape(dims)\n",
      "print np.shape(newCPU[1:])"
     ],
     "language": "python",
     "metadata": {},
     "outputs": [
      {
       "output_type": "stream",
       "stream": "stdout",
       "text": [
        "(10,)\n",
        "(10,)\n"
       ]
      }
     ],
     "prompt_number": 6
    },
    {
     "cell_type": "code",
     "collapsed": false,
     "input": [
      "plt.figure()\n",
      "plt.ylabel(\"Time (s)\")\n",
      "plt.xlabel('Dimensions of side of a square (Pixels)')\n",
      "plt.plot(dims,newCPU[1:],'.')\n",
      "plt.hold(\"on\")\n",
      "plt.plot(dims,newGPU[1:],'-')\n",
      "plt.hold(\"off\")"
     ],
     "language": "python",
     "metadata": {},
     "outputs": [
      {
       "metadata": {},
       "output_type": "display_data",
       "png": "[encoded data removed]",
       "text": [
        "<matplotlib.figure.Figure at 0x7f7a812daa50>"
       ]
      }
     ],
     "prompt_number": 7
    },
    {
     "cell_type": "code",
     "collapsed": false,
     "input": [],
     "language": "python",
     "metadata": {},
     "outputs": [],
     "prompt_number": 73
    },
    {
     "cell_type": "code",
     "collapsed": false,
     "input": [],
     "language": "python",
     "metadata": {},
     "outputs": [],
     "prompt_number": 73
    },
    {
     "cell_type": "code",
     "collapsed": false,
     "input": [],
     "language": "python",
     "metadata": {},
     "outputs": [],
     "prompt_number": 67
    },
    {
     "cell_type": "code",
     "collapsed": false,
     "input": [],
     "language": "python",
     "metadata": {},
     "outputs": [],
     "prompt_number": null
    }
   ],
   "metadata": {}
  }
 ]
}