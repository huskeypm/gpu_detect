{
 "metadata": {
  "name": "",
  "signature": "sha256:6c9adbebfc2fe65de8838823a26799d2ece94d8df7118d4bf545077b8fce4269"
 },
 "nbformat": 3,
 "nbformat_minor": 0,
 "worksheets": [
  {
   "cells": [
    {
     "cell_type": "markdown",
     "metadata": {},
     "source": [
      "Notebook to save the tissue image into managable 2000x2000 chunks so that we can perform the bootstrapping"
     ]
    },
    {
     "cell_type": "code",
     "collapsed": false,
     "input": [
      "import numpy as np\n",
      "import tissue\n",
      "import cv2\n",
      "%load_ext autoreload\n",
      "%autoreload 2\n",
      "\n",
      "class empty: pass"
     ],
     "language": "python",
     "metadata": {},
     "outputs": [
      {
       "output_type": "stream",
       "stream": "stderr",
       "text": [
        "/u2/dfco222/scratch/gpu_detect/gpu/simple_GPU_MF.py:4: UserWarning: \n",
        "This call to matplotlib.use() has no effect because the backend has already\n",
        "been chosen; matplotlib.use() must be called *before* pylab, matplotlib.pyplot,\n",
        "or matplotlib.backends is imported for the first time.\n",
        "\n",
        "The backend was *originally* set to 'module://IPython.kernel.zmq.pylab.backend_inline' by the following code:\n",
        "  File \"<string>\", line 1, in <module>\n",
        "  File \"/usr/lib/python2.7/dist-packages/IPython/kernel/zmq/kernelapp.py\", line 468, in main\n",
        "    app.initialize()\n",
        "  File \"<decorator-gen-121>\", line 2, in initialize\n",
        "  File \"/usr/lib/python2.7/dist-packages/IPython/config/application.py\", line 92, in catch_config_error\n",
        "    return method(app, *args, **kwargs)\n",
        "  File \"/usr/lib/python2.7/dist-packages/IPython/kernel/zmq/kernelapp.py\", line 446, in initialize\n",
        "    self.init_gui_pylab()\n",
        "  File \"/usr/lib/python2.7/dist-packages/IPython/kernel/zmq/kernelapp.py\", line 420, in init_gui_pylab\n",
        "    InteractiveShellApp.init_gui_pylab(self)\n",
        "  File \"/usr/lib/python2.7/dist-packages/IPython/core/shellapp.py\", line 246, in init_gui_pylab\n",
        "    r = enable(key)\n",
        "  File \"/usr/lib/python2.7/dist-packages/IPython/core/shellapp.py\", line 233, in <lambda>\n",
        "    enable = lambda key: shell.enable_pylab(key, import_all=self.pylab_import_all)\n",
        "  File \"/usr/lib/python2.7/dist-packages/IPython/core/interactiveshell.py\", line 2982, in enable_pylab\n",
        "    gui, backend = self.enable_matplotlib(gui)\n",
        "  File \"/usr/lib/python2.7/dist-packages/IPython/core/interactiveshell.py\", line 2943, in enable_matplotlib\n",
        "    pt.activate_matplotlib(backend)\n",
        "  File \"/usr/lib/python2.7/dist-packages/IPython/core/pylabtools.py\", line 290, in activate_matplotlib\n",
        "    matplotlib.pyplot.switch_backend(backend)\n",
        "  File \"/home/AD/dfco222/.local/lib/python2.7/site-packages/matplotlib/pyplot.py\", line 231, in switch_backend\n",
        "    matplotlib.use(newbackend, warn=False, force=True)\n",
        "  File \"/home/AD/dfco222/.local/lib/python2.7/site-packages/matplotlib/__init__.py\", line 1410, in use\n",
        "    reload(sys.modules['matplotlib.backends'])\n",
        "  File \"/home/AD/dfco222/.local/lib/python2.7/site-packages/matplotlib/backends/__init__.py\", line 16, in <module>\n",
        "    line for line in traceback.format_stack()\n",
        "\n",
        "\n",
        "  matplotlib.use('Agg')\n"
       ]
      }
     ],
     "prompt_number": 1
    },
    {
     "cell_type": "code",
     "collapsed": false,
     "input": [
      "rowExtent = 19595 #[px]"
     ],
     "language": "python",
     "metadata": {},
     "outputs": [],
     "prompt_number": 2
    },
    {
     "cell_type": "code",
     "collapsed": false,
     "input": [
      "distalExtent = rowExtent / 3\n",
      "print \"distal extent [px]:\",distalExtent\n",
      "\n",
      "medialExtent = rowExtent / 3 * 2\n",
      "print \"medial extent [px]:\",medialExtent\n",
      "\n",
      "proximalExtent = rowExtent\n",
      "print \"proximal extent [px]:\",proximalExtent"
     ],
     "language": "python",
     "metadata": {},
     "outputs": [
      {
       "output_type": "stream",
       "stream": "stdout",
       "text": [
        "distal extent [px]: 6531\n",
        "medial extent [px]: 13062\n",
        "proximal extent [px]: 19595\n"
       ]
      }
     ],
     "prompt_number": 3
    },
    {
     "cell_type": "markdown",
     "metadata": {},
     "source": [
      "### Load in tissue image"
     ]
    },
    {
     "cell_type": "code",
     "collapsed": false,
     "input": [
      "#paramDict = tissue.SetupParams()\n",
      "params = tissue.params\n",
      "grayScaleTissue = tissue.Setup()\n",
      "print \"um per 2,000 pixels:\", 2000 / params.px_per_um[0], 2000 / params.px_per_um[1]"
     ],
     "language": "python",
     "metadata": {},
     "outputs": [
      {
       "output_type": "stream",
       "stream": "stdout",
       "text": [
        "um per 2,000 pixels: 399.757080888 399.756824064\n"
       ]
      }
     ],
     "prompt_number": 4
    },
    {
     "cell_type": "code",
     "collapsed": false,
     "input": [
      "imgDims = np.shape(grayScaleTissue)\n",
      "print imgDims"
     ],
     "language": "python",
     "metadata": {},
     "outputs": [
      {
       "output_type": "stream",
       "stream": "stdout",
       "text": [
        "(19595, 20479)\n"
       ]
      }
     ],
     "prompt_number": 5
    },
    {
     "cell_type": "markdown",
     "metadata": {},
     "source": [
      "### Apply CLAHE to full image to equalize dye heterogeneity\n",
      "Second argument coincides with a CLAHE tile grid size 1/8 that of the entire image"
     ]
    },
    {
     "cell_type": "code",
     "collapsed": false,
     "input": [
      "import preprocessing as pp\n",
      "grayScaleTissue = pp.applyCLAHE(grayScaleTissue,imgDims[0]/8)"
     ],
     "language": "python",
     "metadata": {},
     "outputs": [
      {
       "output_type": "stream",
       "stream": "stdout",
       "text": [
        "Applying CLAHE to Myocyte\n"
       ]
      }
     ],
     "prompt_number": 6
    },
    {
     "cell_type": "markdown",
     "metadata": {},
     "source": [
      "### scale image intensity s.t. we can actually see the images"
     ]
    },
    {
     "cell_type": "code",
     "collapsed": false,
     "input": [
      "tissueMax = np.max(grayScaleTissue)\n",
      "print tissueMax\n",
      "grayScaleTissue = grayScaleTissue.astype(np.float32)\n",
      "grayScaleTissue *= 255. / float(tissueMax)\n",
      "grayScaleTissue = grayScaleTissue.astype(np.uint8)"
     ],
     "language": "python",
     "metadata": {},
     "outputs": [
      {
       "output_type": "stream",
       "stream": "stdout",
       "text": [
        "70\n"
       ]
      }
     ],
     "prompt_number": 7
    },
    {
     "cell_type": "markdown",
     "metadata": {},
     "source": [
      "### Chunk up image in 2000x2000 subimages"
     ]
    },
    {
     "cell_type": "code",
     "collapsed": false,
     "input": [
      "oldI = 0\n",
      "oldJ = 0\n",
      "i = 2000\n",
      "j = 2000\n",
      "imgTwoSarcSize = 22\n",
      "scale = float(filterTwoSarcomereSize) / float(imgTwoSarcSize)\n",
      "distalNames = []\n",
      "proximalNames = []\n",
      "while i < imgDims[0]:\n",
      "    while j < imgDims[1]:\n",
      "        # determine if distal\n",
      "        if i < distalExtent:\n",
      "            fileName = 'infarctTissue_distal_row'+str(oldI)+'_col'+str(oldJ)+'.png'\n",
      "            img = grayScaleTissue[oldI:i,oldJ:j].copy()\n",
      "            \n",
      "            \n",
      "            case.subregion = cv2.resize(case.subregion,None,fx=scale,fy=scale,interpolation=cv2.INTER_CUBIC)\n",
      "            cv2.imwrite(fileName,img)\n",
      "            print \"Wrote:\",fileName\n",
      "            distalNames.append(fileName)\n",
      "        elif i > medialExtent and i < proximalExtent:\n",
      "            fileName = 'infarctTissue_proximal_row'+str(oldI)+'_col'+str(oldJ)+'.png'\n",
      "            img = grayScaleTissue[oldI:i,oldJ:j].copy()\n",
      "            cv2.imwrite(fileName,img)\n",
      "            print \"Wrote:\",fileName\n",
      "            proximalNames.append(fileName)\n",
      "        \n",
      "        oldJ = j \n",
      "        j += 2000\n",
      "    j = 2000\n",
      "    oldJ = 0\n",
      "    oldI = i\n",
      "    i += 2000"
     ],
     "language": "python",
     "metadata": {},
     "outputs": [
      {
       "output_type": "stream",
       "stream": "stdout",
       "text": [
        "Wrote: infarctTissue_distal_row0_col0.png\n",
        "Wrote: infarctTissue_distal_row0_col2000.png\n",
        "Wrote:"
       ]
      },
      {
       "output_type": "stream",
       "stream": "stdout",
       "text": [
        " infarctTissue_distal_row0_col4000.png\n",
        "Wrote: infarctTissue_distal_row0_col6000.png\n",
        "Wrote:"
       ]
      },
      {
       "output_type": "stream",
       "stream": "stdout",
       "text": [
        " infarctTissue_distal_row0_col8000.png\n",
        "Wrote:"
       ]
      },
      {
       "output_type": "stream",
       "stream": "stdout",
       "text": [
        " infarctTissue_distal_row0_col10000.png\n",
        "Wrote:"
       ]
      },
      {
       "output_type": "stream",
       "stream": "stdout",
       "text": [
        " infarctTissue_distal_row0_col12000.png\n",
        "Wrote:"
       ]
      },
      {
       "output_type": "stream",
       "stream": "stdout",
       "text": [
        " infarctTissue_distal_row0_col14000.png\n",
        "Wrote:"
       ]
      },
      {
       "output_type": "stream",
       "stream": "stdout",
       "text": [
        " infarctTissue_distal_row0_col16000.png\n",
        "Wrote:"
       ]
      },
      {
       "output_type": "stream",
       "stream": "stdout",
       "text": [
        " infarctTissue_distal_row0_col18000.png\n",
        "Wrote: infarctTissue_distal_row2000_col0.png\n",
        "Wrote:"
       ]
      },
      {
       "output_type": "stream",
       "stream": "stdout",
       "text": [
        " infarctTissue_distal_row2000_col2000.png\n",
        "Wrote:"
       ]
      },
      {
       "output_type": "stream",
       "stream": "stdout",
       "text": [
        " infarctTissue_distal_row2000_col4000.png\n",
        "Wrote:"
       ]
      },
      {
       "output_type": "stream",
       "stream": "stdout",
       "text": [
        " infarctTissue_distal_row2000_col6000.png\n",
        "Wrote:"
       ]
      },
      {
       "output_type": "stream",
       "stream": "stdout",
       "text": [
        " infarctTissue_distal_row2000_col8000.png\n",
        "Wrote:"
       ]
      },
      {
       "output_type": "stream",
       "stream": "stdout",
       "text": [
        " infarctTissue_distal_row2000_col10000.png\n",
        "Wrote:"
       ]
      },
      {
       "output_type": "stream",
       "stream": "stdout",
       "text": [
        " infarctTissue_distal_row2000_col12000.png\n",
        "Wrote:"
       ]
      },
      {
       "output_type": "stream",
       "stream": "stdout",
       "text": [
        " infarctTissue_distal_row2000_col14000.png\n",
        "Wrote:"
       ]
      },
      {
       "output_type": "stream",
       "stream": "stdout",
       "text": [
        " infarctTissue_distal_row2000_col16000.png\n",
        "Wrote:"
       ]
      },
      {
       "output_type": "stream",
       "stream": "stdout",
       "text": [
        " infarctTissue_distal_row2000_col18000.png\n",
        "Wrote: infarctTissue_distal_row4000_col0.png\n",
        "Wrote:"
       ]
      },
      {
       "output_type": "stream",
       "stream": "stdout",
       "text": [
        " infarctTissue_distal_row4000_col2000.png\n",
        "Wrote:"
       ]
      },
      {
       "output_type": "stream",
       "stream": "stdout",
       "text": [
        " infarctTissue_distal_row4000_col4000.png\n",
        "Wrote:"
       ]
      },
      {
       "output_type": "stream",
       "stream": "stdout",
       "text": [
        " infarctTissue_distal_row4000_col6000.png\n",
        "Wrote:"
       ]
      },
      {
       "output_type": "stream",
       "stream": "stdout",
       "text": [
        " infarctTissue_distal_row4000_col8000.png\n",
        "Wrote:"
       ]
      },
      {
       "output_type": "stream",
       "stream": "stdout",
       "text": [
        " infarctTissue_distal_row4000_col10000.png\n",
        "Wrote:"
       ]
      },
      {
       "output_type": "stream",
       "stream": "stdout",
       "text": [
        " infarctTissue_distal_row4000_col12000.png\n",
        "Wrote:"
       ]
      },
      {
       "output_type": "stream",
       "stream": "stdout",
       "text": [
        " infarctTissue_distal_row4000_col14000.png\n",
        "Wrote:"
       ]
      },
      {
       "output_type": "stream",
       "stream": "stdout",
       "text": [
        " infarctTissue_distal_row4000_col16000.png\n",
        "Wrote:"
       ]
      },
      {
       "output_type": "stream",
       "stream": "stdout",
       "text": [
        " infarctTissue_distal_row4000_col18000.png\n",
        "Wrote:"
       ]
      },
      {
       "output_type": "stream",
       "stream": "stdout",
       "text": [
        " infarctTissue_proximal_row12000_col0.png\n",
        "Wrote:"
       ]
      },
      {
       "output_type": "stream",
       "stream": "stdout",
       "text": [
        " infarctTissue_proximal_row12000_col2000.png\n",
        "Wrote:"
       ]
      },
      {
       "output_type": "stream",
       "stream": "stdout",
       "text": [
        " infarctTissue_proximal_row12000_col4000.png\n",
        "Wrote:"
       ]
      },
      {
       "output_type": "stream",
       "stream": "stdout",
       "text": [
        " infarctTissue_proximal_row12000_col6000.png\n",
        "Wrote:"
       ]
      },
      {
       "output_type": "stream",
       "stream": "stdout",
       "text": [
        " infarctTissue_proximal_row12000_col8000.png\n",
        "Wrote:"
       ]
      },
      {
       "output_type": "stream",
       "stream": "stdout",
       "text": [
        " infarctTissue_proximal_row12000_col10000.png\n",
        "Wrote:"
       ]
      },
      {
       "output_type": "stream",
       "stream": "stdout",
       "text": [
        " infarctTissue_proximal_row12000_col12000.png\n",
        "Wrote:"
       ]
      },
      {
       "output_type": "stream",
       "stream": "stdout",
       "text": [
        " infarctTissue_proximal_row12000_col14000.png\n",
        "Wrote:"
       ]
      },
      {
       "output_type": "stream",
       "stream": "stdout",
       "text": [
        " infarctTissue_proximal_row12000_col16000.png\n",
        "Wrote:"
       ]
      },
      {
       "output_type": "stream",
       "stream": "stdout",
       "text": [
        " infarctTissue_proximal_row12000_col18000.png\n",
        "Wrote: infarctTissue_proximal_row14000_col0.png\n",
        "Wrote:"
       ]
      },
      {
       "output_type": "stream",
       "stream": "stdout",
       "text": [
        " infarctTissue_proximal_row14000_col2000.png\n",
        "Wrote:"
       ]
      },
      {
       "output_type": "stream",
       "stream": "stdout",
       "text": [
        " infarctTissue_proximal_row14000_col4000.png\n",
        "Wrote:"
       ]
      },
      {
       "output_type": "stream",
       "stream": "stdout",
       "text": [
        " infarctTissue_proximal_row14000_col6000.png\n",
        "Wrote:"
       ]
      },
      {
       "output_type": "stream",
       "stream": "stdout",
       "text": [
        " infarctTissue_proximal_row14000_col8000.png\n",
        "Wrote:"
       ]
      },
      {
       "output_type": "stream",
       "stream": "stdout",
       "text": [
        " infarctTissue_proximal_row14000_col10000.png\n",
        "Wrote:"
       ]
      },
      {
       "output_type": "stream",
       "stream": "stdout",
       "text": [
        " infarctTissue_proximal_row14000_col12000.png\n",
        "Wrote:"
       ]
      },
      {
       "output_type": "stream",
       "stream": "stdout",
       "text": [
        " infarctTissue_proximal_row14000_col14000.png\n",
        "Wrote:"
       ]
      },
      {
       "output_type": "stream",
       "stream": "stdout",
       "text": [
        " infarctTissue_proximal_row14000_col16000.png\n",
        "Wrote:"
       ]
      },
      {
       "output_type": "stream",
       "stream": "stdout",
       "text": [
        " infarctTissue_proximal_row14000_col18000.png\n",
        "Wrote: infarctTissue_proximal_row16000_col0.png\n",
        "Wrote:"
       ]
      },
      {
       "output_type": "stream",
       "stream": "stdout",
       "text": [
        " infarctTissue_proximal_row16000_col2000.png\n",
        "Wrote:"
       ]
      },
      {
       "output_type": "stream",
       "stream": "stdout",
       "text": [
        " infarctTissue_proximal_row16000_col4000.png\n",
        "Wrote:"
       ]
      },
      {
       "output_type": "stream",
       "stream": "stdout",
       "text": [
        " infarctTissue_proximal_row16000_col6000.png\n",
        "Wrote:"
       ]
      },
      {
       "output_type": "stream",
       "stream": "stdout",
       "text": [
        " infarctTissue_proximal_row16000_col8000.png\n",
        "Wrote:"
       ]
      },
      {
       "output_type": "stream",
       "stream": "stdout",
       "text": [
        " infarctTissue_proximal_row16000_col10000.png\n",
        "Wrote:"
       ]
      },
      {
       "output_type": "stream",
       "stream": "stdout",
       "text": [
        " infarctTissue_proximal_row16000_col12000.png\n",
        "Wrote:"
       ]
      },
      {
       "output_type": "stream",
       "stream": "stdout",
       "text": [
        " infarctTissue_proximal_row16000_col14000.png\n",
        "Wrote:"
       ]
      },
      {
       "output_type": "stream",
       "stream": "stdout",
       "text": [
        " infarctTissue_proximal_row16000_col16000.png\n",
        "Wrote: infarctTissue_proximal_row16000_col18000.png\n"
       ]
      }
     ],
     "prompt_number": 28
    },
    {
     "cell_type": "markdown",
     "metadata": {},
     "source": [
      "### Went through and manually deleted incomplete subimages"
     ]
    },
    {
     "cell_type": "code",
     "collapsed": false,
     "input": [
      "import os\n",
      "\n",
      "name = 'infarctTissue_distal_row0_col0.png'\n",
      "os.system('rm '+name)\n",
      "distalNames.remove(name)\n",
      "\n",
      "name = 'infarctTissue_distal_row0_col2000.png'\n",
      "os.system('rm '+name)\n",
      "distalNames.remove(name)\n",
      "\n",
      "name = 'infarctTissue_distal_row4000_col0.png'\n",
      "os.system('rm '+name)\n",
      "distalNames.remove(name)\n",
      "\n",
      "#name = 'infarctTissue_distal_row2000_col20000.png'\n",
      "#os.system('rm '+name)\n",
      "#distalNames.remove(name)\n",
      "\n",
      "name = 'infarctTissue_distal_row2000_col2000.png'\n",
      "os.system('rm '+name)\n",
      "distalNames.remove(name)\n",
      "\n",
      "name = 'infarctTissue_distal_row2000_col0.png'\n",
      "os.system('rm '+name)\n",
      "distalNames.remove(name)\n",
      "\n",
      "name = 'infarctTissue_distal_row0_col4000.png'\n",
      "os.system('rm '+name)\n",
      "distalNames.remove(name)\n",
      "\n",
      "name = 'infarctTissue_distal_row0_col6000.png'\n",
      "os.system('rm '+name)\n",
      "distalNames.remove(name)\n",
      "\n",
      "name = 'infarctTissue_proximal_row12000_col0.png'\n",
      "os.system('rm '+name)\n",
      "proximalNames.remove(name)\n",
      "\n",
      "name = 'infarctTissue_proximal_row12000_col2000.png'\n",
      "os.system('rm '+name)\n",
      "proximalNames.remove(name)\n",
      "\n",
      "name = 'infarctTissue_proximal_row12000_col4000.png'\n",
      "os.system('rm '+name)\n",
      "proximalNames.remove(name)\n",
      "\n",
      "name = 'infarctTissue_proximal_row12000_col6000.png'\n",
      "os.system('rm '+name)\n",
      "proximalNames.remove(name)\n",
      "\n",
      "name = 'infarctTissue_proximal_row14000_col0.png'\n",
      "os.system('rm '+name)\n",
      "proximalNames.remove(name)\n",
      "\n",
      "name = 'infarctTissue_proximal_row14000_col2000.png'\n",
      "os.system('rm '+name)\n",
      "proximalNames.remove(name)\n",
      "\n",
      "name = 'infarctTissue_proximal_row14000_col4000.png'\n",
      "os.system('rm '+name)\n",
      "proximalNames.remove(name)\n",
      "\n",
      "name = 'infarctTissue_proximal_row14000_col6000.png'\n",
      "os.system('rm '+name)\n",
      "proximalNames.remove(name)\n",
      "\n",
      "name = 'infarctTissue_proximal_row16000_col0.png'\n",
      "os.system('rm '+name)\n",
      "proximalNames.remove(name)\n",
      "\n",
      "name = 'infarctTissue_proximal_row16000_col2000.png'\n",
      "os.system('rm '+name)\n",
      "proximalNames.remove(name)\n",
      "\n",
      "name = 'infarctTissue_proximal_row16000_col4000.png'\n",
      "os.system('rm '+name)\n",
      "proximalNames.remove(name)\n",
      "\n",
      "name = 'infarctTissue_proximal_row16000_col6000.png'\n",
      "os.system('rm '+name)\n",
      "proximalNames.remove(name)\n",
      "\n",
      "name = 'infarctTissue_proximal_row16000_col16000.png'\n",
      "os.system('rm '+name)\n",
      "proximalNames.remove(name)\n",
      "\n",
      "name = 'infarctTissue_proximal_row16000_col18000.png'\n",
      "os.system('rm '+name)\n",
      "proximalNames.remove(name)"
     ],
     "language": "python",
     "metadata": {},
     "outputs": [],
     "prompt_number": 30
    },
    {
     "cell_type": "code",
     "collapsed": false,
     "input": [
      "nDistal = 0\n",
      "nProximal = 0\n",
      "for name in os.listdir('./'):\n",
      "    if 'infarctTissue_distal' in name:\n",
      "        nDistal += 1\n",
      "    elif 'infarctTissue_proximal' in name:\n",
      "        nProximal += 1\n",
      "print 'Distal N =',nDistal\n",
      "print 'Proximal N =',nProximal"
     ],
     "language": "python",
     "metadata": {},
     "outputs": [
      {
       "output_type": "stream",
       "stream": "stdout",
       "text": [
        "Distal N = 23\n",
        "Proximal N = 16\n"
       ]
      }
     ],
     "prompt_number": 31
    },
    {
     "cell_type": "markdown",
     "metadata": {},
     "source": [
      "### Pare down the group with the larger amount of subimages to match the number of subimages in the smaller region\n",
      "Opting to do this in a random manner since this will cause the least amount of bias"
     ]
    },
    {
     "cell_type": "code",
     "collapsed": false,
     "input": [
      "Ncells = [nDistal,nProximal]\n",
      "minN = np.min(Ncells)\n",
      "argMinN = np.argmin(Ncells)\n",
      "\n",
      "randomizePopping = False\n",
      "if randomizePopping:\n",
      "    if argMinN == 0:\n",
      "        diff = nProximal - minN\n",
      "        while diff > 0:\n",
      "            # generate random number in range of the number of cells\n",
      "            index = np.random.randint(0,len(proximalNames)+1)\n",
      "            print index\n",
      "            proximalNames.pop(index)\n",
      "            diff -= 1\n",
      "    if argMinN == 1:\n",
      "        diff = nDistal - minN\n",
      "        while diff > 0:\n",
      "            # generate random number in range of the number of cells\n",
      "            index = np.random.randint(0,len(distalNames)+1)\n",
      "            print index\n",
      "            distalNames.pop(index)\n",
      "            diff -= 1\n",
      "    print \"N Distal:\",len(distalNames)\n",
      "    print \"N Proximal:\",len(proximalNames)\n",
      "    \n",
      "else:\n",
      "    ### we randomly did this earlier, so taking the integers from the random number generator so we can reproduce the exact same data\n",
      "    ## popping the indexes in order\n",
      "    distalNames.pop(21)\n",
      "    distalNames.pop(7)\n",
      "    distalNames.pop(4)\n",
      "    distalNames.pop(9)\n",
      "    distalNames.pop(9)\n",
      "    distalNames.pop(8)\n",
      "    distalNames.pop(9)"
     ],
     "language": "python",
     "metadata": {},
     "outputs": [
      {
       "output_type": "stream",
       "stream": "stdout",
       "text": [
        "21\n",
        "7\n",
        "4\n",
        "9\n",
        "9\n",
        "8\n",
        "9\n",
        "N Distal: 16\n",
        "N Proximal: 16\n"
       ]
      }
     ],
     "prompt_number": 32
    },
    {
     "cell_type": "markdown",
     "metadata": {},
     "source": [
      "### Now we orient the images"
     ]
    },
    {
     "cell_type": "code",
     "collapsed": false,
     "input": [
      "preprocessImages = False\n",
      "if preprocessImages:\n",
      "    import os \n",
      "    import util\n",
      "    import preprocessing as pp\n",
      "    orientationDict = {}\n",
      "    for name in os.listdir('./'):\n",
      "        if \"infarctTissue\" in name:\n",
      "            img = util.ReadImg(name)#.astype(np.float32)\n",
      "            #img /= tissueMax\n",
      "            _, dOffCenter = pp.reorient(img)\n",
      "            orientationDict[name] = dOffCenter\n",
      "    with open('./infarctedTissue_OrientationDictionary.pkl') as f:\n",
      "        pickle.dump(orientationDict,f)\n",
      "    print \"Preprocessed all images\"\n",
      "else:\n",
      "    with open('./infarctedTissue_OrientationDictionary.pkl') as blah:\n",
      "        orientationDict = pickle.load(blah)\n",
      "    print \"Loaded orientation dictionary from repo\""
     ],
     "language": "python",
     "metadata": {},
     "outputs": [
      {
       "output_type": "stream",
       "stream": "stdout",
       "text": [
        "Loaded orientation dictionary from repo\n"
       ]
      }
     ],
     "prompt_number": 39
    },
    {
     "cell_type": "code",
     "collapsed": false,
     "input": [
      "inputs = empty()\n",
      "inputs.useGPU = False\n",
      "ttFilterName = \"./myoimages/newSimpleWTFilter.png\"\n",
      "ttPunishmentName = \"./myoimages/newSimpleWTPunishmentFilter.png\"\n",
      "ltFilterName = \"./myoimages/LongitudinalFilter.png\"\n",
      "lossFilterName = \"./myoimages/LossFilter.png\"\n",
      "returnAngles = True\n",
      "\n",
      "import painter\n",
      "import display_util as du\n",
      "import myocyteFigs as mF\n",
      "\n",
      "ttFilter = util.LoadFilter(ttFilterName)\n",
      "ttY,ttX = util.measureFilterDimensions(ttFilter)\n",
      "\n",
      "proximalMeans = []\n",
      "distalMeans = []\n",
      "for name in os.listdir('./'):\n",
      "    if 'infarctTissue' in name:\n",
      "        print name\n",
      "        img = util.ReadImg(name).astype(np.float32)\n",
      "        img /= tissueMax\n",
      "        inputs.imgOrig = img\n",
      "        \n",
      "        # to account for rotations\n",
      "        degreesOffCenter = orientationDict[name]\n",
      "        iters = [-25,-20,-15,-10,-5,0,5,10,15,20,25] - degreesOffCenter \n",
      "        \n",
      "        ### do filtering for content\n",
      "        WTresults = mF.WT_Filtering(inputs,iters,ttFilterName,ttPunishmentName,None,None,returnAngles)\n",
      "        \n",
      "        WT_hits = painter.doLabel(WTresults,dx=ttX,dy=ttY,thresh=0)\n",
      "        \n",
      "        du.StackGrayBlueAlpha(img,WT_hits)\n",
      "        plt.show()\n",
      "        \n",
      "        WT_hits[WT_hits != 0] = 1\n",
      "        if 'proximal' in name:\n",
      "            proximalMeans.append(np.mean(WT_hits))\n",
      "        else:\n",
      "            distalMeans.append(np.mean(WT_hits))\n",
      "print \"Proximal Means\", proximalMeans\n",
      "print \"Distal Means\",distalMeans\n",
      "\n",
      "print \"Proximal Average Mean\",np.mean(proximalMeans)\n",
      "print \"Proximal Std Dev\",np.std(proximalMeans)\n",
      "print \"Distal Average Mean\",np.mean(distalMeans)\n",
      "print \"Distal Std Dev\",np.std(distalMeans)\n",
      "\n",
      "        \n",
      "        "
     ],
     "language": "python",
     "metadata": {},
     "outputs": [
      {
       "output_type": "stream",
       "stream": "stdout",
       "text": [
        "Comment out for HESSE\n",
        "filter y,x: 10 19\n",
        "infarctTissue_proximal_row16000_col14000.png\n",
        "WT Filtering"
       ]
      },
      {
       "output_type": "stream",
       "stream": "stderr",
       "text": [
        "/u2/dfco222/scratch/gpu_detect/gpu/tensorflow_mf.py:4: UserWarning: \n",
        "This call to matplotlib.use() has no effect because the backend has already\n",
        "been chosen; matplotlib.use() must be called *before* pylab, matplotlib.pyplot,\n",
        "or matplotlib.backends is imported for the first time.\n",
        "\n",
        "The backend was *originally* set to 'module://IPython.kernel.zmq.pylab.backend_inline' by the following code:\n",
        "  File \"<string>\", line 1, in <module>\n",
        "  File \"/usr/lib/python2.7/dist-packages/IPython/kernel/zmq/kernelapp.py\", line 468, in main\n",
        "    app.initialize()\n",
        "  File \"<decorator-gen-121>\", line 2, in initialize\n",
        "  File \"/usr/lib/python2.7/dist-packages/IPython/config/application.py\", line 92, in catch_config_error\n",
        "    return method(app, *args, **kwargs)\n",
        "  File \"/usr/lib/python2.7/dist-packages/IPython/kernel/zmq/kernelapp.py\", line 446, in initialize\n",
        "    self.init_gui_pylab()\n",
        "  File \"/usr/lib/python2.7/dist-packages/IPython/kernel/zmq/kernelapp.py\", line 420, in init_gui_pylab\n",
        "    InteractiveShellApp.init_gui_pylab(self)\n",
        "  File \"/usr/lib/python2.7/dist-packages/IPython/core/shellapp.py\", line 246, in init_gui_pylab\n",
        "    r = enable(key)\n",
        "  File \"/usr/lib/python2.7/dist-packages/IPython/core/shellapp.py\", line 233, in <lambda>\n",
        "    enable = lambda key: shell.enable_pylab(key, import_all=self.pylab_import_all)\n",
        "  File \"/usr/lib/python2.7/dist-packages/IPython/core/interactiveshell.py\", line 2982, in enable_pylab\n",
        "    gui, backend = self.enable_matplotlib(gui)\n",
        "  File \"/usr/lib/python2.7/dist-packages/IPython/core/interactiveshell.py\", line 2943, in enable_matplotlib\n",
        "    pt.activate_matplotlib(backend)\n",
        "  File \"/usr/lib/python2.7/dist-packages/IPython/core/pylabtools.py\", line 290, in activate_matplotlib\n",
        "    matplotlib.pyplot.switch_backend(backend)\n",
        "  File \"/home/AD/dfco222/.local/lib/python2.7/site-packages/matplotlib/pyplot.py\", line 231, in switch_backend\n",
        "    matplotlib.use(newbackend, warn=False, force=True)\n",
        "  File \"/home/AD/dfco222/.local/lib/python2.7/site-packages/matplotlib/__init__.py\", line 1410, in use\n",
        "    reload(sys.modules['matplotlib.backends'])\n",
        "  File \"/home/AD/dfco222/.local/lib/python2.7/site-packages/matplotlib/backends/__init__.py\", line 16, in <module>\n",
        "    line for line in traceback.format_stack()\n",
        "\n",
        "\n",
        "  matplotlib.use('Agg')\n",
        "/home/AD/dfco222/.local/lib/python2.7/site-packages/matplotlib/figure.py:2267: UserWarning: This figure includes Axes that are not compatible with tight_layout, so results might be incorrect.\n",
        "  warnings.warn(\"This figure includes Axes that are not compatible \"\n"
       ]
      },
      {
       "output_type": "stream",
       "stream": "stdout",
       "text": [
        "\n"
       ]
      },
      {
       "metadata": {},
       "output_type": "display_data",
       "png": "[encoded data removed]",
       "text": [
        "<Figure size 600x400 with 1 Axes>"
       ]
      },
      {
       "output_type": "stream",
       "stream": "stdout",
       "text": [
        "infarctTissue_distal_row2000_col4000.png\n",
        "WT Filtering"
       ]
      },
      {
       "output_type": "stream",
       "stream": "stdout",
       "text": [
        "\n"
       ]
      },
      {
       "metadata": {},
       "output_type": "display_data",
       "png": "[encoded data removed]",
       "text": [
        "<Figure size 600x400 with 1 Axes>"
       ]
      },
      {
       "output_type": "stream",
       "stream": "stdout",
       "text": [
        "infarctTissue_proximal_row14000_col12000.png\n",
        "WT Filtering"
       ]
      },
      {
       "output_type": "stream",
       "stream": "stdout",
       "text": [
        "\n"
       ]
      },
      {
       "metadata": {},
       "output_type": "display_data",
       "png": "[encoded data removed]",
       "text": [
        "<Figure size 600x400 with 1 Axes>"
       ]
      },
      {
       "output_type": "stream",
       "stream": "stdout",
       "text": [
        "infarctTissue_distal_row4000_col18000.png\n",
        "WT Filtering"
       ]
      },
      {
       "output_type": "stream",
       "stream": "stdout",
       "text": [
        "\n"
       ]
      },
      {
       "ename": "KeyboardInterrupt",
       "evalue": "",
       "output_type": "pyerr",
       "traceback": [
        "\u001b[0;31m---------------------------------------------------------------------------\u001b[0m\n\u001b[0;31mKeyboardInterrupt\u001b[0m                         Traceback (most recent call last)",
        "\u001b[0;32m<ipython-input-40-aba23fbcdc04>\u001b[0m in \u001b[0;36m<module>\u001b[0;34m()\u001b[0m\n\u001b[1;32m     28\u001b[0m \u001b[0;34m\u001b[0m\u001b[0m\n\u001b[1;32m     29\u001b[0m         \u001b[0;31m### do filtering for content\u001b[0m\u001b[0;34m\u001b[0m\u001b[0;34m\u001b[0m\u001b[0m\n\u001b[0;32m---> 30\u001b[0;31m         \u001b[0mWTresults\u001b[0m \u001b[0;34m=\u001b[0m \u001b[0mmF\u001b[0m\u001b[0;34m.\u001b[0m\u001b[0mWT_Filtering\u001b[0m\u001b[0;34m(\u001b[0m\u001b[0minputs\u001b[0m\u001b[0;34m,\u001b[0m\u001b[0miters\u001b[0m\u001b[0;34m,\u001b[0m\u001b[0mttFilterName\u001b[0m\u001b[0;34m,\u001b[0m\u001b[0mttPunishmentName\u001b[0m\u001b[0;34m,\u001b[0m\u001b[0mNone\u001b[0m\u001b[0;34m,\u001b[0m\u001b[0mNone\u001b[0m\u001b[0;34m,\u001b[0m\u001b[0mreturnAngles\u001b[0m\u001b[0;34m)\u001b[0m\u001b[0;34m\u001b[0m\u001b[0m\n\u001b[0m\u001b[1;32m     31\u001b[0m \u001b[0;34m\u001b[0m\u001b[0m\n\u001b[1;32m     32\u001b[0m         \u001b[0mWT_hits\u001b[0m \u001b[0;34m=\u001b[0m \u001b[0mpainter\u001b[0m\u001b[0;34m.\u001b[0m\u001b[0mdoLabel\u001b[0m\u001b[0;34m(\u001b[0m\u001b[0mWTresults\u001b[0m\u001b[0;34m,\u001b[0m\u001b[0mdx\u001b[0m\u001b[0;34m=\u001b[0m\u001b[0mttX\u001b[0m\u001b[0;34m,\u001b[0m\u001b[0mdy\u001b[0m\u001b[0;34m=\u001b[0m\u001b[0mttY\u001b[0m\u001b[0;34m,\u001b[0m\u001b[0mthresh\u001b[0m\u001b[0;34m=\u001b[0m\u001b[0;36m0\u001b[0m\u001b[0;34m)\u001b[0m\u001b[0;34m\u001b[0m\u001b[0m\n",
        "\u001b[0;32m/u2/dfco222/scratch/gpu_detect/myocyteFigs.py\u001b[0m in \u001b[0;36mWT_Filtering\u001b[0;34m(inputs, iters, ttFilterName, wtPunishFilterName, ttThresh, wtGamma, returnAngles)\u001b[0m\n\u001b[1;32m   1083\u001b[0m     \u001b[0mWTparams\u001b[0m\u001b[0;34m[\u001b[0m\u001b[0;34m'gamma'\u001b[0m\u001b[0;34m]\u001b[0m \u001b[0;34m=\u001b[0m \u001b[0mwtGamma\u001b[0m\u001b[0;34m\u001b[0m\u001b[0m\n\u001b[1;32m   1084\u001b[0m   \u001b[0;32mprint\u001b[0m \u001b[0;34m\"WT Filtering\"\u001b[0m\u001b[0;34m\u001b[0m\u001b[0m\n\u001b[0;32m-> 1085\u001b[0;31m   \u001b[0mWTresults\u001b[0m \u001b[0;34m=\u001b[0m \u001b[0mbD\u001b[0m\u001b[0;34m.\u001b[0m\u001b[0mDetectFilter\u001b[0m\u001b[0;34m(\u001b[0m\u001b[0minputs\u001b[0m\u001b[0;34m,\u001b[0m\u001b[0mWTparams\u001b[0m\u001b[0;34m,\u001b[0m\u001b[0miters\u001b[0m\u001b[0;34m,\u001b[0m\u001b[0mreturnAngles\u001b[0m\u001b[0;34m=\u001b[0m\u001b[0mreturnAngles\u001b[0m\u001b[0;34m)\u001b[0m\u001b[0;34m\u001b[0m\u001b[0m\n\u001b[0m\u001b[1;32m   1086\u001b[0m \u001b[0;34m\u001b[0m\u001b[0m\n\u001b[1;32m   1087\u001b[0m   \u001b[0;32mreturn\u001b[0m \u001b[0mWTresults\u001b[0m\u001b[0;34m\u001b[0m\u001b[0m\n",
        "\u001b[0;32m/u2/dfco222/scratch/gpu_detect/bankDetect.pyc\u001b[0m in \u001b[0;36mDetectFilter\u001b[0;34m(inputs, paramDict, iters, display, label, filterMode, returnAngles)\u001b[0m\n\u001b[1;32m     58\u001b[0m        \u001b[0mprinter\u001b[0m\u001b[0;34m=\u001b[0m\u001b[0mdisplay\u001b[0m\u001b[0;34m,\u001b[0m\u001b[0;34m\u001b[0m\u001b[0m\n\u001b[1;32m     59\u001b[0m        \u001b[0mfilterMode\u001b[0m\u001b[0;34m=\u001b[0m\u001b[0mfilterMode\u001b[0m\u001b[0;34m,\u001b[0m\u001b[0;34m\u001b[0m\u001b[0m\n\u001b[0;32m---> 60\u001b[0;31m        \u001b[0mlabel\u001b[0m\u001b[0;34m=\u001b[0m\u001b[0mlabel\u001b[0m\u001b[0;34m,\u001b[0m\u001b[0;34m\u001b[0m\u001b[0m\n\u001b[0m\u001b[1;32m     61\u001b[0m        )\n\u001b[1;32m     62\u001b[0m \u001b[0;34m\u001b[0m\u001b[0m\n",
        "\u001b[0;32m/u2/dfco222/scratch/gpu_detect/painter.pyc\u001b[0m in \u001b[0;36mcorrelateThresher\u001b[0;34m(inputs, params, iters, printer, filterMode, label)\u001b[0m\n\u001b[1;32m     64\u001b[0m \u001b[0;34m\u001b[0m\u001b[0m\n\u001b[1;32m     65\u001b[0m       \u001b[0;31m# matched filtering\u001b[0m\u001b[0;34m\u001b[0m\u001b[0;34m\u001b[0m\u001b[0m\n\u001b[0;32m---> 66\u001b[0;31m       \u001b[0mresult\u001b[0m \u001b[0;34m=\u001b[0m \u001b[0mdps\u001b[0m\u001b[0;34m.\u001b[0m\u001b[0mFilterSingle\u001b[0m\u001b[0;34m(\u001b[0m\u001b[0minputs\u001b[0m\u001b[0;34m,\u001b[0m\u001b[0mparams\u001b[0m\u001b[0;34m)\u001b[0m\u001b[0;34m\u001b[0m\u001b[0m\n\u001b[0m\u001b[1;32m     67\u001b[0m \u001b[0;34m\u001b[0m\u001b[0m\n\u001b[1;32m     68\u001b[0m       \u001b[0;31m# store. Results contain both correlation plane and snr\u001b[0m\u001b[0;34m\u001b[0m\u001b[0;34m\u001b[0m\u001b[0m\n",
        "\u001b[0;32m/u2/dfco222/scratch/gpu_detect/detection_protocols.pyc\u001b[0m in \u001b[0;36mFilterSingle\u001b[0;34m(inputs, paramDict, mode)\u001b[0m\n\u001b[1;32m    279\u001b[0m   \u001b[0;32melif\u001b[0m \u001b[0mmode\u001b[0m\u001b[0;34m==\u001b[0m\u001b[0;34m\"punishmentFilter\"\u001b[0m\u001b[0;34m:\u001b[0m\u001b[0;34m\u001b[0m\u001b[0m\n\u001b[1;32m    280\u001b[0m     \u001b[0;31m# for the WT SNR. Uses WT filter and WT punishment filter\u001b[0m\u001b[0;34m\u001b[0m\u001b[0;34m\u001b[0m\u001b[0m\n\u001b[0;32m--> 281\u001b[0;31m     \u001b[0mresults\u001b[0m \u001b[0;34m=\u001b[0m \u001b[0mpunishmentFilter\u001b[0m\u001b[0;34m(\u001b[0m\u001b[0minputs\u001b[0m\u001b[0;34m,\u001b[0m\u001b[0mparamDict\u001b[0m\u001b[0;34m)\u001b[0m\u001b[0;34m\u001b[0m\u001b[0m\n\u001b[0m\u001b[1;32m    282\u001b[0m   \u001b[0;32melif\u001b[0m \u001b[0mmode\u001b[0m\u001b[0;34m==\u001b[0m\u001b[0;34m\"simple\"\u001b[0m\u001b[0;34m:\u001b[0m\u001b[0;34m\u001b[0m\u001b[0m\n\u001b[1;32m    283\u001b[0m     \u001b[0mresults\u001b[0m \u001b[0;34m=\u001b[0m \u001b[0msimpleDetect\u001b[0m\u001b[0;34m(\u001b[0m\u001b[0minputs\u001b[0m\u001b[0;34m,\u001b[0m\u001b[0mparamDict\u001b[0m\u001b[0;34m)\u001b[0m\u001b[0;34m\u001b[0m\u001b[0m\n",
        "\u001b[0;32m/u2/dfco222/scratch/gpu_detect/detection_protocols.pyc\u001b[0m in \u001b[0;36mpunishmentFilter\u001b[0;34m(inputs, paramDict)\u001b[0m\n\u001b[1;32m    147\u001b[0m     \u001b[0;31m## get correlation plane w filter\u001b[0m\u001b[0;34m\u001b[0m\u001b[0;34m\u001b[0m\u001b[0m\n\u001b[1;32m    148\u001b[0m     \u001b[0mresults\u001b[0m\u001b[0;34m.\u001b[0m\u001b[0mcorr\u001b[0m \u001b[0;34m=\u001b[0m \u001b[0mmF\u001b[0m\u001b[0;34m.\u001b[0m\u001b[0mmatchedFilter\u001b[0m\u001b[0;34m(\u001b[0m\u001b[0mimg\u001b[0m\u001b[0;34m,\u001b[0m\u001b[0mmf\u001b[0m\u001b[0;34m,\u001b[0m\u001b[0mparsevals\u001b[0m\u001b[0;34m=\u001b[0m\u001b[0mFalse\u001b[0m\u001b[0;34m,\u001b[0m\u001b[0mdemean\u001b[0m\u001b[0;34m=\u001b[0m\u001b[0mparamDict\u001b[0m\u001b[0;34m[\u001b[0m\u001b[0;34m'demeanMF'\u001b[0m\u001b[0;34m]\u001b[0m\u001b[0;34m)\u001b[0m\u001b[0;34m\u001b[0m\u001b[0m\n\u001b[0;32m--> 149\u001b[0;31m     \u001b[0mresults\u001b[0m\u001b[0;34m.\u001b[0m\u001b[0mcorrPunishment\u001b[0m \u001b[0;34m=\u001b[0m \u001b[0mmF\u001b[0m\u001b[0;34m.\u001b[0m\u001b[0mmatchedFilter\u001b[0m\u001b[0;34m(\u001b[0m\u001b[0mimg\u001b[0m\u001b[0;34m,\u001b[0m\u001b[0mmfPunishment\u001b[0m\u001b[0;34m,\u001b[0m\u001b[0mparsevals\u001b[0m\u001b[0;34m=\u001b[0m\u001b[0mFalse\u001b[0m\u001b[0;34m,\u001b[0m\u001b[0mdemean\u001b[0m\u001b[0;34m=\u001b[0m\u001b[0mFalse\u001b[0m\u001b[0;34m)\u001b[0m\u001b[0;34m\u001b[0m\u001b[0m\n\u001b[0m\u001b[1;32m    150\u001b[0m \u001b[0;34m\u001b[0m\u001b[0m\n\u001b[1;32m    151\u001b[0m     \u001b[0;31m######\u001b[0m\u001b[0;34m\u001b[0m\u001b[0;34m\u001b[0m\u001b[0m\n",
        "\u001b[0;32m/u2/dfco222/scratch/gpu_detect/matchedFilter.pyc\u001b[0m in \u001b[0;36mmatchedFilter\u001b[0;34m(dimg, daFilter, parsevals, demean)\u001b[0m\n\u001b[1;32m     51\u001b[0m   \u001b[0mfsh\u001b[0m \u001b[0;34m=\u001b[0m \u001b[0mfsdimg\u001b[0m \u001b[0;34m*\u001b[0m \u001b[0mfsfilter\u001b[0m \u001b[0;34m/\u001b[0m \u001b[0mfsC\u001b[0m\u001b[0;34m\u001b[0m\u001b[0m\n\u001b[1;32m     52\u001b[0m   \u001b[0;31m#fsh = np.real( fsh )\u001b[0m\u001b[0;34m\u001b[0m\u001b[0;34m\u001b[0m\u001b[0m\n\u001b[0;32m---> 53\u001b[0;31m   \u001b[0msh\u001b[0m \u001b[0;34m=\u001b[0m \u001b[0mfftp\u001b[0m\u001b[0;34m.\u001b[0m\u001b[0mifft2\u001b[0m\u001b[0;34m(\u001b[0m\u001b[0mfsh\u001b[0m\u001b[0;34m)\u001b[0m\u001b[0;34m\u001b[0m\u001b[0m\n\u001b[0m\u001b[1;32m     54\u001b[0m   \u001b[0mh\u001b[0m \u001b[0;34m=\u001b[0m \u001b[0mfftp\u001b[0m\u001b[0;34m.\u001b[0m\u001b[0mifftshift\u001b[0m\u001b[0;34m(\u001b[0m\u001b[0msh\u001b[0m\u001b[0;34m)\u001b[0m\u001b[0;34m\u001b[0m\u001b[0m\n\u001b[1;32m     55\u001b[0m   \u001b[0mh\u001b[0m \u001b[0;34m=\u001b[0m \u001b[0mnp\u001b[0m\u001b[0;34m.\u001b[0m\u001b[0mreal\u001b[0m\u001b[0;34m(\u001b[0m\u001b[0mh\u001b[0m\u001b[0;34m)\u001b[0m\u001b[0;34m\u001b[0m\u001b[0m\n",
        "\u001b[0;32m/home/AD/dfco222/.local/lib/python2.7/site-packages/scipy/fftpack/basic.pyc\u001b[0m in \u001b[0;36mifft2\u001b[0;34m(x, shape, axes, overwrite_x)\u001b[0m\n\u001b[1;32m    711\u001b[0m \u001b[0;34m\u001b[0m\u001b[0m\n\u001b[1;32m    712\u001b[0m     \"\"\"\n\u001b[0;32m--> 713\u001b[0;31m     \u001b[0;32mreturn\u001b[0m \u001b[0mifftn\u001b[0m\u001b[0;34m(\u001b[0m\u001b[0mx\u001b[0m\u001b[0;34m,\u001b[0m\u001b[0mshape\u001b[0m\u001b[0;34m,\u001b[0m\u001b[0maxes\u001b[0m\u001b[0;34m,\u001b[0m\u001b[0moverwrite_x\u001b[0m\u001b[0;34m)\u001b[0m\u001b[0;34m\u001b[0m\u001b[0m\n\u001b[0m",
        "\u001b[0;32m/home/AD/dfco222/.local/lib/python2.7/site-packages/scipy/fftpack/basic.pyc\u001b[0m in \u001b[0;36mifftn\u001b[0;34m(x, shape, axes, overwrite_x)\u001b[0m\n\u001b[1;32m    679\u001b[0m \u001b[0;34m\u001b[0m\u001b[0m\n\u001b[1;32m    680\u001b[0m     \"\"\"\n\u001b[0;32m--> 681\u001b[0;31m     \u001b[0;32mreturn\u001b[0m \u001b[0m_raw_fftn_dispatch\u001b[0m\u001b[0;34m(\u001b[0m\u001b[0mx\u001b[0m\u001b[0;34m,\u001b[0m \u001b[0mshape\u001b[0m\u001b[0;34m,\u001b[0m \u001b[0maxes\u001b[0m\u001b[0;34m,\u001b[0m \u001b[0moverwrite_x\u001b[0m\u001b[0;34m,\u001b[0m \u001b[0;34m-\u001b[0m\u001b[0;36m1\u001b[0m\u001b[0;34m)\u001b[0m\u001b[0;34m\u001b[0m\u001b[0m\n\u001b[0m\u001b[1;32m    682\u001b[0m \u001b[0;34m\u001b[0m\u001b[0m\n\u001b[1;32m    683\u001b[0m \u001b[0;34m\u001b[0m\u001b[0m\n",
        "\u001b[0;32m/home/AD/dfco222/.local/lib/python2.7/site-packages/scipy/fftpack/basic.pyc\u001b[0m in \u001b[0;36m_raw_fftn_dispatch\u001b[0;34m(x, shape, axes, overwrite_x, direction)\u001b[0m\n\u001b[1;32m    649\u001b[0m \u001b[0;34m\u001b[0m\u001b[0m\n\u001b[1;32m    650\u001b[0m     \u001b[0moverwrite_x\u001b[0m \u001b[0;34m=\u001b[0m \u001b[0moverwrite_x\u001b[0m \u001b[0;32mor\u001b[0m \u001b[0m_datacopied\u001b[0m\u001b[0;34m(\u001b[0m\u001b[0mtmp\u001b[0m\u001b[0;34m,\u001b[0m \u001b[0mx\u001b[0m\u001b[0;34m)\u001b[0m\u001b[0;34m\u001b[0m\u001b[0m\n\u001b[0;32m--> 651\u001b[0;31m     \u001b[0;32mreturn\u001b[0m \u001b[0m_raw_fftnd\u001b[0m\u001b[0;34m(\u001b[0m\u001b[0mtmp\u001b[0m\u001b[0;34m,\u001b[0m\u001b[0mshape\u001b[0m\u001b[0;34m,\u001b[0m\u001b[0maxes\u001b[0m\u001b[0;34m,\u001b[0m\u001b[0mdirection\u001b[0m\u001b[0;34m,\u001b[0m\u001b[0moverwrite_x\u001b[0m\u001b[0;34m,\u001b[0m\u001b[0mwork_function\u001b[0m\u001b[0;34m)\u001b[0m\u001b[0;34m\u001b[0m\u001b[0m\n\u001b[0m\u001b[1;32m    652\u001b[0m \u001b[0;34m\u001b[0m\u001b[0m\n\u001b[1;32m    653\u001b[0m \u001b[0;34m\u001b[0m\u001b[0m\n",
        "\u001b[0;32m/home/AD/dfco222/.local/lib/python2.7/site-packages/scipy/fftpack/basic.pyc\u001b[0m in \u001b[0;36m_raw_fftnd\u001b[0;34m(x, s, axes, direction, overwrite_x, work_function)\u001b[0m\n\u001b[1;32m    569\u001b[0m         \u001b[0moverwrite_x\u001b[0m \u001b[0;34m=\u001b[0m \u001b[0moverwrite_x\u001b[0m \u001b[0;32mor\u001b[0m \u001b[0mcopy_made\u001b[0m\u001b[0;34m\u001b[0m\u001b[0m\n\u001b[1;32m    570\u001b[0m \u001b[0;34m\u001b[0m\u001b[0m\n\u001b[0;32m--> 571\u001b[0;31m     \u001b[0mr\u001b[0m \u001b[0;34m=\u001b[0m \u001b[0mwork_function\u001b[0m\u001b[0;34m(\u001b[0m\u001b[0mx\u001b[0m\u001b[0;34m,\u001b[0m \u001b[0mshape\u001b[0m\u001b[0;34m,\u001b[0m \u001b[0mdirection\u001b[0m\u001b[0;34m,\u001b[0m \u001b[0moverwrite_x\u001b[0m\u001b[0;34m=\u001b[0m\u001b[0moverwrite_x\u001b[0m\u001b[0;34m)\u001b[0m\u001b[0;34m\u001b[0m\u001b[0m\n\u001b[0m\u001b[1;32m    572\u001b[0m \u001b[0;34m\u001b[0m\u001b[0m\n\u001b[1;32m    573\u001b[0m     \u001b[0;31m# reswap in the reverse order (first axis first, etc...) to get original\u001b[0m\u001b[0;34m\u001b[0m\u001b[0;34m\u001b[0m\u001b[0m\n",
        "\u001b[0;31mKeyboardInterrupt\u001b[0m: "
       ]
      }
     ],
     "prompt_number": 40
    },
    {
     "cell_type": "code",
     "collapsed": false,
     "input": [],
     "language": "python",
     "metadata": {},
     "outputs": []
    }
   ],
   "metadata": {}
  }
 ]
}