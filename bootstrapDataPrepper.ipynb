{
 "metadata": {
  "name": "",
  "signature": "sha256:59dfb500224a215932726373b0d2da5b5ec04bc1194d679dfc66477e6c8b5960"
 },
 "nbformat": 3,
 "nbformat_minor": 0,
 "worksheets": [
  {
   "cells": [
    {
     "cell_type": "markdown",
     "metadata": {},
     "source": [
      "Notebook to save the tissue image into managable 2000x2000 chunks so that we can perform the bootstrapping"
     ]
    },
    {
     "cell_type": "code",
     "collapsed": false,
     "input": [
      "import numpy as np\n",
      "import tissue\n",
      "import cv2\n",
      "import pickle\n",
      "%load_ext autoreload\n",
      "%autoreload 2\n",
      "\n",
      "class empty: pass"
     ],
     "language": "python",
     "metadata": {},
     "outputs": [
      {
       "output_type": "stream",
       "stream": "stderr",
       "text": [
        "/u2/dfco222/scratch/gpu_detect/gpu/simple_GPU_MF.py:4: UserWarning: \n",
        "This call to matplotlib.use() has no effect because the backend has already\n",
        "been chosen; matplotlib.use() must be called *before* pylab, matplotlib.pyplot,\n",
        "or matplotlib.backends is imported for the first time.\n",
        "\n",
        "The backend was *originally* set to 'module://IPython.kernel.zmq.pylab.backend_inline' by the following code:\n",
        "  File \"<string>\", line 1, in <module>\n",
        "  File \"/usr/lib/python2.7/dist-packages/IPython/kernel/zmq/kernelapp.py\", line 468, in main\n",
        "    app.initialize()\n",
        "  File \"<decorator-gen-121>\", line 2, in initialize\n",
        "  File \"/usr/lib/python2.7/dist-packages/IPython/config/application.py\", line 92, in catch_config_error\n",
        "    return method(app, *args, **kwargs)\n",
        "  File \"/usr/lib/python2.7/dist-packages/IPython/kernel/zmq/kernelapp.py\", line 446, in initialize\n",
        "    self.init_gui_pylab()\n",
        "  File \"/usr/lib/python2.7/dist-packages/IPython/kernel/zmq/kernelapp.py\", line 420, in init_gui_pylab\n",
        "    InteractiveShellApp.init_gui_pylab(self)\n",
        "  File \"/usr/lib/python2.7/dist-packages/IPython/core/shellapp.py\", line 246, in init_gui_pylab\n",
        "    r = enable(key)\n",
        "  File \"/usr/lib/python2.7/dist-packages/IPython/core/shellapp.py\", line 233, in <lambda>\n",
        "    enable = lambda key: shell.enable_pylab(key, import_all=self.pylab_import_all)\n",
        "  File \"/usr/lib/python2.7/dist-packages/IPython/core/interactiveshell.py\", line 2982, in enable_pylab\n",
        "    gui, backend = self.enable_matplotlib(gui)\n",
        "  File \"/usr/lib/python2.7/dist-packages/IPython/core/interactiveshell.py\", line 2943, in enable_matplotlib\n",
        "    pt.activate_matplotlib(backend)\n",
        "  File \"/usr/lib/python2.7/dist-packages/IPython/core/pylabtools.py\", line 290, in activate_matplotlib\n",
        "    matplotlib.pyplot.switch_backend(backend)\n",
        "  File \"/home/AD/dfco222/.local/lib/python2.7/site-packages/matplotlib/pyplot.py\", line 231, in switch_backend\n",
        "    matplotlib.use(newbackend, warn=False, force=True)\n",
        "  File \"/home/AD/dfco222/.local/lib/python2.7/site-packages/matplotlib/__init__.py\", line 1410, in use\n",
        "    reload(sys.modules['matplotlib.backends'])\n",
        "  File \"/home/AD/dfco222/.local/lib/python2.7/site-packages/matplotlib/backends/__init__.py\", line 16, in <module>\n",
        "    line for line in traceback.format_stack()\n",
        "\n",
        "\n",
        "  matplotlib.use('Agg')\n"
       ]
      }
     ],
     "prompt_number": 1
    },
    {
     "cell_type": "markdown",
     "metadata": {},
     "source": [
      "### Declare if you want fresh data or if you want to run data based on a previous run"
     ]
    },
    {
     "cell_type": "code",
     "collapsed": false,
     "input": [
      "freshRun = False\n",
      "\n",
      "if freshRun:\n",
      "    randomizePopping = True\n",
      "    orientImages = True\n",
      "else:\n",
      "    randomizePopping = False\n",
      "    orientImages = False"
     ],
     "language": "python",
     "metadata": {},
     "outputs": [],
     "prompt_number": 7
    },
    {
     "cell_type": "markdown",
     "metadata": {},
     "source": [
      "### Load in tissue image"
     ]
    },
    {
     "cell_type": "code",
     "collapsed": false,
     "input": [
      "#paramDict = tissue.SetupParams()\n",
      "params = tissue.params\n",
      "grayScaleTissue = tissue.Setup()\n",
      "print \"um per 2,000 pixels:\", 2000 / params.px_per_um[0], 2000 / params.px_per_um[1]\n",
      "\n",
      "rowExtent = np.shape(grayScaleTissue)[0]"
     ],
     "language": "python",
     "metadata": {},
     "outputs": [
      {
       "output_type": "stream",
       "stream": "stdout",
       "text": [
        "um per 2,000 pixels: 351.786949297 351.779821244\n"
       ]
      }
     ],
     "prompt_number": 12
    },
    {
     "cell_type": "code",
     "collapsed": false,
     "input": [
      "distalExtent = rowExtent / 3\n",
      "print \"distal extent [px]:\",distalExtent\n",
      "\n",
      "medialExtent = rowExtent / 3 * 2\n",
      "print \"medial extent [px]:\",medialExtent\n",
      "\n",
      "proximalExtent = rowExtent\n",
      "print \"proximal extent [px]:\",proximalExtent"
     ],
     "language": "python",
     "metadata": {},
     "outputs": [
      {
       "output_type": "stream",
       "stream": "stdout",
       "text": [
        "distal extent [px]: 7422\n",
        "medial extent [px]: 14844\n",
        "proximal extent [px]: 22267\n"
       ]
      }
     ],
     "prompt_number": 13
    },
    {
     "cell_type": "code",
     "collapsed": false,
     "input": [
      "plt.figure()\n",
      "plt.imshow(grayScaleTissue[10000:12000,10000:12000],cmap='gray')\n",
      "plt.colorbar()\n",
      "plt.title(\"Example subimage in the tissue-level image\")\n",
      "plt.show()\n",
      "\n",
      "imgDims = np.shape(grayScaleTissue)\n",
      "print imgDims"
     ],
     "language": "python",
     "metadata": {},
     "outputs": [
      {
       "metadata": {},
       "output_type": "display_data",
       "png": "[encoded data removed]",
       "text": [
        "<Figure size 600x400 with 2 Axes>"
       ]
      },
      {
       "output_type": "stream",
       "stream": "stdout",
       "text": [
        "(22267, 23272)\n"
       ]
      }
     ],
     "prompt_number": 14
    },
    {
     "cell_type": "markdown",
     "metadata": {},
     "source": [
      "### Resize the image s.t. the sarcomere size is the same as the filters"
     ]
    },
    {
     "cell_type": "code",
     "collapsed": false,
     "input": [
      "imgTwoSarcSize = 22\n",
      "filterTwoSarcSize = 25\n",
      "scale = float(filterTwoSarcSize) / float(imgTwoSarcSize)\n",
      "grayScaleTissue = cv2.resize(grayScaleTissue,None,fx=scale,fy=scale,interpolation=cv2.INTER_CUBIC)\n",
      "\n",
      "imgDims = np.shape(grayScaleTissue)\n",
      "print imgDims"
     ],
     "language": "python",
     "metadata": {},
     "outputs": [
      {
       "output_type": "stream",
       "stream": "stdout",
       "text": [
        "(22267, 23272)\n"
       ]
      }
     ],
     "prompt_number": 7
    },
    {
     "cell_type": "code",
     "collapsed": false,
     "input": [
      "rowExtent *= scale\n",
      "distalExtent *= scale\n",
      "medialExtent *= scale\n",
      "proximalExtent *= scale\n",
      "\n",
      "print \"rowExtent:\", rowExtent\n",
      "print \"distalExtent:\", distalExtent\n",
      "print \"medialExtent:\", medialExtent\n",
      "print \"proximalExtent:\", proximalExtent"
     ],
     "language": "python",
     "metadata": {},
     "outputs": [
      {
       "output_type": "stream",
       "stream": "stdout",
       "text": [
        "rowExtent: 22267.0454545\n",
        "distalExtent: 7421.59090909\n",
        "medialExtent: 14843.1818182\n",
        "proximalExtent: 22267.0454545\n"
       ]
      }
     ],
     "prompt_number": 8
    },
    {
     "cell_type": "markdown",
     "metadata": {},
     "source": [
      "### Apply CLAHE to full image to equalize dye heterogeneity\n",
      "Second argument coincides with a CLAHE tile grid size 1/8 that of the entire image\n",
      "\n",
      "<font color=red> JUST KIDDING, GOING THROUGH TO DO OLD ROUTINE OF 1 FILTER SIZE CLAHE FOR EACH IMAGE </font>"
     ]
    },
    {
     "cell_type": "code",
     "collapsed": false,
     "input": [
      "#import preprocessing as pp\n",
      "#grayScaleTissue = pp.applyCLAHE(grayScaleTissue,imgDims[0]/8)"
     ],
     "language": "python",
     "metadata": {},
     "outputs": [],
     "prompt_number": 9
    },
    {
     "cell_type": "markdown",
     "metadata": {},
     "source": [
      "### scale image intensity s.t. we can actually see the images"
     ]
    },
    {
     "cell_type": "code",
     "collapsed": false,
     "input": [
      "#tissueMax = np.max(grayScaleTissue)\n",
      "#print tissueMax\n",
      "#grayScaleTissue = grayScaleTissue.astype(np.float32)\n",
      "#grayScaleTissue *= 255. / float(tissueMax)\n",
      "#grayScaleTissue = grayScaleTissue.astype(np.uint8)"
     ],
     "language": "python",
     "metadata": {},
     "outputs": [],
     "prompt_number": 10
    },
    {
     "cell_type": "markdown",
     "metadata": {},
     "source": [
      "### Chunk up image in 2000x2000 subimages"
     ]
    },
    {
     "cell_type": "code",
     "collapsed": false,
     "input": [
      "import preprocessing as pp\n",
      "oldI = 0\n",
      "oldJ = 0\n",
      "i = 2000\n",
      "j = 2000\n",
      "distalNames = []\n",
      "proximalNames = []\n",
      "\n",
      "### for debug purposes\n",
      "verbose = False\n",
      "\n",
      "while i < imgDims[0]:\n",
      "    while j < imgDims[1]:\n",
      "        # determine if distal\n",
      "        if i < distalExtent:\n",
      "            fileName = 'infarctTissue_distal_row'+str(oldI)+'_col'+str(oldJ)+'.png'\n",
      "            print \"Processing and Writing:\", fileName\n",
      "            img = grayScaleTissue[oldI:i,oldJ:j].copy()\n",
      "            \n",
      "            ### CLAHE each subimage individually\n",
      "            img = pp.applyCLAHE(img,filterTwoSarcSize)\n",
      "            \n",
      "            ### Chop off floor and ceiling of image so that we have a smaller dynamic range\n",
      "            ceilingValue = 7\n",
      "            floorValue = 0\n",
      "            img[img > ceilingValue] = ceilingValue\n",
      "            img[img < floorValue] = floorValue\n",
      "            img -= np.min(img)\n",
      "                        \n",
      "            cv2.imwrite(fileName,img)\n",
      "            #print \"Wrote:\",fileName\n",
      "            distalNames.append(fileName)\n",
      "        elif i > medialExtent and i < proximalExtent:\n",
      "            fileName = 'infarctTissue_proximal_row'+str(oldI)+'_col'+str(oldJ)+'.png'\n",
      "            print \"Processing and Writing:\", fileName\n",
      "            img = grayScaleTissue[oldI:i,oldJ:j].copy()\n",
      "            \n",
      "            ### CLAHE each subimage individually\n",
      "            img = pp.applyCLAHE(img,filterTwoSarcSize)\n",
      "            \n",
      "            ### Chop off floor and ceiling of image so that we have a smaller dynamic range\n",
      "            ceilingValue = 7\n",
      "            floorValue = 0\n",
      "            img[img > ceilingValue] = ceilingValue\n",
      "            img[img < floorValue] = floorValue\n",
      "            img -= np.min(img)\n",
      "                        \n",
      "            cv2.imwrite(fileName,img)\n",
      "            #print \"Wrote:\",fileName\n",
      "            proximalNames.append(fileName)\n",
      "        if verbose and i == 2000:\n",
      "            plt.figure()\n",
      "            plt.imshow(img)\n",
      "            plt.colorbar()\n",
      "            plt.show()\n",
      "        \n",
      "        oldJ = j \n",
      "        j += 2000\n",
      "    j = 2000\n",
      "    oldJ = 0\n",
      "    oldI = i\n",
      "    i += 2000"
     ],
     "language": "python",
     "metadata": {},
     "outputs": [
      {
       "output_type": "stream",
       "stream": "stdout",
       "text": [
        "Processing and Writing: infarctTissue_distal_row0_col0.png\n",
        "Applying CLAHE to Myocyte\n",
        "Processing and Writing: infarctTissue_distal_row0_col2000.png\n",
        "Applying CLAHE to Myocyte\n",
        "Processing and Writing:"
       ]
      },
      {
       "output_type": "stream",
       "stream": "stdout",
       "text": [
        " infarctTissue_distal_row0_col4000.png\n",
        "Applying CLAHE to Myocyte\n",
        "Processing and Writing: infarctTissue_distal_row0_col6000.png\n",
        "Applying CLAHE to Myocyte\n",
        "Processing and Writing:"
       ]
      },
      {
       "output_type": "stream",
       "stream": "stdout",
       "text": [
        " infarctTissue_distal_row0_col8000.png\n",
        "Applying CLAHE to Myocyte\n",
        "Processing and Writing:"
       ]
      },
      {
       "output_type": "stream",
       "stream": "stdout",
       "text": [
        " infarctTissue_distal_row0_col10000.png\n",
        "Applying CLAHE to Myocyte\n",
        "Processing and Writing:"
       ]
      },
      {
       "output_type": "stream",
       "stream": "stdout",
       "text": [
        " infarctTissue_distal_row0_col12000.png\n",
        "Applying CLAHE to Myocyte\n",
        "Processing and Writing:"
       ]
      },
      {
       "output_type": "stream",
       "stream": "stdout",
       "text": [
        " infarctTissue_distal_row0_col14000.png\n",
        "Applying CLAHE to Myocyte\n",
        "Processing and Writing:"
       ]
      },
      {
       "output_type": "stream",
       "stream": "stdout",
       "text": [
        " infarctTissue_distal_row0_col16000.png\n",
        "Applying CLAHE to Myocyte\n",
        "Processing and Writing:"
       ]
      },
      {
       "output_type": "stream",
       "stream": "stdout",
       "text": [
        " infarctTissue_distal_row0_col18000.png\n",
        "Applying CLAHE to Myocyte\n",
        "Processing and Writing:"
       ]
      },
      {
       "output_type": "stream",
       "stream": "stdout",
       "text": [
        " infarctTissue_distal_row0_col20000.png\n",
        "Applying CLAHE to Myocyte\n",
        "Processing and Writing:"
       ]
      },
      {
       "output_type": "stream",
       "stream": "stdout",
       "text": [
        " infarctTissue_distal_row2000_col0.png\n",
        "Applying CLAHE to Myocyte\n",
        "Processing and Writing: infarctTissue_distal_row2000_col2000.png\n",
        "Applying CLAHE to Myocyte\n",
        "Processing and Writing:"
       ]
      },
      {
       "output_type": "stream",
       "stream": "stdout",
       "text": [
        " infarctTissue_distal_row2000_col4000.png\n",
        "Applying CLAHE to Myocyte\n",
        "Processing and Writing:"
       ]
      },
      {
       "output_type": "stream",
       "stream": "stdout",
       "text": [
        " infarctTissue_distal_row2000_col6000.png\n",
        "Applying CLAHE to Myocyte\n",
        "Processing and Writing:"
       ]
      },
      {
       "output_type": "stream",
       "stream": "stdout",
       "text": [
        " infarctTissue_distal_row2000_col8000.png\n",
        "Applying CLAHE to Myocyte\n",
        "Processing and Writing:"
       ]
      },
      {
       "output_type": "stream",
       "stream": "stdout",
       "text": [
        " infarctTissue_distal_row2000_col10000.png\n",
        "Applying CLAHE to Myocyte\n",
        "Processing and Writing:"
       ]
      },
      {
       "output_type": "stream",
       "stream": "stdout",
       "text": [
        " infarctTissue_distal_row2000_col12000.png\n",
        "Applying CLAHE to Myocyte\n",
        "Processing and Writing:"
       ]
      },
      {
       "output_type": "stream",
       "stream": "stdout",
       "text": [
        " infarctTissue_distal_row2000_col14000.png\n",
        "Applying CLAHE to Myocyte\n",
        "Processing and Writing:"
       ]
      },
      {
       "output_type": "stream",
       "stream": "stdout",
       "text": [
        " infarctTissue_distal_row2000_col16000.png\n",
        "Applying CLAHE to Myocyte\n",
        "Processing and Writing:"
       ]
      },
      {
       "output_type": "stream",
       "stream": "stdout",
       "text": [
        " infarctTissue_distal_row2000_col18000.png\n",
        "Applying CLAHE to Myocyte\n",
        "Processing and Writing:"
       ]
      },
      {
       "output_type": "stream",
       "stream": "stdout",
       "text": [
        " infarctTissue_distal_row2000_col20000.png\n",
        "Applying CLAHE to Myocyte\n",
        "Processing and Writing:"
       ]
      },
      {
       "output_type": "stream",
       "stream": "stdout",
       "text": [
        " infarctTissue_distal_row4000_col0.png\n",
        "Applying CLAHE to Myocyte\n",
        "Processing and Writing: infarctTissue_distal_row4000_col2000.png\n",
        "Applying CLAHE to Myocyte\n",
        "Processing and Writing:"
       ]
      },
      {
       "output_type": "stream",
       "stream": "stdout",
       "text": [
        " infarctTissue_distal_row4000_col4000.png\n",
        "Applying CLAHE to Myocyte\n",
        "Processing and Writing:"
       ]
      },
      {
       "output_type": "stream",
       "stream": "stdout",
       "text": [
        " infarctTissue_distal_row4000_col6000.png\n",
        "Applying CLAHE to Myocyte\n",
        "Processing and Writing:"
       ]
      },
      {
       "output_type": "stream",
       "stream": "stdout",
       "text": [
        " infarctTissue_distal_row4000_col8000.png\n",
        "Applying CLAHE to Myocyte\n",
        "Processing and Writing:"
       ]
      },
      {
       "output_type": "stream",
       "stream": "stdout",
       "text": [
        " infarctTissue_distal_row4000_col10000.png\n",
        "Applying CLAHE to Myocyte\n",
        "Processing and Writing:"
       ]
      },
      {
       "output_type": "stream",
       "stream": "stdout",
       "text": [
        " infarctTissue_distal_row4000_col12000.png\n",
        "Applying CLAHE to Myocyte\n",
        "Processing and Writing:"
       ]
      },
      {
       "output_type": "stream",
       "stream": "stdout",
       "text": [
        " infarctTissue_distal_row4000_col14000.png\n",
        "Applying CLAHE to Myocyte\n",
        "Processing and Writing:"
       ]
      },
      {
       "output_type": "stream",
       "stream": "stdout",
       "text": [
        " infarctTissue_distal_row4000_col16000.png\n",
        "Applying CLAHE to Myocyte\n",
        "Processing and Writing:"
       ]
      },
      {
       "output_type": "stream",
       "stream": "stdout",
       "text": [
        " infarctTissue_distal_row4000_col18000.png\n",
        "Applying CLAHE to Myocyte\n",
        "Processing and Writing:"
       ]
      },
      {
       "output_type": "stream",
       "stream": "stdout",
       "text": [
        " infarctTissue_distal_row4000_col20000.png\n",
        "Applying CLAHE to Myocyte\n",
        "Processing and Writing:"
       ]
      },
      {
       "output_type": "stream",
       "stream": "stdout",
       "text": [
        " infarctTissue_proximal_row14000_col0.png\n",
        "Applying CLAHE to Myocyte\n",
        "Processing and Writing:"
       ]
      },
      {
       "output_type": "stream",
       "stream": "stdout",
       "text": [
        " infarctTissue_proximal_row14000_col2000.png\n",
        "Applying CLAHE to Myocyte\n",
        "Processing and Writing:"
       ]
      },
      {
       "output_type": "stream",
       "stream": "stdout",
       "text": [
        " infarctTissue_proximal_row14000_col4000.png\n",
        "Applying CLAHE to Myocyte\n",
        "Processing and Writing:"
       ]
      },
      {
       "output_type": "stream",
       "stream": "stdout",
       "text": [
        " infarctTissue_proximal_row14000_col6000.png\n",
        "Applying CLAHE to Myocyte\n",
        "Processing and Writing:"
       ]
      },
      {
       "output_type": "stream",
       "stream": "stdout",
       "text": [
        " infarctTissue_proximal_row14000_col8000.png\n",
        "Applying CLAHE to Myocyte\n",
        "Processing and Writing:"
       ]
      },
      {
       "output_type": "stream",
       "stream": "stdout",
       "text": [
        " infarctTissue_proximal_row14000_col10000.png\n",
        "Applying CLAHE to Myocyte\n",
        "Processing and Writing:"
       ]
      },
      {
       "output_type": "stream",
       "stream": "stdout",
       "text": [
        " infarctTissue_proximal_row14000_col12000.png\n",
        "Applying CLAHE to Myocyte\n",
        "Processing and Writing:"
       ]
      },
      {
       "output_type": "stream",
       "stream": "stdout",
       "text": [
        " infarctTissue_proximal_row14000_col14000.png\n",
        "Applying CLAHE to Myocyte\n",
        "Processing and Writing:"
       ]
      },
      {
       "output_type": "stream",
       "stream": "stdout",
       "text": [
        " infarctTissue_proximal_row14000_col16000.png\n",
        "Applying CLAHE to Myocyte\n",
        "Processing and Writing:"
       ]
      },
      {
       "output_type": "stream",
       "stream": "stdout",
       "text": [
        " infarctTissue_proximal_row14000_col18000.png\n",
        "Applying CLAHE to Myocyte\n",
        "Processing and Writing:"
       ]
      },
      {
       "output_type": "stream",
       "stream": "stdout",
       "text": [
        " infarctTissue_proximal_row14000_col20000.png\n",
        "Applying CLAHE to Myocyte\n",
        "Processing and Writing:"
       ]
      },
      {
       "output_type": "stream",
       "stream": "stdout",
       "text": [
        " infarctTissue_proximal_row16000_col0.png\n",
        "Applying CLAHE to Myocyte\n",
        "Processing and Writing:"
       ]
      },
      {
       "output_type": "stream",
       "stream": "stdout",
       "text": [
        " infarctTissue_proximal_row16000_col2000.png\n",
        "Applying CLAHE to Myocyte\n",
        "Processing and Writing:"
       ]
      },
      {
       "output_type": "stream",
       "stream": "stdout",
       "text": [
        " infarctTissue_proximal_row16000_col4000.png\n",
        "Applying CLAHE to Myocyte\n",
        "Processing and Writing:"
       ]
      },
      {
       "output_type": "stream",
       "stream": "stdout",
       "text": [
        " infarctTissue_proximal_row16000_col6000.png\n",
        "Applying CLAHE to Myocyte\n",
        "Processing and Writing:"
       ]
      },
      {
       "output_type": "stream",
       "stream": "stdout",
       "text": [
        " infarctTissue_proximal_row16000_col8000.png\n",
        "Applying CLAHE to Myocyte\n",
        "Processing and Writing:"
       ]
      },
      {
       "output_type": "stream",
       "stream": "stdout",
       "text": [
        " infarctTissue_proximal_row16000_col10000.png\n",
        "Applying CLAHE to Myocyte\n",
        "Processing and Writing:"
       ]
      },
      {
       "output_type": "stream",
       "stream": "stdout",
       "text": [
        " infarctTissue_proximal_row16000_col12000.png\n",
        "Applying CLAHE to Myocyte\n",
        "Processing and Writing:"
       ]
      },
      {
       "output_type": "stream",
       "stream": "stdout",
       "text": [
        " infarctTissue_proximal_row16000_col14000.png\n",
        "Applying CLAHE to Myocyte\n",
        "Processing and Writing:"
       ]
      },
      {
       "output_type": "stream",
       "stream": "stdout",
       "text": [
        " infarctTissue_proximal_row16000_col16000.png\n",
        "Applying CLAHE to Myocyte\n",
        "Processing and Writing:"
       ]
      },
      {
       "output_type": "stream",
       "stream": "stdout",
       "text": [
        " infarctTissue_proximal_row16000_col18000.png\n",
        "Applying CLAHE to Myocyte\n",
        "Processing and Writing:"
       ]
      },
      {
       "output_type": "stream",
       "stream": "stdout",
       "text": [
        " infarctTissue_proximal_row16000_col20000.png\n",
        "Applying CLAHE to Myocyte\n",
        "Processing and Writing:"
       ]
      },
      {
       "output_type": "stream",
       "stream": "stdout",
       "text": [
        " infarctTissue_proximal_row18000_col0.png\n",
        "Applying CLAHE to Myocyte\n",
        "Processing and Writing: infarctTissue_proximal_row18000_col2000.png\n",
        "Applying CLAHE to Myocyte\n",
        "Processing and Writing:"
       ]
      },
      {
       "output_type": "stream",
       "stream": "stdout",
       "text": [
        " infarctTissue_proximal_row18000_col4000.png\n",
        "Applying CLAHE to Myocyte\n",
        "Processing and Writing:"
       ]
      },
      {
       "output_type": "stream",
       "stream": "stdout",
       "text": [
        " infarctTissue_proximal_row18000_col6000.png\n",
        "Applying CLAHE to Myocyte\n",
        "Processing and Writing:"
       ]
      },
      {
       "output_type": "stream",
       "stream": "stdout",
       "text": [
        " infarctTissue_proximal_row18000_col8000.png\n",
        "Applying CLAHE to Myocyte\n",
        "Processing and Writing:"
       ]
      },
      {
       "output_type": "stream",
       "stream": "stdout",
       "text": [
        " infarctTissue_proximal_row18000_col10000.png\n",
        "Applying CLAHE to Myocyte\n",
        "Processing and Writing:"
       ]
      },
      {
       "output_type": "stream",
       "stream": "stdout",
       "text": [
        " infarctTissue_proximal_row18000_col12000.png\n",
        "Applying CLAHE to Myocyte\n",
        "Processing and Writing:"
       ]
      },
      {
       "output_type": "stream",
       "stream": "stdout",
       "text": [
        " infarctTissue_proximal_row18000_col14000.png\n",
        "Applying CLAHE to Myocyte\n",
        "Processing and Writing:"
       ]
      },
      {
       "output_type": "stream",
       "stream": "stdout",
       "text": [
        " infarctTissue_proximal_row18000_col16000.png\n",
        "Applying CLAHE to Myocyte\n",
        "Processing and Writing:"
       ]
      },
      {
       "output_type": "stream",
       "stream": "stdout",
       "text": [
        " infarctTissue_proximal_row18000_col18000.png\n",
        "Applying CLAHE to Myocyte\n",
        "Processing and Writing:"
       ]
      },
      {
       "output_type": "stream",
       "stream": "stdout",
       "text": [
        " infarctTissue_proximal_row18000_col20000.png\n",
        "Applying CLAHE to Myocyte\n",
        "Processing and Writing:"
       ]
      },
      {
       "output_type": "stream",
       "stream": "stdout",
       "text": [
        " infarctTissue_proximal_row20000_col0.png\n",
        "Applying CLAHE to Myocyte\n",
        "Processing and Writing: infarctTissue_proximal_row20000_col2000.png\n",
        "Applying CLAHE to Myocyte\n",
        "Processing and Writing:"
       ]
      },
      {
       "output_type": "stream",
       "stream": "stdout",
       "text": [
        " infarctTissue_proximal_row20000_col4000.png\n",
        "Applying CLAHE to Myocyte\n",
        "Processing and Writing: infarctTissue_proximal_row20000_col6000.png\n",
        "Applying CLAHE to Myocyte\n",
        "Processing and Writing:"
       ]
      },
      {
       "output_type": "stream",
       "stream": "stdout",
       "text": [
        " infarctTissue_proximal_row20000_col8000.png\n",
        "Applying CLAHE to Myocyte\n",
        "Processing and Writing:"
       ]
      },
      {
       "output_type": "stream",
       "stream": "stdout",
       "text": [
        " infarctTissue_proximal_row20000_col10000.png\n",
        "Applying CLAHE to Myocyte\n",
        "Processing and Writing:"
       ]
      },
      {
       "output_type": "stream",
       "stream": "stdout",
       "text": [
        " infarctTissue_proximal_row20000_col12000.png\n",
        "Applying CLAHE to Myocyte\n",
        "Processing and Writing:"
       ]
      },
      {
       "output_type": "stream",
       "stream": "stdout",
       "text": [
        " infarctTissue_proximal_row20000_col14000.png\n",
        "Applying CLAHE to Myocyte\n",
        "Processing and Writing:"
       ]
      },
      {
       "output_type": "stream",
       "stream": "stdout",
       "text": [
        " infarctTissue_proximal_row20000_col16000.png\n",
        "Applying CLAHE to Myocyte\n",
        "Processing and Writing:"
       ]
      },
      {
       "output_type": "stream",
       "stream": "stdout",
       "text": [
        " infarctTissue_proximal_row20000_col18000.png\n",
        "Applying CLAHE to Myocyte\n",
        "Processing and Writing: infarctTissue_proximal_row20000_col20000.png\n",
        "Applying CLAHE to Myocyte\n"
       ]
      }
     ],
     "prompt_number": 11
    },
    {
     "cell_type": "markdown",
     "metadata": {},
     "source": [
      "### Went through and manually deleted incomplete subimages"
     ]
    },
    {
     "cell_type": "code",
     "collapsed": false,
     "input": [
      "names = [\"infarctTissue_distal_row0_col0.png\",\n",
      "         \"infarctTissue_distal_row0_col2000.png\",\n",
      "         \"infarctTissue_distal_row0_col4000.png\",\n",
      "         \"infarctTissue_distal_row0_col6000.png\",\n",
      "         \"infarctTissue_distal_row0_col8000.png\",\n",
      "         \"infarctTissue_distal_row2000_col2000.png\",\n",
      "         \"infarctTissue_distal_row2000_col4000.png\",\n",
      "         \"infarctTissue_distal_row2000_col12000.png\",\n",
      "         \"infarctTissue_distal_row4000_col0.png\",\n",
      "         \"infarctTissue_distal_row4000_col16000.png\",\n",
      "         \"infarctTissue_proximal_row14000_col0.png\",\n",
      "         \"infarctTissue_proximal_row14000_col2000.png\",\n",
      "         \"infarctTissue_proximal_row14000_col4000.png\",\n",
      "         \"infarctTissue_proximal_row14000_col6000.png\",\n",
      "         \"infarctTissue_proximal_row14000_col8000.png\",\n",
      "         \"infarctTissue_proximal_row16000_col0.png\",\n",
      "         \"infarctTissue_proximal_row16000_col2000.png\",\n",
      "         \"infarctTissue_proximal_row16000_col4000.png\",\n",
      "         \"infarctTissue_proximal_row16000_col6000.png\",\n",
      "         \"infarctTissue_proximal_row16000_col8000.png\",\n",
      "         \"infarctTissue_proximal_row18000_col0.png\",\n",
      "         \"infarctTissue_proximal_row18000_col2000.png\",\n",
      "         \"infarctTissue_proximal_row18000_col4000.png\",\n",
      "         \"infarctTissue_proximal_row18000_col6000.png\",\n",
      "         \"infarctTissue_proximal_row18000_col18000.png\",\n",
      "         \"infarctTissue_proximal_row18000_col20000.png\",\n",
      "         \"infarctTissue_proximal_row20000_col0.png\",\n",
      "         \"infarctTissue_proximal_row20000_col2000.png\",\n",
      "         \"infarctTissue_proximal_row20000_col4000.png\",\n",
      "         \"infarctTissue_proximal_row20000_col6000.png\",\n",
      "         \"infarctTissue_proximal_row20000_col8000.png\",\n",
      "         \"infarctTissue_proximal_row20000_col10000.png\",\n",
      "         \"infarctTissue_proximal_row20000_col12000.png\",\n",
      "         \"infarctTissue_proximal_row20000_col14000.png\",\n",
      "         \"infarctTissue_proximal_row20000_col16000.png\",\n",
      "         \"infarctTissue_proximal_row20000_col18000.png\",\n",
      "         \"infarctTissue_proximal_row20000_col20000.png\"]\n",
      "\n",
      "import os \n",
      "for name in names:\n",
      "    print \"Removing\",name\n",
      "    os.system(\"rm \"+name)\n",
      "    try:\n",
      "        distalNames.remove(name)\n",
      "    except:\n",
      "        proximalNames.remove(name)"
     ],
     "language": "python",
     "metadata": {},
     "outputs": [
      {
       "output_type": "stream",
       "stream": "stdout",
       "text": [
        "Removing infarctTissue_distal_row0_col0.png\n",
        "Removing infarctTissue_distal_row0_col2000.png\n",
        "Removing infarctTissue_distal_row0_col4000.png\n",
        "Removing"
       ]
      },
      {
       "output_type": "stream",
       "stream": "stdout",
       "text": [
        " infarctTissue_distal_row0_col6000.png\n",
        "Removing infarctTissue_distal_row0_col8000.png\n",
        "Removing infarctTissue_distal_row2000_col2000.png\n",
        "Removing"
       ]
      },
      {
       "output_type": "stream",
       "stream": "stdout",
       "text": [
        " infarctTissue_distal_row2000_col4000.png\n",
        "Removing infarctTissue_distal_row2000_col12000.png\n",
        "Removing infarctTissue_distal_row4000_col0.png\n",
        "Removing infarctTissue_distal_row4000_col16000.png\n",
        "Removing"
       ]
      },
      {
       "output_type": "stream",
       "stream": "stdout",
       "text": [
        " infarctTissue_proximal_row14000_col0.png\n",
        "Removing infarctTissue_proximal_row14000_col2000.png\n",
        "Removing infarctTissue_proximal_row14000_col4000.png\n",
        "Removing infarctTissue_proximal_row14000_col6000.png\n",
        "Removing"
       ]
      },
      {
       "output_type": "stream",
       "stream": "stdout",
       "text": [
        " infarctTissue_proximal_row14000_col8000.png\n",
        "Removing infarctTissue_proximal_row16000_col0.png\n",
        "Removing infarctTissue_proximal_row16000_col2000.png\n",
        "Removing infarctTissue_proximal_row16000_col4000.png\n",
        "Removing"
       ]
      },
      {
       "output_type": "stream",
       "stream": "stdout",
       "text": [
        " infarctTissue_proximal_row16000_col6000.png\n",
        "Removing infarctTissue_proximal_row16000_col8000.png\n",
        "Removing infarctTissue_proximal_row18000_col0.png\n",
        "Removing infarctTissue_proximal_row18000_col2000.png\n",
        "Removing"
       ]
      },
      {
       "output_type": "stream",
       "stream": "stdout",
       "text": [
        " infarctTissue_proximal_row18000_col4000.png\n",
        "Removing infarctTissue_proximal_row18000_col6000.png\n",
        "Removing infarctTissue_proximal_row18000_col18000.png\n",
        "Removing infarctTissue_proximal_row18000_col20000.png\n",
        "Removing"
       ]
      },
      {
       "output_type": "stream",
       "stream": "stdout",
       "text": [
        " infarctTissue_proximal_row20000_col0.png\n",
        "Removing infarctTissue_proximal_row20000_col2000.png\n",
        "Removing infarctTissue_proximal_row20000_col4000.png\n",
        "Removing"
       ]
      },
      {
       "output_type": "stream",
       "stream": "stdout",
       "text": [
        " infarctTissue_proximal_row20000_col6000.png\n",
        "Removing infarctTissue_proximal_row20000_col8000.png\n",
        "Removing infarctTissue_proximal_row20000_col10000.png\n",
        "Removing"
       ]
      },
      {
       "output_type": "stream",
       "stream": "stdout",
       "text": [
        " infarctTissue_proximal_row20000_col12000.png\n",
        "Removing infarctTissue_proximal_row20000_col14000.png\n",
        "Removing infarctTissue_proximal_row20000_col16000.png\n",
        "Removing"
       ]
      },
      {
       "output_type": "stream",
       "stream": "stdout",
       "text": [
        " infarctTissue_proximal_row20000_col18000.png\n",
        "Removing infarctTissue_proximal_row20000_col20000.png\n"
       ]
      }
     ],
     "prompt_number": 12
    },
    {
     "cell_type": "code",
     "collapsed": false,
     "input": [
      "print len(distalNames)\n",
      "print len(proximalNames)"
     ],
     "language": "python",
     "metadata": {},
     "outputs": [
      {
       "output_type": "stream",
       "stream": "stdout",
       "text": [
        "23\n",
        "17\n"
       ]
      }
     ],
     "prompt_number": 13
    },
    {
     "cell_type": "code",
     "collapsed": false,
     "input": [
      "nDistal = 0\n",
      "nProximal = 0\n",
      "for name in os.listdir('./'):\n",
      "    if 'infarctTissue_distal' in name:\n",
      "        nDistal += 1\n",
      "    elif 'infarctTissue_proximal' in name:\n",
      "        nProximal += 1\n",
      "print 'Distal N =',nDistal\n",
      "print 'Proximal N =',nProximal"
     ],
     "language": "python",
     "metadata": {},
     "outputs": [
      {
       "output_type": "stream",
       "stream": "stdout",
       "text": [
        "Distal N = 23\n",
        "Proximal N = 17\n"
       ]
      }
     ],
     "prompt_number": 14
    },
    {
     "cell_type": "markdown",
     "metadata": {},
     "source": [
      "### Pare down the group with the larger amount of subimages to match the number of subimages in the smaller region\n",
      "Opting to do this in a random manner since this will cause the least amount of bias"
     ]
    },
    {
     "cell_type": "code",
     "collapsed": false,
     "input": [
      "Ncells = [nDistal,nProximal]\n",
      "minN = np.min(Ncells)\n",
      "argMinN = np.argmin(Ncells)\n",
      "\n",
      "if randomizePopping:\n",
      "    print \"Randomizing the removal of myocytes\"\n",
      "    if argMinN == 0:\n",
      "        diff = nProximal - minN\n",
      "        while diff > 0:\n",
      "            # generate random number in range of the number of cells\n",
      "            index = np.random.randint(0,len(proximalNames)+1)\n",
      "            print index\n",
      "            proximalNames.pop(index)\n",
      "            diff -= 1\n",
      "    if argMinN == 1:\n",
      "        diff = nDistal - minN\n",
      "        while diff > 0:\n",
      "            # generate random number in range of the number of cells\n",
      "            index = np.random.randint(0,len(distalNames)+1)\n",
      "            print index\n",
      "            distalNames.pop(index)\n",
      "            diff -= 1\n",
      "    print \"N Distal:\",len(distalNames)\n",
      "    print \"N Proximal:\",len(proximalNames)\n",
      "    \n",
      "else:\n",
      "    ### we randomly did this earlier, so taking the integers from the random number generator so we can reproduce the exact same data\n",
      "    ## popping the indexes in order\n",
      "    distalNames.pop(22)\n",
      "    distalNames.pop(13)\n",
      "    distalNames.pop(15)\n",
      "    distalNames.pop(1)\n",
      "    distalNames.pop(8)\n",
      "    distalNames.pop(6)\n",
      "    print \"N Distal:\",len(distalNames)\n",
      "    print \"N Proximal:\",len(proximalNames)"
     ],
     "language": "python",
     "metadata": {},
     "outputs": [
      {
       "output_type": "stream",
       "stream": "stdout",
       "text": [
        "N Distal: 17\n",
        "N Proximal: 17\n"
       ]
      }
     ],
     "prompt_number": 15
    },
    {
     "cell_type": "markdown",
     "metadata": {},
     "source": [
      "### Now we orient the images"
     ]
    },
    {
     "cell_type": "code",
     "collapsed": false,
     "input": [
      "orientImages = False\n",
      "if orientImages:\n",
      "    import os \n",
      "    import util\n",
      "    import preprocessing as pp\n",
      "    orientationDict = {}\n",
      "    for name in os.listdir('./'):\n",
      "        if \"infarctTissue\" in name:\n",
      "            img = util.ReadImg(name)#.astype(np.float32)\n",
      "            #img /= tissueMax\n",
      "            print name\n",
      "            _, dOffCenter = pp.reorient(img)\n",
      "            orientationDict[name] = dOffCenter\n",
      "            print \"\"\n",
      "    with open('./infarctedTissue_OrientationDictionary.pkl','w') as f:\n",
      "        pickle.dump(orientationDict,f)\n",
      "    print \"Preprocessed all images\"\n",
      "else:\n",
      "    with open('./infarctedTissue_OrientationDictionary.pkl','r') as blah:\n",
      "        orientationDict = pickle.load(blah)\n",
      "    print \"Loaded orientation dictionary from repo\""
     ],
     "language": "python",
     "metadata": {},
     "outputs": [
      {
       "output_type": "stream",
       "stream": "stdout",
       "text": [
        "Loaded orientation dictionary from repo\n"
       ]
      }
     ],
     "prompt_number": 16
    },
    {
     "cell_type": "markdown",
     "metadata": {},
     "source": [
      "### Now remove the dictionary entries for the files that we've excluded"
     ]
    },
    {
     "cell_type": "code",
     "collapsed": false,
     "input": [
      "finalOrientationDict = {}\n",
      "\n",
      "cellNames = distalNames + proximalNames\n",
      "for name,value in orientationDict.iteritems():\n",
      "    if name in cellNames:\n",
      "        finalOrientationDict[name] = value"
     ],
     "language": "python",
     "metadata": {},
     "outputs": [],
     "prompt_number": 17
    },
    {
     "cell_type": "code",
     "collapsed": false,
     "input": [
      "inputs = empty()\n",
      "inputs.useGPU = False\n",
      "ttFilterName = \"./myoimages/newSimpleWTFilter.png\"\n",
      "ttPunishmentName = \"./myoimages/newSimpleWTPunishmentFilter.png\"\n",
      "ltFilterName = \"./myoimages/LongitudinalFilter.png\"\n",
      "lossFilterName = \"./myoimages/LossFilter.png\"\n",
      "returnAngles = True\n",
      "\n",
      "### scalar for scaling the intensity. This is just using the clip limit that we imposed earlier\n",
      "tissueMax = float(ceilingValue)\n",
      "\n",
      "import painter\n",
      "import display_util as du\n",
      "import myocyteFigs as mF\n",
      "import util\n",
      "\n",
      "ttFilter = util.LoadFilter(ttFilterName)\n",
      "ttY,ttX = util.measureFilterDimensions(ttFilter)\n",
      "\n",
      "proximalMeans = []\n",
      "distalMeans = []\n",
      "for name,degreesOffCenter in finalOrientationDict.iteritems():\n",
      "    if 'infarctTissue' in name:\n",
      "        print name\n",
      "        img = util.ReadImg(name).astype(np.float32)\n",
      "        #print np.max(img)\n",
      "        img /= tissueMax\n",
      "        inputs.imgOrig = img\n",
      "        \n",
      "        # to account for rotations\n",
      "        degreesOffCenter = orientationDict[name]\n",
      "        iters = [-25,-20,-15,-10,-5,0,5,10,15,20,25] - degreesOffCenter \n",
      "        #print iters\n",
      "        \n",
      "        ### do filtering for content\n",
      "        WTresults = mF.WT_Filtering(inputs,iters,ttFilterName,ttPunishmentName,None,None,returnAngles)\n",
      "        print np.max(WTresults.stackedHits)\n",
      "        \n",
      "        plt.figure()\n",
      "        plt.imshow(WTresults.stackedHits)\n",
      "        plt.colorbar()\n",
      "        plt.show()\n",
      "        \n",
      "        WT_hits = painter.doLabel(WTresults,dx=ttX,dy=ttY,thresh=0)\n",
      "        \n",
      "        du.StackGrayRedAlpha(img,WT_hits)\n",
      "        plt.show()\n",
      "        \n",
      "        WT_hits[WT_hits != 0] = 1\n",
      "        if 'proximal' in name:\n",
      "            proximalMeans.append(np.mean(WT_hits))\n",
      "        else:\n",
      "            distalMeans.append(np.mean(WT_hits))\n",
      "print \"Proximal Means\", proximalMeans\n",
      "print \"Distal Means\",distalMeans\n",
      "\n",
      "print \"Proximal Average Mean\",np.mean(proximalMeans)\n",
      "print \"Proximal Std Dev\",np.std(proximalMeans)\n",
      "print \"Distal Average Mean\",np.mean(distalMeans)\n",
      "print \"Distal Std Dev\",np.std(distalMeans)\n",
      "\n",
      "        \n",
      "        "
     ],
     "language": "python",
     "metadata": {},
     "outputs": [
      {
       "output_type": "stream",
       "stream": "stdout",
       "text": [
        "Comment out for HESSE\n",
        "filter y,x:"
       ]
      },
      {
       "output_type": "stream",
       "stream": "stdout",
       "text": [
        " 10 19\n",
        "infarctTissue_proximal_row18000_col16000.png\n",
        "[-83.43552336 -78.43552336 -73.43552336 -68.43552336 -63.43552336\n",
        " -58.43552336 -53.43552336 -48.43552336 -43.43552336 -38.43552336\n",
        " -33.43552336]"
       ]
      },
      {
       "output_type": "stream",
       "stream": "stdout",
       "text": [
        "\n",
        "WT Filtering\n",
        "0.389399836933"
       ]
      },
      {
       "output_type": "stream",
       "stream": "stderr",
       "text": [
        "/u2/dfco222/scratch/gpu_detect/gpu/tensorflow_mf.py:4: UserWarning: \n",
        "This call to matplotlib.use() has no effect because the backend has already\n",
        "been chosen; matplotlib.use() must be called *before* pylab, matplotlib.pyplot,\n",
        "or matplotlib.backends is imported for the first time.\n",
        "\n",
        "The backend was *originally* set to 'module://IPython.kernel.zmq.pylab.backend_inline' by the following code:\n",
        "  File \"<string>\", line 1, in <module>\n",
        "  File \"/usr/lib/python2.7/dist-packages/IPython/kernel/zmq/kernelapp.py\", line 468, in main\n",
        "    app.initialize()\n",
        "  File \"<decorator-gen-121>\", line 2, in initialize\n",
        "  File \"/usr/lib/python2.7/dist-packages/IPython/config/application.py\", line 92, in catch_config_error\n",
        "    return method(app, *args, **kwargs)\n",
        "  File \"/usr/lib/python2.7/dist-packages/IPython/kernel/zmq/kernelapp.py\", line 446, in initialize\n",
        "    self.init_gui_pylab()\n",
        "  File \"/usr/lib/python2.7/dist-packages/IPython/kernel/zmq/kernelapp.py\", line 420, in init_gui_pylab\n",
        "    InteractiveShellApp.init_gui_pylab(self)\n",
        "  File \"/usr/lib/python2.7/dist-packages/IPython/core/shellapp.py\", line 246, in init_gui_pylab\n",
        "    r = enable(key)\n",
        "  File \"/usr/lib/python2.7/dist-packages/IPython/core/shellapp.py\", line 233, in <lambda>\n",
        "    enable = lambda key: shell.enable_pylab(key, import_all=self.pylab_import_all)\n",
        "  File \"/usr/lib/python2.7/dist-packages/IPython/core/interactiveshell.py\", line 2982, in enable_pylab\n",
        "    gui, backend = self.enable_matplotlib(gui)\n",
        "  File \"/usr/lib/python2.7/dist-packages/IPython/core/interactiveshell.py\", line 2943, in enable_matplotlib\n",
        "    pt.activate_matplotlib(backend)\n",
        "  File \"/usr/lib/python2.7/dist-packages/IPython/core/pylabtools.py\", line 290, in activate_matplotlib\n",
        "    matplotlib.pyplot.switch_backend(backend)\n",
        "  File \"/home/AD/dfco222/.local/lib/python2.7/site-packages/matplotlib/pyplot.py\", line 231, in switch_backend\n",
        "    matplotlib.use(newbackend, warn=False, force=True)\n",
        "  File \"/home/AD/dfco222/.local/lib/python2.7/site-packages/matplotlib/__init__.py\", line 1410, in use\n",
        "    reload(sys.modules['matplotlib.backends'])\n",
        "  File \"/home/AD/dfco222/.local/lib/python2.7/site-packages/matplotlib/backends/__init__.py\", line 16, in <module>\n",
        "    line for line in traceback.format_stack()\n",
        "\n",
        "\n",
        "  matplotlib.use('Agg')\n",
        "/home/AD/dfco222/.local/lib/python2.7/site-packages/matplotlib/figure.py:2267: UserWarning: This figure includes Axes that are not compatible with tight_layout, so results might be incorrect.\n",
        "  warnings.warn(\"This figure includes Axes that are not compatible \"\n"
       ]
      },
      {
       "output_type": "stream",
       "stream": "stdout",
       "text": [
        "\n"
       ]
      },
      {
       "metadata": {},
       "output_type": "display_data",
       "png": "[encoded data removed]",
       "text": [
        "<Figure size 600x400 with 2 Axes>"
       ]
      },
      {
       "metadata": {},
       "output_type": "display_data",
       "png": "[encoded data removed]",
       "text": [
        "<Figure size 600x400 with 1 Axes>"
       ]
      },
      {
       "output_type": "stream",
       "stream": "stdout",
       "text": [
        "infarctTissue_distal_row4000_col18000.png\n",
        "[-52.57595533 -47.57595533 -42.57595533 -37.57595533 -32.57595533\n",
        " -27.57595533 -22.57595533 -17.57595533 -12.57595533  -7.57595533\n",
        "  -2.57595533]\n",
        "WT Filtering"
       ]
      },
      {
       "output_type": "stream",
       "stream": "stdout",
       "text": [
        "\n",
        "0.427326314794"
       ]
      },
      {
       "output_type": "stream",
       "stream": "stdout",
       "text": [
        "\n"
       ]
      },
      {
       "metadata": {},
       "output_type": "display_data",
       "png": "[encoded data removed]",
       "text": [
        "<Figure size 600x400 with 2 Axes>"
       ]
      },
      {
       "metadata": {},
       "output_type": "display_data",
       "png": "[encoded data removed]",
       "text": [
        "<Figure size 600x400 with 1 Axes>"
       ]
      },
      {
       "output_type": "stream",
       "stream": "stdout",
       "text": [
        "infarctTissue_proximal_row14000_col16000.png\n",
        "[-65.41074798 -60.41074798 -55.41074798 -50.41074798 -45.41074798\n",
        " -40.41074798 -35.41074798 -30.41074798 -25.41074798 -20.41074798\n",
        " -15.41074798]"
       ]
      },
      {
       "output_type": "stream",
       "stream": "stdout",
       "text": [
        "\n",
        "WT Filtering\n",
        "0.410421536604"
       ]
      },
      {
       "output_type": "stream",
       "stream": "stdout",
       "text": [
        "\n"
       ]
      },
      {
       "metadata": {},
       "output_type": "display_data",
       "png": "[encoded data removed]",
       "text": [
        "<Figure size 600x400 with 2 Axes>"
       ]
      },
      {
       "metadata": {},
       "output_type": "display_data",
       "png": "[encoded data removed]",
       "text": [
        "<Figure size 600x400 with 1 Axes>"
       ]
      },
      {
       "output_type": "stream",
       "stream": "stdout",
       "text": [
        "infarctTissue_distal_row4000_col4000.png\n",
        "[-51.46921222 -46.46921222 -41.46921222 -36.46921222 -31.46921222\n",
        " -26.46921222 -21.46921222 -16.46921222 -11.46921222  -6.46921222\n",
        "  -1.46921222]"
       ]
      },
      {
       "output_type": "stream",
       "stream": "stdout",
       "text": [
        "\n",
        "WT Filtering\n"
       ]
      },
      {
       "ename": "KeyboardInterrupt",
       "evalue": "",
       "output_type": "pyerr",
       "traceback": [
        "\u001b[0;31m---------------------------------------------------------------------------\u001b[0m\n\u001b[0;31mKeyboardInterrupt\u001b[0m                         Traceback (most recent call last)",
        "\u001b[0;32m<ipython-input-18-f112b0c3226b>\u001b[0m in \u001b[0;36m<module>\u001b[0;34m()\u001b[0m\n\u001b[1;32m     34\u001b[0m \u001b[0;34m\u001b[0m\u001b[0m\n\u001b[1;32m     35\u001b[0m         \u001b[0;31m### do filtering for content\u001b[0m\u001b[0;34m\u001b[0m\u001b[0;34m\u001b[0m\u001b[0m\n\u001b[0;32m---> 36\u001b[0;31m         \u001b[0mWTresults\u001b[0m \u001b[0;34m=\u001b[0m \u001b[0mmF\u001b[0m\u001b[0;34m.\u001b[0m\u001b[0mWT_Filtering\u001b[0m\u001b[0;34m(\u001b[0m\u001b[0minputs\u001b[0m\u001b[0;34m,\u001b[0m\u001b[0miters\u001b[0m\u001b[0;34m,\u001b[0m\u001b[0mttFilterName\u001b[0m\u001b[0;34m,\u001b[0m\u001b[0mttPunishmentName\u001b[0m\u001b[0;34m,\u001b[0m\u001b[0mNone\u001b[0m\u001b[0;34m,\u001b[0m\u001b[0mNone\u001b[0m\u001b[0;34m,\u001b[0m\u001b[0mreturnAngles\u001b[0m\u001b[0;34m)\u001b[0m\u001b[0;34m\u001b[0m\u001b[0m\n\u001b[0m\u001b[1;32m     37\u001b[0m         \u001b[0;32mprint\u001b[0m \u001b[0mnp\u001b[0m\u001b[0;34m.\u001b[0m\u001b[0mmax\u001b[0m\u001b[0;34m(\u001b[0m\u001b[0mWTresults\u001b[0m\u001b[0;34m.\u001b[0m\u001b[0mstackedHits\u001b[0m\u001b[0;34m)\u001b[0m\u001b[0;34m\u001b[0m\u001b[0m\n\u001b[1;32m     38\u001b[0m \u001b[0;34m\u001b[0m\u001b[0m\n",
        "\u001b[0;32m/u2/dfco222/scratch/gpu_detect/myocyteFigs.pyc\u001b[0m in \u001b[0;36mWT_Filtering\u001b[0;34m(inputs, iters, ttFilterName, wtPunishFilterName, ttThresh, wtGamma, returnAngles)\u001b[0m\n\u001b[1;32m   1083\u001b[0m     \u001b[0mWTparams\u001b[0m\u001b[0;34m[\u001b[0m\u001b[0;34m'gamma'\u001b[0m\u001b[0;34m]\u001b[0m \u001b[0;34m=\u001b[0m \u001b[0mwtGamma\u001b[0m\u001b[0;34m\u001b[0m\u001b[0m\n\u001b[1;32m   1084\u001b[0m   \u001b[0;32mprint\u001b[0m \u001b[0;34m\"WT Filtering\"\u001b[0m\u001b[0;34m\u001b[0m\u001b[0m\n\u001b[0;32m-> 1085\u001b[0;31m   \u001b[0mWTresults\u001b[0m \u001b[0;34m=\u001b[0m \u001b[0mbD\u001b[0m\u001b[0;34m.\u001b[0m\u001b[0mDetectFilter\u001b[0m\u001b[0;34m(\u001b[0m\u001b[0minputs\u001b[0m\u001b[0;34m,\u001b[0m\u001b[0mWTparams\u001b[0m\u001b[0;34m,\u001b[0m\u001b[0miters\u001b[0m\u001b[0;34m,\u001b[0m\u001b[0mreturnAngles\u001b[0m\u001b[0;34m=\u001b[0m\u001b[0mreturnAngles\u001b[0m\u001b[0;34m)\u001b[0m\u001b[0;34m\u001b[0m\u001b[0m\n\u001b[0m\u001b[1;32m   1086\u001b[0m \u001b[0;34m\u001b[0m\u001b[0m\n\u001b[1;32m   1087\u001b[0m   \u001b[0;32mreturn\u001b[0m \u001b[0mWTresults\u001b[0m\u001b[0;34m\u001b[0m\u001b[0m\n",
        "\u001b[0;32m/u2/dfco222/scratch/gpu_detect/bankDetect.pyc\u001b[0m in \u001b[0;36mDetectFilter\u001b[0;34m(inputs, paramDict, iters, display, label, filterMode, returnAngles)\u001b[0m\n\u001b[1;32m     58\u001b[0m        \u001b[0mprinter\u001b[0m\u001b[0;34m=\u001b[0m\u001b[0mdisplay\u001b[0m\u001b[0;34m,\u001b[0m\u001b[0;34m\u001b[0m\u001b[0m\n\u001b[1;32m     59\u001b[0m        \u001b[0mfilterMode\u001b[0m\u001b[0;34m=\u001b[0m\u001b[0mfilterMode\u001b[0m\u001b[0;34m,\u001b[0m\u001b[0;34m\u001b[0m\u001b[0m\n\u001b[0;32m---> 60\u001b[0;31m        \u001b[0mlabel\u001b[0m\u001b[0;34m=\u001b[0m\u001b[0mlabel\u001b[0m\u001b[0;34m,\u001b[0m\u001b[0;34m\u001b[0m\u001b[0m\n\u001b[0m\u001b[1;32m     61\u001b[0m        )\n\u001b[1;32m     62\u001b[0m \u001b[0;34m\u001b[0m\u001b[0m\n",
        "\u001b[0;32m/u2/dfco222/scratch/gpu_detect/painter.pyc\u001b[0m in \u001b[0;36mcorrelateThresher\u001b[0;34m(inputs, params, iters, printer, filterMode, label)\u001b[0m\n\u001b[1;32m     64\u001b[0m \u001b[0;34m\u001b[0m\u001b[0m\n\u001b[1;32m     65\u001b[0m       \u001b[0;31m# matched filtering\u001b[0m\u001b[0;34m\u001b[0m\u001b[0;34m\u001b[0m\u001b[0m\n\u001b[0;32m---> 66\u001b[0;31m       \u001b[0mresult\u001b[0m \u001b[0;34m=\u001b[0m \u001b[0mdps\u001b[0m\u001b[0;34m.\u001b[0m\u001b[0mFilterSingle\u001b[0m\u001b[0;34m(\u001b[0m\u001b[0minputs\u001b[0m\u001b[0;34m,\u001b[0m\u001b[0mparams\u001b[0m\u001b[0;34m)\u001b[0m\u001b[0;34m\u001b[0m\u001b[0m\n\u001b[0m\u001b[1;32m     67\u001b[0m \u001b[0;34m\u001b[0m\u001b[0m\n\u001b[1;32m     68\u001b[0m       \u001b[0;31m# store. Results contain both correlation plane and snr\u001b[0m\u001b[0;34m\u001b[0m\u001b[0;34m\u001b[0m\u001b[0m\n",
        "\u001b[0;32m/u2/dfco222/scratch/gpu_detect/detection_protocols.pyc\u001b[0m in \u001b[0;36mFilterSingle\u001b[0;34m(inputs, paramDict, mode)\u001b[0m\n\u001b[1;32m    279\u001b[0m   \u001b[0;32melif\u001b[0m \u001b[0mmode\u001b[0m\u001b[0;34m==\u001b[0m\u001b[0;34m\"punishmentFilter\"\u001b[0m\u001b[0;34m:\u001b[0m\u001b[0;34m\u001b[0m\u001b[0m\n\u001b[1;32m    280\u001b[0m     \u001b[0;31m# for the WT SNR. Uses WT filter and WT punishment filter\u001b[0m\u001b[0;34m\u001b[0m\u001b[0;34m\u001b[0m\u001b[0m\n\u001b[0;32m--> 281\u001b[0;31m     \u001b[0mresults\u001b[0m \u001b[0;34m=\u001b[0m \u001b[0mpunishmentFilter\u001b[0m\u001b[0;34m(\u001b[0m\u001b[0minputs\u001b[0m\u001b[0;34m,\u001b[0m\u001b[0mparamDict\u001b[0m\u001b[0;34m)\u001b[0m\u001b[0;34m\u001b[0m\u001b[0m\n\u001b[0m\u001b[1;32m    282\u001b[0m   \u001b[0;32melif\u001b[0m \u001b[0mmode\u001b[0m\u001b[0;34m==\u001b[0m\u001b[0;34m\"simple\"\u001b[0m\u001b[0;34m:\u001b[0m\u001b[0;34m\u001b[0m\u001b[0m\n\u001b[1;32m    283\u001b[0m     \u001b[0mresults\u001b[0m \u001b[0;34m=\u001b[0m \u001b[0msimpleDetect\u001b[0m\u001b[0;34m(\u001b[0m\u001b[0minputs\u001b[0m\u001b[0;34m,\u001b[0m\u001b[0mparamDict\u001b[0m\u001b[0;34m)\u001b[0m\u001b[0;34m\u001b[0m\u001b[0m\n",
        "\u001b[0;32m/u2/dfco222/scratch/gpu_detect/detection_protocols.pyc\u001b[0m in \u001b[0;36mpunishmentFilter\u001b[0;34m(inputs, paramDict)\u001b[0m\n\u001b[1;32m    147\u001b[0m     \u001b[0;31m## get correlation plane w filter\u001b[0m\u001b[0;34m\u001b[0m\u001b[0;34m\u001b[0m\u001b[0m\n\u001b[1;32m    148\u001b[0m     \u001b[0mresults\u001b[0m\u001b[0;34m.\u001b[0m\u001b[0mcorr\u001b[0m \u001b[0;34m=\u001b[0m \u001b[0mmF\u001b[0m\u001b[0;34m.\u001b[0m\u001b[0mmatchedFilter\u001b[0m\u001b[0;34m(\u001b[0m\u001b[0mimg\u001b[0m\u001b[0;34m,\u001b[0m\u001b[0mmf\u001b[0m\u001b[0;34m,\u001b[0m\u001b[0mparsevals\u001b[0m\u001b[0;34m=\u001b[0m\u001b[0mFalse\u001b[0m\u001b[0;34m,\u001b[0m\u001b[0mdemean\u001b[0m\u001b[0;34m=\u001b[0m\u001b[0mparamDict\u001b[0m\u001b[0;34m[\u001b[0m\u001b[0;34m'demeanMF'\u001b[0m\u001b[0;34m]\u001b[0m\u001b[0;34m)\u001b[0m\u001b[0;34m\u001b[0m\u001b[0m\n\u001b[0;32m--> 149\u001b[0;31m     \u001b[0mresults\u001b[0m\u001b[0;34m.\u001b[0m\u001b[0mcorrPunishment\u001b[0m \u001b[0;34m=\u001b[0m \u001b[0mmF\u001b[0m\u001b[0;34m.\u001b[0m\u001b[0mmatchedFilter\u001b[0m\u001b[0;34m(\u001b[0m\u001b[0mimg\u001b[0m\u001b[0;34m,\u001b[0m\u001b[0mmfPunishment\u001b[0m\u001b[0;34m,\u001b[0m\u001b[0mparsevals\u001b[0m\u001b[0;34m=\u001b[0m\u001b[0mFalse\u001b[0m\u001b[0;34m,\u001b[0m\u001b[0mdemean\u001b[0m\u001b[0;34m=\u001b[0m\u001b[0mFalse\u001b[0m\u001b[0;34m)\u001b[0m\u001b[0;34m\u001b[0m\u001b[0m\n\u001b[0m\u001b[1;32m    150\u001b[0m \u001b[0;34m\u001b[0m\u001b[0m\n\u001b[1;32m    151\u001b[0m     \u001b[0;31m######\u001b[0m\u001b[0;34m\u001b[0m\u001b[0;34m\u001b[0m\u001b[0m\n",
        "\u001b[0;32m/u2/dfco222/scratch/gpu_detect/matchedFilter.pyc\u001b[0m in \u001b[0;36mmatchedFilter\u001b[0;34m(dimg, daFilter, parsevals, demean)\u001b[0m\n\u001b[1;32m     49\u001b[0m \u001b[0;34m\u001b[0m\u001b[0m\n\u001b[1;32m     50\u001b[0m   \u001b[0;31m## matched filter\u001b[0m\u001b[0;34m\u001b[0m\u001b[0;34m\u001b[0m\u001b[0m\n\u001b[0;32m---> 51\u001b[0;31m   \u001b[0mfsh\u001b[0m \u001b[0;34m=\u001b[0m \u001b[0mfsdimg\u001b[0m \u001b[0;34m*\u001b[0m \u001b[0mfsfilter\u001b[0m \u001b[0;34m/\u001b[0m \u001b[0mfsC\u001b[0m\u001b[0;34m\u001b[0m\u001b[0m\n\u001b[0m\u001b[1;32m     52\u001b[0m   \u001b[0;31m#fsh = np.real( fsh )\u001b[0m\u001b[0;34m\u001b[0m\u001b[0;34m\u001b[0m\u001b[0m\n\u001b[1;32m     53\u001b[0m   \u001b[0msh\u001b[0m \u001b[0;34m=\u001b[0m \u001b[0mfftp\u001b[0m\u001b[0;34m.\u001b[0m\u001b[0mifft2\u001b[0m\u001b[0;34m(\u001b[0m\u001b[0mfsh\u001b[0m\u001b[0;34m)\u001b[0m\u001b[0;34m\u001b[0m\u001b[0m\n",
        "\u001b[0;31mKeyboardInterrupt\u001b[0m: "
       ]
      }
     ],
     "prompt_number": 18
    },
    {
     "cell_type": "code",
     "collapsed": false,
     "input": [],
     "language": "python",
     "metadata": {},
     "outputs": []
    },
    {
     "cell_type": "code",
     "collapsed": false,
     "input": [],
     "language": "python",
     "metadata": {},
     "outputs": []
    }
   ],
   "metadata": {}
  }
 ]
}