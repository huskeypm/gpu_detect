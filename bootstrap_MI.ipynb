{
 "metadata": {
  "kernelspec": {
   "display_name": "Python 2",
   "language": "python",
   "name": "python2"
  },
  "language_info": {
   "codemirror_mode": {
    "name": "ipython",
    "version": 2
   },
   "file_extension": ".py",
   "mimetype": "text/x-python",
   "name": "python",
   "nbconvert_exporter": "python",
   "pygments_lexer": "ipython2",
   "version": "2.7.5"
  },
  "name": "",
  "signature": "sha256:ff8e992077d1800ec1dd68e7cbaed6abb8377989cd6d8943c1d737f76e29ce38"
 },
 "nbformat": 3,
 "nbformat_minor": 0,
 "worksheets": [
  {
   "cells": [
    {
     "cell_type": "code",
     "collapsed": false,
     "input": [
      "%matplotlib inline\n",
      "import util\n",
      "import tissue\n",
      "import matchedFilter\n",
      "import numpy as np\n",
      "import matplotlib.pyplot as plt\n",
      "import myocyteFigs as mF\n",
      "import optimizer\n",
      "import bankDetect as bD\n",
      "import preprocessing as pp\n",
      "import cv2\n",
      "import painter\n",
      "\n",
      "%load_ext autoreload\n",
      "%autoreload 2"
     ],
     "language": "python",
     "metadata": {},
     "outputs": [
      {
       "output_type": "stream",
       "stream": "stderr",
       "text": [
        "/u2/dfco222/scratch/gpu_detect/gpu/simple_GPU_MF.py:4: UserWarning: \n",
        "This call to matplotlib.use() has no effect because the backend has already\n",
        "been chosen; matplotlib.use() must be called *before* pylab, matplotlib.pyplot,\n",
        "or matplotlib.backends is imported for the first time.\n",
        "\n",
        "The backend was *originally* set to 'module://IPython.kernel.zmq.pylab.backend_inline' by the following code:\n",
        "  File \"<string>\", line 1, in <module>\n",
        "  File \"/usr/lib/python2.7/dist-packages/IPython/kernel/zmq/kernelapp.py\", line 469, in main\n",
        "    app.start()\n",
        "  File \"/usr/lib/python2.7/dist-packages/IPython/kernel/zmq/kernelapp.py\", line 459, in start\n",
        "    ioloop.IOLoop.instance().start()\n",
        "  File \"/usr/lib/python2.7/dist-packages/zmq/eventloop/ioloop.py\", line 162, in start\n",
        "    super(ZMQIOLoop, self).start()\n",
        "  File \"/usr/lib/python2.7/dist-packages/tornado/ioloop.py\", line 866, in start\n",
        "    handler_func(fd_obj, events)\n",
        "  File \"/usr/lib/python2.7/dist-packages/tornado/stack_context.py\", line 275, in null_wrapper\n",
        "    return fn(*args, **kwargs)\n",
        "  File \"/usr/lib/python2.7/dist-packages/zmq/eventloop/zmqstream.py\", line 440, in _handle_events\n",
        "    self._handle_recv()\n",
        "  File \"/usr/lib/python2.7/dist-packages/zmq/eventloop/zmqstream.py\", line 472, in _handle_recv\n",
        "    self._run_callback(callback, msg)\n",
        "  File \"/usr/lib/python2.7/dist-packages/zmq/eventloop/zmqstream.py\", line 414, in _run_callback\n",
        "    callback(*args, **kwargs)\n",
        "  File \"/usr/lib/python2.7/dist-packages/tornado/stack_context.py\", line 275, in null_wrapper\n",
        "    return fn(*args, **kwargs)\n",
        "  File \"/usr/lib/python2.7/dist-packages/IPython/kernel/zmq/ipkernel.py\", line 281, in dispatcher\n",
        "    return self.dispatch_shell(stream, msg)\n",
        "  File \"/usr/lib/python2.7/dist-packages/IPython/kernel/zmq/ipkernel.py\", line 245, in dispatch_shell\n",
        "    handler(stream, idents, msg)\n",
        "  File \"/usr/lib/python2.7/dist-packages/IPython/kernel/zmq/ipkernel.py\", line 389, in execute_request\n",
        "    shell.run_cell(code, store_history=store_history, silent=silent)\n",
        "  File \"/usr/lib/python2.7/dist-packages/IPython/core/interactiveshell.py\", line 2741, in run_cell\n",
        "    interactivity=interactivity, compiler=compiler)\n",
        "  File \"/usr/lib/python2.7/dist-packages/IPython/core/interactiveshell.py\", line 2827, in run_ast_nodes\n",
        "    if self.run_code(code):\n",
        "  File \"/usr/lib/python2.7/dist-packages/IPython/core/interactiveshell.py\", line 2883, in run_code\n",
        "    exec(code_obj, self.user_global_ns, self.user_ns)\n",
        "  File \"<ipython-input-1-efcfb57e0d3e>\", line 1, in <module>\n",
        "    get_ipython().magic(u'matplotlib inline')\n",
        "  File \"/usr/lib/python2.7/dist-packages/IPython/core/interactiveshell.py\", line 2205, in magic\n",
        "    return self.run_line_magic(magic_name, magic_arg_s)\n",
        "  File \"/usr/lib/python2.7/dist-packages/IPython/core/interactiveshell.py\", line 2126, in run_line_magic\n",
        "    result = fn(*args,**kwargs)\n",
        "  File \"<decorator-gen-105>\", line 2, in matplotlib\n",
        "  File \"/usr/lib/python2.7/dist-packages/IPython/core/magic.py\", line 193, in <lambda>\n",
        "    call = lambda f, *a, **k: f(*a, **k)\n",
        "  File \"/usr/lib/python2.7/dist-packages/IPython/core/magics/pylab.py\", line 80, in matplotlib\n",
        "    gui, backend = self.shell.enable_matplotlib(args.gui)\n",
        "  File \"/usr/lib/python2.7/dist-packages/IPython/core/interactiveshell.py\", line 2943, in enable_matplotlib\n",
        "    pt.activate_matplotlib(backend)\n",
        "  File \"/usr/lib/python2.7/dist-packages/IPython/core/pylabtools.py\", line 290, in activate_matplotlib\n",
        "    matplotlib.pyplot.switch_backend(backend)\n",
        "  File \"/home/AD/dfco222/.local/lib/python2.7/site-packages/matplotlib/pyplot.py\", line 231, in switch_backend\n",
        "    matplotlib.use(newbackend, warn=False, force=True)\n",
        "  File \"/home/AD/dfco222/.local/lib/python2.7/site-packages/matplotlib/__init__.py\", line 1410, in use\n",
        "    reload(sys.modules['matplotlib.backends'])\n",
        "  File \"/home/AD/dfco222/.local/lib/python2.7/site-packages/matplotlib/backends/__init__.py\", line 16, in <module>\n",
        "    line for line in traceback.format_stack()\n",
        "\n",
        "\n",
        "  matplotlib.use('Agg')\n",
        "/u2/dfco222/scratch/gpu_detect/gpu/tensorflow_mf.py:4: UserWarning: \n",
        "This call to matplotlib.use() has no effect because the backend has already\n",
        "been chosen; matplotlib.use() must be called *before* pylab, matplotlib.pyplot,\n",
        "or matplotlib.backends is imported for the first time.\n",
        "\n",
        "The backend was *originally* set to 'module://IPython.kernel.zmq.pylab.backend_inline' by the following code:\n",
        "  File \"<string>\", line 1, in <module>\n",
        "  File \"/usr/lib/python2.7/dist-packages/IPython/kernel/zmq/kernelapp.py\", line 469, in main\n",
        "    app.start()\n",
        "  File \"/usr/lib/python2.7/dist-packages/IPython/kernel/zmq/kernelapp.py\", line 459, in start\n",
        "    ioloop.IOLoop.instance().start()\n",
        "  File \"/usr/lib/python2.7/dist-packages/zmq/eventloop/ioloop.py\", line 162, in start\n",
        "    super(ZMQIOLoop, self).start()\n",
        "  File \"/usr/lib/python2.7/dist-packages/tornado/ioloop.py\", line 866, in start\n",
        "    handler_func(fd_obj, events)\n",
        "  File \"/usr/lib/python2.7/dist-packages/tornado/stack_context.py\", line 275, in null_wrapper\n",
        "    return fn(*args, **kwargs)\n",
        "  File \"/usr/lib/python2.7/dist-packages/zmq/eventloop/zmqstream.py\", line 440, in _handle_events\n",
        "    self._handle_recv()\n",
        "  File \"/usr/lib/python2.7/dist-packages/zmq/eventloop/zmqstream.py\", line 472, in _handle_recv\n",
        "    self._run_callback(callback, msg)\n",
        "  File \"/usr/lib/python2.7/dist-packages/zmq/eventloop/zmqstream.py\", line 414, in _run_callback\n",
        "    callback(*args, **kwargs)\n",
        "  File \"/usr/lib/python2.7/dist-packages/tornado/stack_context.py\", line 275, in null_wrapper\n",
        "    return fn(*args, **kwargs)\n",
        "  File \"/usr/lib/python2.7/dist-packages/IPython/kernel/zmq/ipkernel.py\", line 281, in dispatcher\n",
        "    return self.dispatch_shell(stream, msg)\n",
        "  File \"/usr/lib/python2.7/dist-packages/IPython/kernel/zmq/ipkernel.py\", line 245, in dispatch_shell\n",
        "    handler(stream, idents, msg)\n",
        "  File \"/usr/lib/python2.7/dist-packages/IPython/kernel/zmq/ipkernel.py\", line 389, in execute_request\n",
        "    shell.run_cell(code, store_history=store_history, silent=silent)\n",
        "  File \"/usr/lib/python2.7/dist-packages/IPython/core/interactiveshell.py\", line 2741, in run_cell\n",
        "    interactivity=interactivity, compiler=compiler)\n",
        "  File \"/usr/lib/python2.7/dist-packages/IPython/core/interactiveshell.py\", line 2827, in run_ast_nodes\n",
        "    if self.run_code(code):\n",
        "  File \"/usr/lib/python2.7/dist-packages/IPython/core/interactiveshell.py\", line 2883, in run_code\n",
        "    exec(code_obj, self.user_global_ns, self.user_ns)\n",
        "  File \"<ipython-input-1-efcfb57e0d3e>\", line 1, in <module>\n",
        "    get_ipython().magic(u'matplotlib inline')\n",
        "  File \"/usr/lib/python2.7/dist-packages/IPython/core/interactiveshell.py\", line 2205, in magic\n",
        "    return self.run_line_magic(magic_name, magic_arg_s)\n",
        "  File \"/usr/lib/python2.7/dist-packages/IPython/core/interactiveshell.py\", line 2126, in run_line_magic\n",
        "    result = fn(*args,**kwargs)\n",
        "  File \"<decorator-gen-105>\", line 2, in matplotlib\n",
        "  File \"/usr/lib/python2.7/dist-packages/IPython/core/magic.py\", line 193, in <lambda>\n",
        "    call = lambda f, *a, **k: f(*a, **k)\n",
        "  File \"/usr/lib/python2.7/dist-packages/IPython/core/magics/pylab.py\", line 80, in matplotlib\n",
        "    gui, backend = self.shell.enable_matplotlib(args.gui)\n",
        "  File \"/usr/lib/python2.7/dist-packages/IPython/core/interactiveshell.py\", line 2943, in enable_matplotlib\n",
        "    pt.activate_matplotlib(backend)\n",
        "  File \"/usr/lib/python2.7/dist-packages/IPython/core/pylabtools.py\", line 290, in activate_matplotlib\n",
        "    matplotlib.pyplot.switch_backend(backend)\n",
        "  File \"/home/AD/dfco222/.local/lib/python2.7/site-packages/matplotlib/pyplot.py\", line 231, in switch_backend\n",
        "    matplotlib.use(newbackend, warn=False, force=True)\n",
        "  File \"/home/AD/dfco222/.local/lib/python2.7/site-packages/matplotlib/__init__.py\", line 1410, in use\n",
        "    reload(sys.modules['matplotlib.backends'])\n",
        "  File \"/home/AD/dfco222/.local/lib/python2.7/site-packages/matplotlib/backends/__init__.py\", line 16, in <module>\n",
        "    line for line in traceback.format_stack()\n",
        "\n",
        "\n",
        "  matplotlib.use('Agg')\n"
       ]
      },
      {
       "output_type": "stream",
       "stream": "stdout",
       "text": [
        "Comment out for HESSE\n"
       ]
      }
     ],
     "prompt_number": 1
    },
    {
     "cell_type": "heading",
     "level": 3,
     "metadata": {},
     "source": [
      "This is our original image"
     ]
    },
    {
     "cell_type": "code",
     "collapsed": false,
     "input": [
      "#img = util.ReadImg(\"/net/share/pmke226/DataLocker/cardiac/Sachse/171127_tissue/tissue.tif\")\n",
      "#subsection =\n",
      "\n",
      "### Setup cases for use\n",
      "filterTwoSarcomereSize = 25\n",
      "class empty: pass\n",
      "case = empty()\n",
      "\n",
      "case = empty()\n",
      "case.loc_um = [200,1800]\n",
      "case.extent_um = [400,400]\n",
      "\n",
      "tissue.SetupCase(case)"
     ],
     "language": "python",
     "metadata": {},
     "outputs": [
      {
       "output_type": "stream",
       "stream": "stdout",
       "text": [
        "Extracting 399x399 region from 3916x4093 image\n"
       ]
      }
     ],
     "prompt_number": 2
    },
    {
     "cell_type": "code",
     "collapsed": false,
     "input": [
      "plt.figure()\n",
      "plt.imshow(case.subregion,cmap='gray')\n",
      "plt.show()"
     ],
     "language": "python",
     "metadata": {},
     "outputs": [
      {
       "output_type": "stream",
       "stream": "stderr",
       "text": [
        "/home/AD/dfco222/.local/lib/python2.7/site-packages/matplotlib/figure.py:2267: UserWarning: This figure includes Axes that are not compatible with tight_layout, so results might be incorrect.\n",
        "  warnings.warn(\"This figure includes Axes that are not compatible \"\n"
       ]
      },
      {
       "metadata": {},
       "output_type": "display_data",
       "png": "[encoded data removed]",
       "text": [
        "<Figure size 600x400 with 1 Axes>"
       ]
      }
     ],
     "prompt_number": 3
    },
    {
     "cell_type": "markdown",
     "metadata": {},
     "source": [
      "### Now we have to preprocess it\n",
      "\n",
      "- Just using reorient routine to get an idea of major axis angle (don't want to rotate since that adds black space)\n",
      "- Resize based on previous analysis\n",
      "- Use CLAHE routine\n",
      "- Perform intelligent thresholding based off of previous analysis"
     ]
    },
    {
     "cell_type": "code",
     "collapsed": false,
     "input": [
      "_,degreesOffCenter = pp.reorient(case.subregion)\n",
      "imgTwoSarcSize = 22\n",
      "scale = float(filterTwoSarcomereSize) / float(imgTwoSarcSize)\n",
      "case.subregion = cv2.resize(case.subregion,None,fx=scale,fy=scale,interpolation=cv2.INTER_CUBIC)\n",
      "case.subregion = pp.applyCLAHE(case.subregion,filterTwoSarcomereSize)\n",
      "ceilingValue = 7\n",
      "floorValue = 0\n",
      "case.subregion[case.subregion > ceilingValue] = ceilingValue\n",
      "case.subregion[case.subregion < floorValue] = floorValue\n",
      "case.subregion -= np.min(case.subregion)\n",
      "case.subregion = case.subregion.astype(float) / float(np.max(case.subregion))"
     ],
     "language": "python",
     "metadata": {},
     "outputs": [
      {
       "output_type": "stream",
       "stream": "stdout",
       "text": [
        "Reorienting Myocyte\n",
        "Image is"
       ]
      },
      {
       "output_type": "stream",
       "stream": "stdout",
       "text": [
        " 52.1203555029 degrees off center\n",
        "Applying CLAHE to Myocyte\n"
       ]
      }
     ],
     "prompt_number": 4
    },
    {
     "cell_type": "code",
     "collapsed": false,
     "input": [
      "plt.figure()\n",
      "plt.imshow(case.subregion,cmap='gray')\n",
      "plt.colorbar()\n",
      "plt.show()"
     ],
     "language": "python",
     "metadata": {},
     "outputs": [
      {
       "metadata": {},
       "output_type": "display_data",
       "png": "[encoded data removed]",
       "text": [
        "<Figure size 600x400 with 2 Axes>"
       ]
      }
     ],
     "prompt_number": 5
    },
    {
     "cell_type": "code",
     "collapsed": false,
     "input": [
      "bigDims = np.asarray(np.shape(case.subregion))\n",
      "cutOff = -1 * (bigDims - 2000)\n",
      "print cutOff"
     ],
     "language": "python",
     "metadata": {},
     "outputs": [
      {
       "output_type": "stream",
       "stream": "stdout",
       "text": [
        "[-274 -274]\n"
       ]
      }
     ],
     "prompt_number": 6
    },
    {
     "cell_type": "code",
     "collapsed": false,
     "input": [
      "case.subregion = case.subregion[:cutOff[0],:cutOff[1]]\n",
      "print np.shape(case.subregion)"
     ],
     "language": "python",
     "metadata": {},
     "outputs": [
      {
       "output_type": "stream",
       "stream": "stdout",
       "text": [
        "(2000, 2000)\n"
       ]
      }
     ],
     "prompt_number": 7
    },
    {
     "cell_type": "code",
     "collapsed": true,
     "input": [
      "img = case.subregion.copy()\n",
      "dimOrig = np.asarray(np.shape(img))"
     ],
     "language": "python",
     "metadata": {},
     "outputs": [],
     "prompt_number": 8
    },
    {
     "cell_type": "heading",
     "level": 3,
     "metadata": {},
     "source": [
      "Here we create randomized images that are 1/4 of the original size (1/2 in each dimension), which will be comprised of subimages that are 200x200"
     ]
    },
    {
     "cell_type": "code",
     "collapsed": true,
     "input": [
      "\n",
      "dimSubImg = np.array([200,200])\n",
      "subDiv = dimOrig/dimSubImg\n",
      "\n",
      "# create list of subimages from which we will draw random samples \n",
      "subImgs = []\n",
      "for i in range(subDiv[0]):\n",
      "    for j in range(subDiv[0]):\n",
      "        damin=[i*dimSubImg[0]  ,j*dimSubImg[1]]\n",
      "        damax=[(i+1)*dimSubImg[0], (j+1)*dimSubImg[1]]\n",
      "        print damin, damax\n",
      "        subImg = img[damin[0]:damax[0],damin[1]:damax[1]]  \n",
      "        subImgs.append(subImg)  \n",
      "        \n",
      "        #plt.figure()\n",
      "        #plt.imshow(subImg)\n",
      "        #plt.show()"
     ],
     "language": "python",
     "metadata": {},
     "outputs": [
      {
       "output_type": "stream",
       "stream": "stdout",
       "text": [
        "[0, 0] [200, 200]\n",
        "[0, 200] [200, 400]\n",
        "[0, 400] [200, 600]\n",
        "[0, 600] [200, 800]\n",
        "[0, 800] [200, 1000]\n",
        "[0, 1000] [200, 1200]\n",
        "[0, 1200] [200, 1400]\n",
        "[0, 1400] [200, 1600]\n",
        "[0, 1600] [200, 1800]\n",
        "[0, 1800] [200, 2000]\n",
        "[200, 0] [400, 200]\n",
        "[200, 200] [400, 400]\n",
        "[200, 400] [400, 600]\n",
        "[200, 600] [400, 800]\n",
        "[200, 800] [400, 1000]\n",
        "[200, 1000] [400, 1200]\n",
        "[200, 1200] [400, 1400]\n",
        "[200, 1400] [400, 1600]\n",
        "[200, 1600] [400, 1800]\n",
        "[200, 1800] [400, 2000]\n",
        "[400, 0] [600, 200]\n",
        "[400, 200] [600, 400]\n",
        "[400, 400] [600, 600]\n",
        "[400, 600] [600, 800]\n",
        "[400, 800] [600, 1000]\n",
        "[400, 1000] [600, 1200]\n",
        "[400, 1200] [600, 1400]\n",
        "[400, 1400] [600, 1600]\n",
        "[400, 1600] [600, 1800]\n",
        "[400, 1800] [600, 2000]\n",
        "[600, 0] [800, 200]\n",
        "[600, 200] [800, 400]\n",
        "[600, 400] [800, 600]\n",
        "[600, 600] [800, 800]\n",
        "[600, 800] [800, 1000]\n",
        "[600, 1000] [800, 1200]\n",
        "[600, 1200] [800, 1400]\n",
        "[600, 1400] [800, 1600]\n",
        "[600, 1600] [800, 1800]\n",
        "[600, 1800] [800, 2000]\n",
        "[800, 0] [1000, 200]\n",
        "[800, 200] [1000, 400]\n",
        "[800, 400] [1000, 600]\n",
        "[800, 600] [1000, 800]\n",
        "[800, 800] [1000, 1000]\n",
        "[800, 1000] [1000, 1200]\n",
        "[800, 1200] [1000, 1400]\n",
        "[800, 1400] [1000, 1600]\n",
        "[800, 1600] [1000, 1800]\n",
        "[800, 1800] [1000, 2000]\n",
        "[1000, 0] [1200, 200]\n",
        "[1000, 200] [1200, 400]\n",
        "[1000, 400] [1200, 600]\n",
        "[1000, 600] [1200, 800]\n",
        "[1000, 800] [1200, 1000]\n",
        "[1000, 1000] [1200, 1200]\n",
        "[1000, 1200] [1200, 1400]\n",
        "[1000, 1400] [1200, 1600]\n",
        "[1000, 1600] [1200, 1800]\n",
        "[1000, 1800] [1200, 2000]\n",
        "[1200, 0] [1400, 200]\n",
        "[1200, 200] [1400, 400]\n",
        "[1200, 400] [1400, 600]\n",
        "[1200, 600] [1400, 800]\n",
        "[1200, 800] [1400, 1000]\n",
        "[1200, 1000] [1400, 1200]\n",
        "[1200, 1200] [1400, 1400]\n",
        "[1200, 1400] [1400, 1600]\n",
        "[1200, 1600] [1400, 1800]\n",
        "[1200, 1800] [1400, 2000]\n",
        "[1400, 0] [1600, 200]\n",
        "[1400, 200] [1600, 400]\n",
        "[1400, 400] [1600, 600]\n",
        "[1400, 600] [1600, 800]\n",
        "[1400, 800] [1600, 1000]\n",
        "[1400, 1000] [1600, 1200]\n",
        "[1400, 1200] [1600, 1400]\n",
        "[1400, 1400] [1600, 1600]\n",
        "[1400, 1600] [1600, 1800]\n",
        "[1400, 1800] [1600, 2000]\n",
        "[1600, 0] [1800, 200]\n",
        "[1600, 200] [1800, 400]\n",
        "[1600, 400] [1800, 600]\n",
        "[1600, 600] [1800, 800]\n",
        "[1600, 800] [1800, 1000]\n",
        "[1600, 1000] [1800, 1200]\n",
        "[1600, 1200] [1800, 1400]\n",
        "[1600, 1400] [1800, 1600]\n",
        "[1600, 1600] [1800, 1800]\n",
        "[1600, 1800] [1800, 2000]\n",
        "[1800, 0] [2000, 200]\n",
        "[1800, 200] [2000, 400]\n",
        "[1800, 400] [2000, 600]\n",
        "[1800, 600] [2000, 800]\n",
        "[1800, 800] [2000, 1000]\n",
        "[1800, 1000] [2000, 1200]\n",
        "[1800, 1200] [2000, 1400]\n",
        "[1800, 1400] [2000, 1600]\n",
        "[1800, 1600] [2000, 1800]\n",
        "[1800, 1800] [2000, 2000]\n"
       ]
      }
     ],
     "prompt_number": 17
    },
    {
     "cell_type": "code",
     "collapsed": false,
     "input": [
      "# create a random bootstrap image\n",
      "dimBootstrap = dimOrig/2\n",
      "\n",
      "def MakeBootstrap(\n",
      "  dimBootstrap,\n",
      "  dimSubImg,\n",
      "  subImgs,\n",
      "  verbose=True\n",
      "):\n",
      "    subDiv = dimBootstrap/dimSubImg\n",
      "\n",
      "    nRandomDraws = np.prod(subDiv)\n",
      "    from random import randint\n",
      "    randInts = np.asarray( [randint(0,len(subImgs)-1) for p in range(0,nRandomDraws)],dtype=int )\n",
      "    \n",
      "    #randomDraws = subImgs[ randInts ]\n",
      "\n",
      "    ### Changing bootstrapped image to be a list as to not mess with discontinuity along edges\n",
      "    #bootStrapImg = np.zeros(dimBootstrap)\n",
      "    bootStrapImg = []\n",
      "    \n",
      "    ctr=0\n",
      "    for i in range(subDiv[0]):\n",
      "        for j in range(subDiv[1]):\n",
      "          damin=[i*dimSubImg[0]  ,j*dimSubImg[1]]\n",
      "          damax=[(i+1)*dimSubImg[0], (j+1)*dimSubImg[1]]\n",
      "          #print damin, damax\n",
      "          #subImg = img[damin[0]:damax[0],damin[1]:damax[1]]  \n",
      "          #print ctr  \n",
      "          bootStrapImg.append(subImgs[ randInts[ctr] ])\n",
      "          ctr+=1 \n",
      "    if verbose:    \n",
      "      #plt.figure()  \n",
      "      print randInts   \n",
      "      #plt.pcolormesh(bootStrapImg,cmap='gray')   \n",
      "    return bootStrapImg       \n",
      "\n",
      "\n",
      "print \"Example random image\" \n",
      "bootStrap = MakeBootstrap(dimBootstrap,dimSubImg,subImgs)"
     ],
     "language": "python",
     "metadata": {},
     "outputs": [
      {
       "output_type": "stream",
       "stream": "stdout",
       "text": [
        "Example random image\n",
        "[26 78 44 28 15  3 78 75 40 99 22 50 42 72 51  6 84  4 93 34 89 82 58  0 98]\n"
       ]
      }
     ],
     "prompt_number": 25
    },
    {
     "cell_type": "heading",
     "level": 3,
     "metadata": {},
     "source": [
      "Do bootstrapping "
     ]
    },
    {
     "cell_type": "code",
     "collapsed": true,
     "input": [
      "%%capture\n",
      "# ^ turns off print statements for cell\n",
      "\n",
      "numBootstrapTests = 1\n",
      "#numBootstrapTests = 2\n",
      "inputs = empty()\n",
      "inputs.useGPU = False\n",
      "iters = [-25,-20,-15,-10,-5,0,5,10,15,20,25] - degreesOffCenter # to account for rotations\n",
      "ttFilterName = \"./myoimages/newSimpleWTFilter.png\"\n",
      "ttPunishmentName = \"./myoimages/newSimpleWTPunishmentFilter.png\"\n",
      "ltFilterName = \"./myoimages/LongitudinalFilter.png\"\n",
      "lossFilterName = \"./myoimages/LossFilter.png\"\n",
      "returnAngles = True\n",
      "\n",
      "ttFilter = util.LoadFilter(ttFilterName)\n",
      "ttY,ttX = util.measureFilterDimensions(ttFilter)\n",
      "\n",
      "dim = 5\n",
      "kernel = np.ones((dim,dim),dtype=np.float32)\n",
      "kernel /= np.sum(kernel)\n",
      "### make longer WT filter so more robust to striation angle deviation\n",
      "ttFilter = util.LoadFilter(ttFilterName)\n",
      "longFilter = np.concatenate((ttFilter,ttFilter,ttFilter))\n",
      "rotInputs = empty()\n",
      "\n",
      "#print np.shape(np.ones(dimSubImg))\n",
      "dummyImage = np.stack((np.zeros(dimSubImg),np.zeros(dimSubImg),np.zeros(dimSubImg)),axis=2).astype(np.uint8)\n",
      "print np.shape(dummyImage)\n",
      "\n",
      "\n",
      "def yourStatistic(data):\n",
      "    data[data != 0] = 1.\n",
      "    return np.mean(data)\n",
      "\n",
      "def angleStatistic(data):\n",
      "    '''\n",
      "    Takes the marked angles from the analysis and reports back what percentage of the angles lie within\n",
      "    5 degrees of the major axis\n",
      "    '''\n",
      "    hitCounts = 0\n",
      "    totalHits = np.count_nonzero(np.where(data != -1))\n",
      "    rots = [4,5,6] # indexes of iters which we care about\n",
      "    for i in rots:\n",
      "        hitCounts += np.count_nonzero(np.where(data == i))\n",
      "    return float(hitCounts) / float(totalHits)\n",
      "    \n",
      "\n",
      "yourStatistics=np.zeros(numBootstrapTests)\n",
      "WTmeans = []\n",
      "#LTmeans = []; Lossmeans = []; \n",
      "angleStats = []\n",
      "for i in range(numBootstrapTests):\n",
      "    bootStrap = MakeBootstrap(dimBootstrap,dimSubImg,subImgs,verbose=False)\n",
      "    # put in your mf tool\n",
      "    #yourStatistics[i]=#yourStatistic(bootStrap)\n",
      "    smallWTStats = []\n",
      "    smallAngleStats = []\n",
      "    for smallImg in bootStrap:\n",
      "        # store image in inputs class\n",
      "        inputs.imgOrig = smallImg\n",
      "        \n",
      "        ### do filtering for content\n",
      "        WTresults = mF.WT_Filtering(inputs,iters,ttFilterName,ttPunishmentName,None,None,returnAngles)\n",
      "        \n",
      "        #LTresults = mF.LT_Filtering(inputs,iters,ltFilterName,None,False)\n",
      "        #Lossresults = mF.Loss_Filtering(inputs,lossFilterName,None,False)\n",
      "        \n",
      "        # now paste unit cells onto image to get idea of what marked myocyte would look like\n",
      "        #resultImage = mF.markPastedFilters(Lossresults.stackedHits,\n",
      "        #                                   LTresults.stackedHits,\n",
      "        #                                   WTresults.stackedHits,\n",
      "        #                                   dummyImage.copy())\n",
      "        \n",
      "        # paste until cells onto image to get accurate representation of WT structure\n",
      "        WT_hits = painter.doLabel(WTresults,dx=ttX,dy=ttY,thresh=0)\n",
      "        #plt.figure()\n",
      "        #plt.imshow(WT_hits)\n",
      "        #plt.colorbar()\n",
      "        #plt.show()\n",
      "        \n",
      "        #import display_util as du\n",
      "        #du.StackGrayRedAlpha(smallImg,WT_hits)\n",
      "        #plt.show()\n",
      "        \n",
      "        #WT_hits_count = np.count_nonzero(WT_hits)\n",
      "        \n",
      "        ### do angle analysis\n",
      "        smoothed = matchedFilter.matchedFilter(inputs.imgOrig,kernel,demean=False)\n",
      "        rotInputs.imgOrig = smoothed\n",
      "        rotInputs.mfOrig = longFilter\n",
      "\n",
      "        params = optimizer.ParamDict(typeDict='WT')\n",
      "        params['snrThresh'] = 0 # to pull out max hit\n",
      "        params['filterMode'] = 'simple' # we want no punishment since that causes high variation\n",
      "\n",
      "        # perform simple filtering\n",
      "        smoothedWTresults = bD.DetectFilter(rotInputs,params,iters,returnAngles=returnAngles)\n",
      "        smoothedHits = smoothedWTresults.stackedAngles\n",
      "        \n",
      "        # pull out actual hits from smoothed results\n",
      "        smoothedHits[WTresults.stackedHits == 0] = -1\n",
      "        stackedAngles = smoothedHits\n",
      "        \n",
      "        angleCounts = angleStatistic(stackedAngles)\n",
      "\n",
      "\n",
      "        ### do statistics now\n",
      "        smallWTStats.append(yourStatistic(WT_hits))\n",
      "        #LTmeans.append(yourStatistic(LTresults.stackedHits))\n",
      "        #Lossmeans.append(yourStatistic(Lossresults.stackedHits))\n",
      "        smallAngleStats.append(angleCounts)\n",
      "    WTmeans.append(np.mean(smallWTStats))\n",
      "    angleStats.append(np.mean(smallAngleStats))\n",
      "        \n",
      "\n",
      "\n"
     ],
     "language": "python",
     "metadata": {
      "scrolled": true
     },
     "outputs": [],
     "prompt_number": 27
    },
    {
     "cell_type": "code",
     "collapsed": false,
     "input": [
      "#print \"Bootstrap mean: %f\" % (np.mean(yourStatistics))\n",
      "#print \"Bootstrap stddev: %f\" % (np.std(yourStatistics))\n",
      "#print \"Bootstrap stderr: %f\" % (np.std(yourStatistics)/np.sqrt(numBootstrapTests))\n",
      "#print WTmeans\n",
      "print np.mean(WTmeans)\n",
      "print np.std(WTmeans)\n",
      "\n",
      "#print angleStats\n",
      "print np.mean(angleStats)\n",
      "print np.std(angleStats)"
     ],
     "language": "python",
     "metadata": {},
     "outputs": [
      {
       "output_type": "stream",
       "stream": "stdout",
       "text": [
        "0.199857\n",
        "0.0\n",
        "0.250129721503\n",
        "0.0\n"
       ]
      }
     ],
     "prompt_number": 28
    },
    {
     "cell_type": "code",
     "collapsed": false,
     "input": [
      "print \"Mean WT Detection Rate:\",str(np.mean(WTmeans)*100)[:5],'+-',str(np.std(WTmeans)*100)[:5]+'%'\n",
      "#print \"Std Dev of WT Detection Rate:\",+'%'\n",
      "print \"Percent WT Detection Within 5 Degrees of Minor Axis:\",str(np.mean(angleStats)*100)[:5],'+-',str(np.std(angleStats)*100)[:5]+'%'\n",
      "#print \"Std Dev of Angle of WT Detection:\",+'%'"
     ],
     "language": "python",
     "metadata": {},
     "outputs": [
      {
       "output_type": "stream",
       "stream": "stdout",
       "text": [
        "Mean WT Detection Rate: 19.98 +- 0.0%\n",
        "Percent WT Detection Within 5 Degrees of Minor Axis: 25.01 +- 0.0%\n"
       ]
      }
     ],
     "prompt_number": 29
    },
    {
     "cell_type": "code",
     "collapsed": true,
     "input": [],
     "language": "python",
     "metadata": {},
     "outputs": [],
     "prompt_number": null
    }
   ],
   "metadata": {}
  }
 ]
}