{
 "metadata": {
  "name": "",
  "signature": "sha256:a47ff56da434478b0ce72c80b06159527a57c10cbf33cfc6ef5964f482b69762"
 },
 "nbformat": 3,
 "nbformat_minor": 0,
 "worksheets": [
  {
   "cells": [
    {
     "cell_type": "markdown",
     "metadata": {},
     "source": [
      "Notebook to conduct the bootstrapping and analysis for the distal and proximal sections"
     ]
    },
    {
     "cell_type": "code",
     "collapsed": false,
     "input": [
      "import os\n",
      "import numpy as np\n",
      "import matplotlib.pyplot as plt\n",
      "import pickle \n",
      "import cv2\n",
      "from random import randint\n",
      "%load_ext autoreload\n",
      "%autoreload 2\n",
      "import painter\n",
      "import display_util as du\n",
      "import myocyteFigs as mF\n",
      "import util\n"
     ],
     "language": "python",
     "metadata": {},
     "outputs": [
      {
       "output_type": "stream",
       "stream": "stdout",
       "text": [
        "The autoreload extension is already loaded. To reload it, use:\n",
        "  %reload_ext autoreload\n",
        "Comment out for HESSE"
       ]
      },
      {
       "output_type": "stream",
       "stream": "stdout",
       "text": [
        "\n"
       ]
      },
      {
       "output_type": "stream",
       "stream": "stderr",
       "text": [
        "/usr/lib/python2.7/dist-packages/matplotlib/__init__.py:1352: UserWarning:  This call to matplotlib.use() has no effect\n",
        "because the backend has already been chosen;\n",
        "matplotlib.use() must be called *before* pylab, matplotlib.pyplot,\n",
        "or matplotlib.backends is imported for the first time.\n",
        "\n",
        "  warnings.warn(_use_error_msg)\n"
       ]
      }
     ],
     "prompt_number": 51
    },
    {
     "cell_type": "markdown",
     "metadata": {},
     "source": [
      "### Load in images"
     ]
    },
    {
     "cell_type": "code",
     "collapsed": false,
     "input": [
      "distalImgs = {}\n",
      "proximalImgs = {}\n",
      "\n",
      "with open('./infarctedTissue_distalNames.pkl','r') as blah:\n",
      "        distalNames = pickle.load(blah)\n",
      "with open('./infarctedTissue_proximalNames.pkl','r') as blah:\n",
      "        proximalNames = pickle.load(blah)\n",
      "\n",
      "for name in distalNames:\n",
      "    print \"Loaded:\",name\n",
      "    distalImgs[name] = cv2.cvtColor(cv2.imread(name),cv2.COLOR_BGR2GRAY).astype(np.float32) / 255.\n",
      "\n",
      "for name in proximalNames:\n",
      "    print \"Loaded:\",name\n",
      "    proximalImgs[name] = cv2.cvtColor(cv2.imread(name),cv2.COLOR_BGR2GRAY).astype(np.float32) / 255.\n",
      "    \n",
      "allNames = distalNames + proximalNames"
     ],
     "language": "python",
     "metadata": {},
     "outputs": [
      {
       "output_type": "stream",
       "stream": "stdout",
       "text": [
        "Loaded: infarctTissue_distal_row0_col10000.png\n",
        "Loaded:"
       ]
      },
      {
       "output_type": "stream",
       "stream": "stdout",
       "text": [
        " infarctTissue_distal_row0_col12000.png\n",
        "Loaded:"
       ]
      },
      {
       "output_type": "stream",
       "stream": "stdout",
       "text": [
        " infarctTissue_distal_row0_col16000.png\n",
        "Loaded:"
       ]
      },
      {
       "output_type": "stream",
       "stream": "stdout",
       "text": [
        " infarctTissue_distal_row0_col18000.png\n",
        "Loaded:"
       ]
      },
      {
       "output_type": "stream",
       "stream": "stdout",
       "text": [
        " infarctTissue_distal_row0_col20000.png\n",
        "Loaded:"
       ]
      },
      {
       "output_type": "stream",
       "stream": "stdout",
       "text": [
        " infarctTissue_distal_row2000_col6000.png\n",
        "Loaded:"
       ]
      },
      {
       "output_type": "stream",
       "stream": "stdout",
       "text": [
        " infarctTissue_distal_row2000_col8000.png\n",
        "Loaded:"
       ]
      },
      {
       "output_type": "stream",
       "stream": "stdout",
       "text": [
        " infarctTissue_distal_row2000_col10000.png\n",
        "Loaded:"
       ]
      },
      {
       "output_type": "stream",
       "stream": "stdout",
       "text": [
        " infarctTissue_distal_row2000_col14000.png\n",
        "Loaded:"
       ]
      },
      {
       "output_type": "stream",
       "stream": "stdout",
       "text": [
        " infarctTissue_distal_row2000_col18000.png\n",
        "Loaded:"
       ]
      },
      {
       "output_type": "stream",
       "stream": "stdout",
       "text": [
        " infarctTissue_distal_row2000_col20000.png\n",
        "Loaded:"
       ]
      },
      {
       "output_type": "stream",
       "stream": "stdout",
       "text": [
        " infarctTissue_distal_row4000_col2000.png\n",
        "Loaded:"
       ]
      },
      {
       "output_type": "stream",
       "stream": "stdout",
       "text": [
        " infarctTissue_distal_row4000_col4000.png\n",
        "Loaded:"
       ]
      },
      {
       "output_type": "stream",
       "stream": "stdout",
       "text": [
        " infarctTissue_distal_row4000_col6000.png\n",
        "Loaded:"
       ]
      },
      {
       "output_type": "stream",
       "stream": "stdout",
       "text": [
        " infarctTissue_distal_row4000_col8000.png\n",
        "Loaded:"
       ]
      },
      {
       "output_type": "stream",
       "stream": "stdout",
       "text": [
        " infarctTissue_distal_row4000_col14000.png\n",
        "Loaded:"
       ]
      },
      {
       "output_type": "stream",
       "stream": "stdout",
       "text": [
        " infarctTissue_distal_row4000_col18000.png\n",
        "Loaded:"
       ]
      },
      {
       "output_type": "stream",
       "stream": "stdout",
       "text": [
        " infarctTissue_distal_row4000_col20000.png\n",
        "Loaded:"
       ]
      },
      {
       "output_type": "stream",
       "stream": "stdout",
       "text": [
        " infarctTissue_proximal_row14000_col10000.png\n",
        "Loaded:"
       ]
      },
      {
       "output_type": "stream",
       "stream": "stdout",
       "text": [
        " infarctTissue_proximal_row14000_col12000.png\n",
        "Loaded:"
       ]
      },
      {
       "output_type": "stream",
       "stream": "stdout",
       "text": [
        " infarctTissue_proximal_row14000_col14000.png\n",
        "Loaded:"
       ]
      },
      {
       "output_type": "stream",
       "stream": "stdout",
       "text": [
        " infarctTissue_proximal_row14000_col16000.png\n",
        "Loaded:"
       ]
      },
      {
       "output_type": "stream",
       "stream": "stdout",
       "text": [
        " infarctTissue_proximal_row14000_col18000.png\n",
        "Loaded:"
       ]
      },
      {
       "output_type": "stream",
       "stream": "stdout",
       "text": [
        " infarctTissue_proximal_row14000_col20000.png\n",
        "Loaded:"
       ]
      },
      {
       "output_type": "stream",
       "stream": "stdout",
       "text": [
        " infarctTissue_proximal_row16000_col8000.png\n",
        "Loaded:"
       ]
      },
      {
       "output_type": "stream",
       "stream": "stdout",
       "text": [
        " infarctTissue_proximal_row16000_col10000.png\n",
        "Loaded:"
       ]
      },
      {
       "output_type": "stream",
       "stream": "stdout",
       "text": [
        " infarctTissue_proximal_row16000_col12000.png\n",
        "Loaded:"
       ]
      },
      {
       "output_type": "stream",
       "stream": "stdout",
       "text": [
        " infarctTissue_proximal_row16000_col14000.png\n",
        "Loaded:"
       ]
      },
      {
       "output_type": "stream",
       "stream": "stdout",
       "text": [
        " infarctTissue_proximal_row16000_col16000.png\n",
        "Loaded:"
       ]
      },
      {
       "output_type": "stream",
       "stream": "stdout",
       "text": [
        " infarctTissue_proximal_row16000_col18000.png\n",
        "Loaded:"
       ]
      },
      {
       "output_type": "stream",
       "stream": "stdout",
       "text": [
        " infarctTissue_proximal_row16000_col20000.png\n",
        "Loaded:"
       ]
      },
      {
       "output_type": "stream",
       "stream": "stdout",
       "text": [
        " infarctTissue_proximal_row18000_col8000.png\n",
        "Loaded:"
       ]
      },
      {
       "output_type": "stream",
       "stream": "stdout",
       "text": [
        " infarctTissue_proximal_row18000_col10000.png\n",
        "Loaded:"
       ]
      },
      {
       "output_type": "stream",
       "stream": "stdout",
       "text": [
        " infarctTissue_proximal_row18000_col12000.png\n",
        "Loaded:"
       ]
      },
      {
       "output_type": "stream",
       "stream": "stdout",
       "text": [
        " infarctTissue_proximal_row18000_col14000.png\n",
        "Loaded:"
       ]
      },
      {
       "output_type": "stream",
       "stream": "stdout",
       "text": [
        " infarctTissue_proximal_row18000_col16000.png\n"
       ]
      }
     ],
     "prompt_number": 11
    },
    {
     "cell_type": "markdown",
     "metadata": {},
     "source": [
      "### Load in orientation of each image"
     ]
    },
    {
     "cell_type": "code",
     "collapsed": false,
     "input": [
      "with open('infarctedTissue_OrientationDictionary.pkl','r') as blah:\n",
      "    orientationDict = pickle.load(blah)"
     ],
     "language": "python",
     "metadata": {},
     "outputs": [],
     "prompt_number": 10
    },
    {
     "cell_type": "markdown",
     "metadata": {},
     "source": [
      "### Create a bootstrapper function"
     ]
    },
    {
     "cell_type": "code",
     "collapsed": false,
     "input": [
      "originalImgDims = np.asarray([2000,2000])\n",
      "bootstrapImgDims = originalImgDims\n",
      "subImgDims = np.asarray([400,400])\n",
      "\n",
      "def makeBootstrapImg(originalImgDims,\n",
      "                     subImgDims,\n",
      "                     bootstrapImgDims,\n",
      "                     imgDict,\n",
      "                     verbose=False\n",
      "                     ):\n",
      "    ### All images are same size, so we can take advantage of this by using the same indexing for all images\n",
      "    subDiv = bootstrapImgDims/subImgDims\n",
      "\n",
      "    ### Determine images we'll randomly sample\n",
      "    nRandomDraws = np.prod(subDiv)\n",
      "    randImgIdxs = np.asarray( [randint(0,len(imgDict)-1) for p in range(0,nRandomDraws)],dtype=int)\n",
      "    imgNames = imgDict.keys()\n",
      "    randImgs = [ imgNames[idx] for idx in randImgIdxs]\n",
      "    \n",
      "    ### Determine the coordinates within the image we'll randomly sample\n",
      "    indexExtent = originalImgDims / subImgDims\n",
      "    rand_row_coords = np.asarray( [subImgDims[0] * randint(0,indexExtent[0]-1) for p in range(nRandomDraws)],dtype=int)\n",
      "    rand_col_coords = np.asarray( [subImgDims[1] * randint(0,indexExtent[1]-1) for p in range(nRandomDraws)],dtype=int)\n",
      "    \n",
      "    if verbose:\n",
      "        print \"Random Image Indexes\",randImgIdxs\n",
      "        print \"Random Row Coordinates\", rand_row_coords\n",
      "        print \"Random Col Coordinates\",rand_col_coords\n",
      "    \n",
      "    ### We're making a list as our bootstrap image to avoid edge discontinuities\n",
      "    bootstrapImg = []\n",
      "    ctr=0 \n",
      "    while ctr < nRandomDraws:\n",
      "        bootstrapImg.append(imgDict[randImgs[ctr]][rand_row_coords[ctr]:rand_row_coords[ctr]+subImgDims[0],\n",
      "                                                   rand_col_coords[ctr]:rand_col_coords[ctr]+subImgDims[1]])\n",
      "        \n",
      "        ctr += 1\n",
      "        \n",
      "    return bootstrapImg, randImgs       "
     ],
     "language": "python",
     "metadata": {},
     "outputs": [],
     "prompt_number": 55
    },
    {
     "cell_type": "code",
     "collapsed": false,
     "input": [
      "sampleBootstrapImg, bootstrapNames = makeBootstrapImg(originalImgDims,subImgDims,bootstrapImgDims,distalImgs,verbose=True)\n",
      "print \"\\n Length of bootstrap image:\",len(sampleBootstrapImg)\n",
      "\n",
      "print \"\\n Bootstrap Names:\",bootstrapNames\n",
      "\n",
      "plt.figure()\n",
      "plt.imshow(sampleBootstrapImg[10],cmap='gray')\n",
      "plt.title(\"Random Sample of Bootstrap Image\")\n",
      "plt.show()"
     ],
     "language": "python",
     "metadata": {},
     "outputs": [
      {
       "output_type": "stream",
       "stream": "stdout",
       "text": [
        "Random Image Indexes [ 9  3 16  5  1 17 12  2  7  2  7 15  6  4 10  0  2 16  9 16 17  3 16  4 15]\n",
        "Random Row Coordinates [1600  400 1200    0 1600  400  400 1200    0 1600  800 1600    0    0  400\n",
        "  800  800  800 1200  400  800  400  400 1200 1600]\n",
        "Random Col Coordinates [1200    0  400 1600 1200  400  800 1600    0  400    0 1600  400 1200 1200\n",
        "  800 1200  800    0 1200 1600  800    0  400  400]\n",
        "\n",
        " Length of bootstrap image: 25\n",
        "\n",
        " Bootstrap Names: ['infarctTissue_distal_row4000_col14000.png', 'infarctTissue_distal_row4000_col6000.png', 'infarctTissue_distal_row4000_col2000.png', 'infarctTissue_distal_row2000_col8000.png', 'infarctTissue_distal_row2000_col10000.png', 'infarctTissue_distal_row4000_col8000.png', 'infarctTissue_distal_row2000_col18000.png', 'infarctTissue_distal_row0_col10000.png', 'infarctTissue_distal_row4000_col20000.png', 'infarctTissue_distal_row0_col10000.png', 'infarctTissue_distal_row4000_col20000.png', 'infarctTissue_distal_row2000_col6000.png', 'infarctTissue_distal_row0_col18000.png', 'infarctTissue_distal_row4000_col18000.png', 'infarctTissue_distal_row4000_col4000.png', 'infarctTissue_distal_row0_col16000.png', 'infarctTissue_distal_row0_col10000.png', 'infarctTissue_distal_row4000_col2000.png', 'infarctTissue_distal_row4000_col14000.png', 'infarctTissue_distal_row4000_col2000.png', 'infarctTissue_distal_row4000_col8000.png', 'infarctTissue_distal_row4000_col6000.png', 'infarctTissue_distal_row4000_col2000.png', 'infarctTissue_distal_row4000_col18000.png', 'infarctTissue_distal_row2000_col6000.png']\n"
       ]
      },
      {
       "output_type": "stream",
       "stream": "stderr",
       "text": [
        "/usr/lib/python2.7/dist-packages/matplotlib/figure.py:1744: UserWarning: This figure includes Axes that are not compatible with tight_layout, so its results might be incorrect.\n",
        "  warnings.warn(\"This figure includes Axes that are not \"\n"
       ]
      },
      {
       "metadata": {},
       "output_type": "display_data",
       "png": "[encoded data removed]",
       "text": [
        "<matplotlib.figure.Figure at 0x7f1e5414a390>"
       ]
      }
     ],
     "prompt_number": 56
    },
    {
     "cell_type": "markdown",
     "metadata": {},
     "source": [
      "### Do Bootstrapping for Each Case (Distal and Proximal)"
     ]
    },
    {
     "cell_type": "code",
     "collapsed": false,
     "input": [
      "numBootstraps = 2\n",
      "\n",
      "### setup inputs class\n",
      "class empty: pass\n",
      "inputs = empty()\n",
      "inputs.useGPU = False\n",
      "ttFilterName = \"./myoimages/newSimpleWTFilter.png\"\n",
      "ttPunishmentName = \"./myoimages/newSimpleWTPunishmentFilter.png\"\n",
      "#ltFilterName = \"./myoimages/LongitudinalFilter.png\"\n",
      "TAFilterName = \"./myoimages/LossFilter.png\"\n",
      "returnAngles = False\n",
      "\n",
      "ttFilter = util.LoadFilter(ttFilterName)\n",
      "TAFilter = util.LoadFilter(TAFilterName)\n",
      "TT_Y,TT_X = util.measureFilterDimensions(ttFilter)\n",
      "TA_Y,TA_X = util.measureFilterDimensions(TAFilter)"
     ],
     "language": "python",
     "metadata": {},
     "outputs": [
      {
       "output_type": "stream",
       "stream": "stdout",
       "text": [
        "filter y,x: 10 19\n",
        "filter y,x: 14 14\n"
       ]
      }
     ],
     "prompt_number": 58
    },
    {
     "cell_type": "markdown",
     "metadata": {},
     "source": [
      "#### Distal Case"
     ]
    },
    {
     "cell_type": "code",
     "collapsed": false,
     "input": [
      "%%capture\n",
      "# ^ turns off print statements for cell\n",
      "\n",
      "distalTTMeans = []\n",
      "distalTAMeans = [] \n",
      "for i in range(numBootstraps):\n",
      "    if i%10 == 0:\n",
      "        print i\n",
      "    bootstrapImg, bootstrapNames = makeBootstrapImg(originalImgDims,subImgDims,bootstrapImgDims,distalImgs)\n",
      "    \n",
      "    intermediateTTMeans = []\n",
      "    intermediateTAMeans = []\n",
      "    for i,smallImg in enumerate(bootstrapImg):\n",
      "        name = bootstrapNames[i]\n",
      "        degreesOffCenter = orientationDict[name]\n",
      "        \n",
      "        inputs.imgOrig = smallImg\n",
      "        \n",
      "        WTiters = [-25,-20,-15,-10,-5,0,5,10,15,20,25] - degreesOffCenter\n",
      "        #TAIters = [-45,0] - degreesOffCenter\n",
      "        \n",
      "        WTresults = mF.WT_Filtering(inputs,WTiters,ttFilterName,ttPunishmentName,None,None,returnAngles)\n",
      "        TAresults = mF.Loss_Filtering(inputs,TAFilterName,None,None,returnAngles)\n",
      "        \n",
      "        WT_hits = painter.doLabel(WTresults,dx=TT_X,dy=TT_Y,thresh=0)\n",
      "        TA_hits = painter.doLabel(TAresults,dx=TA_X,dy=TA_Y,thresh=0)\n",
      "        #print np.max(WTresults.stackedHits)\n",
      "        #print np.mean(WTresults.stackedHits)\n",
      "        \n",
      "        intermediateTTMeans.append(np.mean(WT_hits))\n",
      "        intermediateTAMeans.append(np.mean(TA_hits))\n",
      "    distalTTMeans.append(np.mean(intermediateTTMeans))\n",
      "    distalTAMeans.append(np.mean(intermediateTAMeans))\n",
      "    \n",
      "    with open('infarctTissue_distal_TTmeans.pkl','w') as f:\n",
      "        pickle.dump(distalTTMeans,f)\n",
      "        \n",
      "    with open('infarctTissue_distal_TAmeans.pkl','w') as f:\n",
      "        pickle.dump(distalTAMeans,f)"
     ],
     "language": "python",
     "metadata": {},
     "outputs": [
      {
       "output_type": "stream",
       "stream": "stdout",
       "text": [
        "WT Filtering\n",
        "Loss filtering"
       ]
      },
      {
       "output_type": "stream",
       "stream": "stdout",
       "text": [
        "\n",
        "0.523844"
       ]
      },
      {
       "output_type": "stream",
       "stream": "stdout",
       "text": [
        "\n",
        "0.00662134\n",
        "WT Filtering\n",
        "Loss filtering"
       ]
      },
      {
       "output_type": "stream",
       "stream": "stdout",
       "text": [
        "\n",
        "0.512774"
       ]
      },
      {
       "output_type": "stream",
       "stream": "stdout",
       "text": [
        "\n",
        "0.00260085\n",
        "WT Filtering\n",
        "Loss filtering"
       ]
      },
      {
       "output_type": "stream",
       "stream": "stdout",
       "text": [
        "\n",
        "0.581819"
       ]
      },
      {
       "output_type": "stream",
       "stream": "stdout",
       "text": [
        "\n",
        "0.0039644\n",
        "WT Filtering\n",
        "Loss filtering"
       ]
      },
      {
       "output_type": "stream",
       "stream": "stdout",
       "text": [
        "\n",
        "0.559296"
       ]
      },
      {
       "output_type": "stream",
       "stream": "stdout",
       "text": [
        "\n",
        "0.00414197\n",
        "WT Filtering\n",
        "Loss filtering"
       ]
      },
      {
       "output_type": "stream",
       "stream": "stdout",
       "text": [
        "\n",
        "0.550326"
       ]
      },
      {
       "output_type": "stream",
       "stream": "stdout",
       "text": [
        "\n",
        "0.00364755\n",
        "WT Filtering\n",
        "Loss filtering"
       ]
      },
      {
       "output_type": "stream",
       "stream": "stdout",
       "text": [
        "\n",
        "0.601237"
       ]
      },
      {
       "output_type": "stream",
       "stream": "stdout",
       "text": [
        "\n",
        "0.00785345\n",
        "WT Filtering\n",
        "Loss filtering"
       ]
      },
      {
       "output_type": "stream",
       "stream": "stdout",
       "text": [
        "\n",
        "0.601307"
       ]
      },
      {
       "output_type": "stream",
       "stream": "stdout",
       "text": [
        "\n",
        "0.00504516\n",
        "WT Filtering\n",
        "Loss filtering"
       ]
      },
      {
       "output_type": "stream",
       "stream": "stdout",
       "text": [
        "\n",
        "0.524094"
       ]
      },
      {
       "output_type": "stream",
       "stream": "stdout",
       "text": [
        "\n",
        "0.00274345\n",
        "WT Filtering\n",
        "Loss filtering"
       ]
      },
      {
       "output_type": "stream",
       "stream": "stdout",
       "text": [
        "\n",
        "0.568773"
       ]
      },
      {
       "output_type": "stream",
       "stream": "stdout",
       "text": [
        "\n",
        "0.00415397\n",
        "WT Filtering\n",
        "Loss filtering"
       ]
      },
      {
       "output_type": "stream",
       "stream": "stdout",
       "text": [
        "\n",
        "0.587523"
       ]
      },
      {
       "output_type": "stream",
       "stream": "stdout",
       "text": [
        "\n",
        "0.00311432\n",
        "WT Filtering\n",
        "Loss filtering"
       ]
      },
      {
       "output_type": "stream",
       "stream": "stdout",
       "text": [
        "\n",
        "0.582142"
       ]
      },
      {
       "output_type": "stream",
       "stream": "stdout",
       "text": [
        "\n",
        "0.00566476\n",
        "WT Filtering\n",
        "Loss filtering"
       ]
      },
      {
       "output_type": "stream",
       "stream": "stdout",
       "text": [
        "\n",
        "0.546773"
       ]
      },
      {
       "output_type": "stream",
       "stream": "stdout",
       "text": [
        "\n",
        "0.00417052\n",
        "WT Filtering\n",
        "Loss filtering"
       ]
      },
      {
       "output_type": "stream",
       "stream": "stdout",
       "text": [
        "\n",
        "0.555034"
       ]
      },
      {
       "output_type": "stream",
       "stream": "stdout",
       "text": [
        "\n",
        "0.00459637\n",
        "WT Filtering\n",
        "Loss filtering"
       ]
      },
      {
       "output_type": "stream",
       "stream": "stdout",
       "text": [
        "\n",
        "0.523844"
       ]
      },
      {
       "output_type": "stream",
       "stream": "stdout",
       "text": [
        "\n",
        "0.00662134\n",
        "WT Filtering\n",
        "Loss filtering"
       ]
      },
      {
       "output_type": "stream",
       "stream": "stdout",
       "text": [
        "\n",
        "0.512513"
       ]
      },
      {
       "output_type": "stream",
       "stream": "stdout",
       "text": [
        "\n",
        "0.00256697\n",
        "WT Filtering\n",
        "Loss filtering"
       ]
      },
      {
       "output_type": "stream",
       "stream": "stdout",
       "text": [
        "\n",
        "0.559296"
       ]
      },
      {
       "output_type": "stream",
       "stream": "stdout",
       "text": [
        "\n",
        "0.00414197\n",
        "WT Filtering\n",
        "Loss filtering"
       ]
      },
      {
       "output_type": "stream",
       "stream": "stdout",
       "text": [
        "\n",
        "0.589717"
       ]
      },
      {
       "output_type": "stream",
       "stream": "stdout",
       "text": [
        "\n",
        "0.00452947\n",
        "WT Filtering\n",
        "Loss filtering"
       ]
      },
      {
       "output_type": "stream",
       "stream": "stdout",
       "text": [
        "\n",
        "0.569709"
       ]
      },
      {
       "output_type": "stream",
       "stream": "stdout",
       "text": [
        "\n",
        "0.00647756\n",
        "WT Filtering\n",
        "Loss filtering"
       ]
      },
      {
       "output_type": "stream",
       "stream": "stdout",
       "text": [
        "\n",
        "0.512578"
       ]
      },
      {
       "output_type": "stream",
       "stream": "stdout",
       "text": [
        "\n",
        "0.00261206\n",
        "WT Filtering\n",
        "Loss filtering"
       ]
      },
      {
       "output_type": "stream",
       "stream": "stdout",
       "text": [
        "\n",
        "0.595331"
       ]
      },
      {
       "output_type": "stream",
       "stream": "stdout",
       "text": [
        "\n",
        "0.00769522\n",
        "WT Filtering\n",
        "Loss filtering"
       ]
      },
      {
       "output_type": "stream",
       "stream": "stdout",
       "text": [
        "\n",
        "0.536502"
       ]
      },
      {
       "output_type": "stream",
       "stream": "stdout",
       "text": [
        "\n",
        "0.0024345\n",
        "WT Filtering\n",
        "Loss filtering"
       ]
      },
      {
       "output_type": "stream",
       "stream": "stdout",
       "text": [
        "\n",
        "0.522325"
       ]
      },
      {
       "output_type": "stream",
       "stream": "stdout",
       "text": [
        "\n",
        "0.00281842\n",
        "WT Filtering\n",
        "Loss filtering"
       ]
      },
      {
       "output_type": "stream",
       "stream": "stdout",
       "text": [
        "\n",
        "0.533131"
       ]
      },
      {
       "output_type": "stream",
       "stream": "stdout",
       "text": [
        "\n",
        "0.00257073\n",
        "WT Filtering\n",
        "Loss filtering"
       ]
      },
      {
       "output_type": "stream",
       "stream": "stdout",
       "text": [
        "\n",
        "0.580232"
       ]
      },
      {
       "output_type": "stream",
       "stream": "stdout",
       "text": [
        "\n",
        "0.00430823\n",
        "WT Filtering\n",
        "Loss filtering"
       ]
      },
      {
       "output_type": "stream",
       "stream": "stdout",
       "text": [
        "\n",
        "0.515194"
       ]
      },
      {
       "output_type": "stream",
       "stream": "stdout",
       "text": [
        "\n",
        "0.00356504\n",
        "WT Filtering\n",
        "Loss filtering"
       ]
      },
      {
       "output_type": "stream",
       "stream": "stdout",
       "text": [
        "\n",
        "0.572107"
       ]
      },
      {
       "output_type": "stream",
       "stream": "stdout",
       "text": [
        "\n",
        "0.00496379\n",
        "WT Filtering\n",
        "Loss filtering"
       ]
      },
      {
       "output_type": "stream",
       "stream": "stdout",
       "text": [
        "\n",
        "0.60349"
       ]
      },
      {
       "output_type": "stream",
       "stream": "stdout",
       "text": [
        "\n",
        "0.00569265\n",
        "WT Filtering\n",
        "Loss filtering"
       ]
      },
      {
       "output_type": "stream",
       "stream": "stdout",
       "text": [
        "\n",
        "0.679752"
       ]
      },
      {
       "output_type": "stream",
       "stream": "stdout",
       "text": [
        "\n",
        "0.00390694\n",
        "WT Filtering\n",
        "Loss filtering"
       ]
      },
      {
       "output_type": "stream",
       "stream": "stdout",
       "text": [
        "\n",
        "0.498856"
       ]
      },
      {
       "output_type": "stream",
       "stream": "stdout",
       "text": [
        "\n",
        "0.00205552\n",
        "WT Filtering\n",
        "Loss filtering"
       ]
      },
      {
       "output_type": "stream",
       "stream": "stdout",
       "text": [
        "\n",
        "0.595331"
       ]
      },
      {
       "output_type": "stream",
       "stream": "stdout",
       "text": [
        "\n",
        "0.00769522\n",
        "WT Filtering\n",
        "Loss filtering"
       ]
      },
      {
       "output_type": "stream",
       "stream": "stdout",
       "text": [
        "\n",
        "0.589987"
       ]
      },
      {
       "output_type": "stream",
       "stream": "stdout",
       "text": [
        "\n",
        "0.0053785\n",
        "WT Filtering\n",
        "Loss filtering"
       ]
      },
      {
       "output_type": "stream",
       "stream": "stdout",
       "text": [
        "\n",
        "0.600965"
       ]
      },
      {
       "output_type": "stream",
       "stream": "stdout",
       "text": [
        "\n",
        "0.00481218\n",
        "WT Filtering\n",
        "Loss filtering"
       ]
      },
      {
       "output_type": "stream",
       "stream": "stdout",
       "text": [
        "\n",
        "0.600807"
       ]
      },
      {
       "output_type": "stream",
       "stream": "stdout",
       "text": [
        "\n",
        "0.00335167\n",
        "WT Filtering\n",
        "Loss filtering"
       ]
      },
      {
       "output_type": "stream",
       "stream": "stdout",
       "text": [
        "\n",
        "0.654093"
       ]
      },
      {
       "output_type": "stream",
       "stream": "stdout",
       "text": [
        "\n",
        "0.0028513\n",
        "WT Filtering\n",
        "Loss filtering"
       ]
      },
      {
       "output_type": "stream",
       "stream": "stdout",
       "text": [
        "\n",
        "0.512513"
       ]
      },
      {
       "output_type": "stream",
       "stream": "stdout",
       "text": [
        "\n",
        "0.00256697\n",
        "WT Filtering\n",
        "Loss filtering"
       ]
      },
      {
       "output_type": "stream",
       "stream": "stdout",
       "text": [
        "\n",
        "0.507123"
       ]
      },
      {
       "output_type": "stream",
       "stream": "stdout",
       "text": [
        "\n",
        "0.00198892\n",
        "WT Filtering\n",
        "Loss filtering"
       ]
      },
      {
       "output_type": "stream",
       "stream": "stdout",
       "text": [
        "\n",
        "0.622079"
       ]
      },
      {
       "output_type": "stream",
       "stream": "stdout",
       "text": [
        "\n",
        "0.0042173\n",
        "WT Filtering\n",
        "Loss filtering"
       ]
      },
      {
       "output_type": "stream",
       "stream": "stdout",
       "text": [
        "\n",
        "0.551503"
       ]
      },
      {
       "output_type": "stream",
       "stream": "stdout",
       "text": [
        "\n",
        "0.00562805\n",
        "WT Filtering\n",
        "Loss filtering"
       ]
      },
      {
       "output_type": "stream",
       "stream": "stdout",
       "text": [
        "\n",
        "0.0"
       ]
      },
      {
       "output_type": "stream",
       "stream": "stdout",
       "text": [
        "\n",
        "0.0\n",
        "WT Filtering\n",
        "Loss filtering"
       ]
      },
      {
       "output_type": "stream",
       "stream": "stdout",
       "text": [
        "\n",
        "0.616265"
       ]
      },
      {
       "output_type": "stream",
       "stream": "stdout",
       "text": [
        "\n",
        "0.00245432\n",
        "WT Filtering\n",
        "Loss filtering"
       ]
      },
      {
       "output_type": "stream",
       "stream": "stdout",
       "text": [
        "\n",
        "0.530532"
       ]
      },
      {
       "output_type": "stream",
       "stream": "stdout",
       "text": [
        "\n",
        "0.00253914\n",
        "WT Filtering\n",
        "Loss filtering"
       ]
      },
      {
       "output_type": "stream",
       "stream": "stdout",
       "text": [
        "\n",
        "0.507123"
       ]
      },
      {
       "output_type": "stream",
       "stream": "stdout",
       "text": [
        "\n",
        "0.00198892\n",
        "WT Filtering\n",
        "Loss filtering"
       ]
      },
      {
       "output_type": "stream",
       "stream": "stdout",
       "text": [
        "\n"
       ]
      },
      {
       "output_type": "stream",
       "stream": "stderr",
       "text": [
        "detection_protocols.py:222: RuntimeWarning: invalid value encountered in sqrt\n",
        "  stdDev = np.sqrt( np.divide((q-np.divide(np.square(s),n)),n-1))\n",
        "detection_protocols.py:225: RuntimeWarning: invalid value encountered in less\n",
        "  stdDevHits = stdDev < paramDict['stdDevThresh']\n"
       ]
      },
      {
       "ename": "KeyboardInterrupt",
       "evalue": "",
       "output_type": "pyerr",
       "traceback": [
        "\u001b[0;31m---------------------------------------------------------------------------\u001b[0m\n\u001b[0;31mKeyboardInterrupt\u001b[0m                         Traceback (most recent call last)",
        "\u001b[0;32m<ipython-input-65-c02cf5767e90>\u001b[0m in \u001b[0;36m<module>\u001b[0;34m()\u001b[0m\n\u001b[1;32m     16\u001b[0m \u001b[0;34m\u001b[0m\u001b[0m\n\u001b[1;32m     17\u001b[0m         \u001b[0mWTresults\u001b[0m \u001b[0;34m=\u001b[0m \u001b[0mmF\u001b[0m\u001b[0;34m.\u001b[0m\u001b[0mWT_Filtering\u001b[0m\u001b[0;34m(\u001b[0m\u001b[0minputs\u001b[0m\u001b[0;34m,\u001b[0m\u001b[0mWTiters\u001b[0m\u001b[0;34m,\u001b[0m\u001b[0mttFilterName\u001b[0m\u001b[0;34m,\u001b[0m\u001b[0mttPunishmentName\u001b[0m\u001b[0;34m,\u001b[0m\u001b[0mNone\u001b[0m\u001b[0;34m,\u001b[0m\u001b[0mNone\u001b[0m\u001b[0;34m,\u001b[0m\u001b[0mreturnAngles\u001b[0m\u001b[0;34m)\u001b[0m\u001b[0;34m\u001b[0m\u001b[0m\n\u001b[0;32m---> 18\u001b[0;31m         \u001b[0mTAresults\u001b[0m \u001b[0;34m=\u001b[0m \u001b[0mmF\u001b[0m\u001b[0;34m.\u001b[0m\u001b[0mLoss_Filtering\u001b[0m\u001b[0;34m(\u001b[0m\u001b[0minputs\u001b[0m\u001b[0;34m,\u001b[0m\u001b[0mTAFilterName\u001b[0m\u001b[0;34m,\u001b[0m\u001b[0mNone\u001b[0m\u001b[0;34m,\u001b[0m\u001b[0mNone\u001b[0m\u001b[0;34m,\u001b[0m\u001b[0mreturnAngles\u001b[0m\u001b[0;34m)\u001b[0m\u001b[0;34m\u001b[0m\u001b[0m\n\u001b[0m\u001b[1;32m     19\u001b[0m \u001b[0;34m\u001b[0m\u001b[0m\n\u001b[1;32m     20\u001b[0m         \u001b[0;32mprint\u001b[0m \u001b[0mnp\u001b[0m\u001b[0;34m.\u001b[0m\u001b[0mmax\u001b[0m\u001b[0;34m(\u001b[0m\u001b[0mWTresults\u001b[0m\u001b[0;34m.\u001b[0m\u001b[0mstackedHits\u001b[0m\u001b[0;34m)\u001b[0m\u001b[0;34m\u001b[0m\u001b[0m\n",
        "\u001b[0;32m/u2/dfco222/scratch/gpu_detect/myocyteFigs.pyc\u001b[0m in \u001b[0;36mLoss_Filtering\u001b[0;34m(inputs, lossFilterName, lossThresh, lossStdThresh, returnAngles)\u001b[0m\n\u001b[1;32m   1180\u001b[0m   \u001b[0;32mif\u001b[0m \u001b[0mlossStdThresh\u001b[0m \u001b[0;34m!=\u001b[0m \u001b[0mNone\u001b[0m\u001b[0;34m:\u001b[0m\u001b[0;34m\u001b[0m\u001b[0m\n\u001b[1;32m   1181\u001b[0m     \u001b[0mLossparams\u001b[0m\u001b[0;34m[\u001b[0m\u001b[0;34m'stdDevThresh'\u001b[0m\u001b[0;34m]\u001b[0m \u001b[0;34m=\u001b[0m \u001b[0mlossStdThresh\u001b[0m\u001b[0;34m\u001b[0m\u001b[0m\n\u001b[0;32m-> 1182\u001b[0;31m   \u001b[0mLossresults\u001b[0m \u001b[0;34m=\u001b[0m \u001b[0mbD\u001b[0m\u001b[0;34m.\u001b[0m\u001b[0mDetectFilter\u001b[0m\u001b[0;34m(\u001b[0m\u001b[0minputs\u001b[0m\u001b[0;34m,\u001b[0m\u001b[0mLossparams\u001b[0m\u001b[0;34m,\u001b[0m\u001b[0mLossiters\u001b[0m\u001b[0;34m,\u001b[0m\u001b[0mreturnAngles\u001b[0m\u001b[0;34m=\u001b[0m\u001b[0mreturnAngles\u001b[0m\u001b[0;34m)\u001b[0m\u001b[0;34m\u001b[0m\u001b[0m\n\u001b[0m\u001b[1;32m   1183\u001b[0m \u001b[0;34m\u001b[0m\u001b[0m\n\u001b[1;32m   1184\u001b[0m   \u001b[0;32mreturn\u001b[0m \u001b[0mLossresults\u001b[0m\u001b[0;34m\u001b[0m\u001b[0m\n",
        "\u001b[0;32m/u2/dfco222/scratch/gpu_detect/bankDetect.pyc\u001b[0m in \u001b[0;36mDetectFilter\u001b[0;34m(inputs, paramDict, iters, display, label, filterMode, returnAngles)\u001b[0m\n\u001b[1;32m     58\u001b[0m        \u001b[0mprinter\u001b[0m\u001b[0;34m=\u001b[0m\u001b[0mdisplay\u001b[0m\u001b[0;34m,\u001b[0m\u001b[0;34m\u001b[0m\u001b[0m\n\u001b[1;32m     59\u001b[0m        \u001b[0mfilterMode\u001b[0m\u001b[0;34m=\u001b[0m\u001b[0mfilterMode\u001b[0m\u001b[0;34m,\u001b[0m\u001b[0;34m\u001b[0m\u001b[0m\n\u001b[0;32m---> 60\u001b[0;31m        \u001b[0mlabel\u001b[0m\u001b[0;34m=\u001b[0m\u001b[0mlabel\u001b[0m\u001b[0;34m,\u001b[0m\u001b[0;34m\u001b[0m\u001b[0m\n\u001b[0m\u001b[1;32m     61\u001b[0m        )\n\u001b[1;32m     62\u001b[0m \u001b[0;34m\u001b[0m\u001b[0m\n",
        "\u001b[0;32m/u2/dfco222/scratch/gpu_detect/painter.pyc\u001b[0m in \u001b[0;36mcorrelateThresher\u001b[0;34m(inputs, params, iters, printer, filterMode, label)\u001b[0m\n\u001b[1;32m     56\u001b[0m       \u001b[0;31m# pad/rotate\u001b[0m\u001b[0;34m\u001b[0m\u001b[0;34m\u001b[0m\u001b[0m\n\u001b[1;32m     57\u001b[0m       \u001b[0mparams\u001b[0m\u001b[0;34m[\u001b[0m\u001b[0;34m'angle'\u001b[0m\u001b[0;34m]\u001b[0m \u001b[0;34m=\u001b[0m \u001b[0mangle\u001b[0m\u001b[0;34m\u001b[0m\u001b[0m\n\u001b[0;32m---> 58\u001b[0;31m       \u001b[0mrFN\u001b[0m \u001b[0;34m=\u001b[0m \u001b[0mutil\u001b[0m\u001b[0;34m.\u001b[0m\u001b[0mPadRotate\u001b[0m\u001b[0;34m(\u001b[0m\u001b[0mfilterRef\u001b[0m\u001b[0;34m,\u001b[0m\u001b[0mangle\u001b[0m\u001b[0;34m)\u001b[0m\u001b[0;34m\u001b[0m\u001b[0m\n\u001b[0m\u001b[1;32m     59\u001b[0m       \u001b[0minputs\u001b[0m\u001b[0;34m.\u001b[0m\u001b[0mmf\u001b[0m \u001b[0;34m=\u001b[0m \u001b[0mrFN\u001b[0m\u001b[0;34m\u001b[0m\u001b[0m\n\u001b[1;32m     60\u001b[0m \u001b[0;34m\u001b[0m\u001b[0m\n",
        "\u001b[0;32m/u2/dfco222/scratch/gpu_detect/util.pyc\u001b[0m in \u001b[0;36mPadRotate\u001b[0;34m(myFilter1, val)\u001b[0m\n\u001b[1;32m    768\u001b[0m   \u001b[0mdims\u001b[0m \u001b[0;34m=\u001b[0m \u001b[0mnp\u001b[0m\u001b[0;34m.\u001b[0m\u001b[0mshape\u001b[0m\u001b[0;34m(\u001b[0m\u001b[0mmyFilter1\u001b[0m\u001b[0;34m)\u001b[0m\u001b[0;34m\u001b[0m\u001b[0m\n\u001b[1;32m    769\u001b[0m   \u001b[0mdiff\u001b[0m \u001b[0;34m=\u001b[0m \u001b[0mnp\u001b[0m\u001b[0;34m.\u001b[0m\u001b[0mmin\u001b[0m\u001b[0;34m(\u001b[0m\u001b[0mdims\u001b[0m\u001b[0;34m)\u001b[0m\u001b[0;34m\u001b[0m\u001b[0m\n\u001b[0;32m--> 770\u001b[0;31m   \u001b[0mpaddedFilter\u001b[0m \u001b[0;34m=\u001b[0m \u001b[0mnp\u001b[0m\u001b[0;34m.\u001b[0m\u001b[0mlib\u001b[0m\u001b[0;34m.\u001b[0m\u001b[0mpad\u001b[0m\u001b[0;34m(\u001b[0m\u001b[0mmyFilter1\u001b[0m\u001b[0;34m,\u001b[0m\u001b[0mdiff\u001b[0m\u001b[0;34m,\u001b[0m\u001b[0mpadWithZeros\u001b[0m\u001b[0;34m)\u001b[0m\u001b[0;34m\u001b[0m\u001b[0m\n\u001b[0m\u001b[1;32m    771\u001b[0m   \u001b[0mrotatedFilter\u001b[0m \u001b[0;34m=\u001b[0m \u001b[0mimutils\u001b[0m\u001b[0;34m.\u001b[0m\u001b[0mrotate\u001b[0m\u001b[0;34m(\u001b[0m\u001b[0mpaddedFilter\u001b[0m\u001b[0;34m,\u001b[0m\u001b[0;34m-\u001b[0m\u001b[0mval\u001b[0m\u001b[0;34m)\u001b[0m\u001b[0;34m\u001b[0m\u001b[0m\n\u001b[1;32m    772\u001b[0m   \u001b[0mrF\u001b[0m \u001b[0;34m=\u001b[0m \u001b[0mnp\u001b[0m\u001b[0;34m.\u001b[0m\u001b[0mcopy\u001b[0m\u001b[0;34m(\u001b[0m\u001b[0mrotatedFilter\u001b[0m\u001b[0;34m)\u001b[0m\u001b[0;34m\u001b[0m\u001b[0m\n",
        "\u001b[0;32m/usr/local/lib/python2.7/dist-packages/numpy-1.13.1-py2.7-linux-x86_64.egg/numpy/lib/arraypad.pyc\u001b[0m in \u001b[0;36mpad\u001b[0;34m(array, pad_width, mode, **kwargs)\u001b[0m\n\u001b[1;32m   1357\u001b[0m                                 \u001b[0mpad_width\u001b[0m\u001b[0;34m[\u001b[0m\u001b[0miaxis\u001b[0m\u001b[0;34m]\u001b[0m\u001b[0;34m,\u001b[0m\u001b[0;34m\u001b[0m\u001b[0m\n\u001b[1;32m   1358\u001b[0m                                 \u001b[0miaxis\u001b[0m\u001b[0;34m,\u001b[0m\u001b[0;34m\u001b[0m\u001b[0m\n\u001b[0;32m-> 1359\u001b[0;31m                                 kwargs)\n\u001b[0m\u001b[1;32m   1360\u001b[0m         \u001b[0;32mreturn\u001b[0m \u001b[0mnewmat\u001b[0m\u001b[0;34m\u001b[0m\u001b[0m\n\u001b[1;32m   1361\u001b[0m \u001b[0;34m\u001b[0m\u001b[0m\n",
        "\u001b[0;32m/usr/local/lib/python2.7/dist-packages/numpy-1.13.1-py2.7-linux-x86_64.egg/numpy/lib/shape_base.pyc\u001b[0m in \u001b[0;36mapply_along_axis\u001b[0;34m(func1d, axis, arr, *args, **kwargs)\u001b[0m\n\u001b[1;32m    137\u001b[0m     \u001b[0mbuff\u001b[0m\u001b[0;34m[\u001b[0m\u001b[0mind0\u001b[0m\u001b[0;34m]\u001b[0m \u001b[0;34m=\u001b[0m \u001b[0mres\u001b[0m\u001b[0;34m\u001b[0m\u001b[0m\n\u001b[1;32m    138\u001b[0m     \u001b[0;32mfor\u001b[0m \u001b[0mind\u001b[0m \u001b[0;32min\u001b[0m \u001b[0minds\u001b[0m\u001b[0;34m:\u001b[0m\u001b[0;34m\u001b[0m\u001b[0m\n\u001b[0;32m--> 139\u001b[0;31m         \u001b[0mbuff\u001b[0m\u001b[0;34m[\u001b[0m\u001b[0mind\u001b[0m\u001b[0;34m]\u001b[0m \u001b[0;34m=\u001b[0m \u001b[0masanyarray\u001b[0m\u001b[0;34m(\u001b[0m\u001b[0mfunc1d\u001b[0m\u001b[0;34m(\u001b[0m\u001b[0minarr_view\u001b[0m\u001b[0;34m[\u001b[0m\u001b[0mind\u001b[0m\u001b[0;34m]\u001b[0m\u001b[0;34m,\u001b[0m \u001b[0;34m*\u001b[0m\u001b[0margs\u001b[0m\u001b[0;34m,\u001b[0m \u001b[0;34m**\u001b[0m\u001b[0mkwargs\u001b[0m\u001b[0;34m)\u001b[0m\u001b[0;34m)\u001b[0m\u001b[0;34m\u001b[0m\u001b[0m\n\u001b[0m\u001b[1;32m    140\u001b[0m \u001b[0;34m\u001b[0m\u001b[0m\n\u001b[1;32m    141\u001b[0m     \u001b[0;32mif\u001b[0m \u001b[0;32mnot\u001b[0m \u001b[0misinstance\u001b[0m\u001b[0;34m(\u001b[0m\u001b[0mres\u001b[0m\u001b[0;34m,\u001b[0m \u001b[0mmatrix\u001b[0m\u001b[0;34m)\u001b[0m\u001b[0;34m:\u001b[0m\u001b[0;34m\u001b[0m\u001b[0m\n",
        "\u001b[0;31mKeyboardInterrupt\u001b[0m: "
       ]
      }
     ],
     "prompt_number": 65
    },
    {
     "cell_type": "markdown",
     "metadata": {},
     "source": [
      "#### Proximal Case"
     ]
    },
    {
     "cell_type": "code",
     "collapsed": false,
     "input": [
      "%%capture\n",
      "# ^ turns off print statements for cell\n",
      "\n",
      "proximalTTMeans = []\n",
      "proximalTAMeans = [] \n",
      "for i in range(numBootstraps):\n",
      "    if i%10 == 0:\n",
      "        print i\n",
      "    bootstrapImg, bootstrapNames = makeBootstrapImg(originalImgDims,subImgDims,bootstrapImgDims,proximalImgs)\n",
      "    \n",
      "    intermediateTTMeans = []\n",
      "    intermediateTAMeans = []\n",
      "    for i,smallImg in enumerate(bootstrapImg):\n",
      "        name = bootstrapNames[i]\n",
      "        degreesOffCenter = orientationDict[name]\n",
      "        \n",
      "        inputs.imgOrig = smallImg\n",
      "        \n",
      "        WTiters = [-25,-20,-15,-10,-5,0,5,10,15,20,25] - degreesOffCenter\n",
      "        #TAIters = [-45,0] - degreesOffCenter\n",
      "        \n",
      "        WTresults = mF.WT_Filtering(inputs,WTiters,ttFilterName,ttPunishmentName,None,None,returnAngles)\n",
      "        TAresults = mF.Loss_Filtering(inputs,TAFilterName,None,None,returnAngles)\n",
      "        \n",
      "        WT_hits = painter.doLabel(WTresults,dx=TT_X,dy=TT_Y,thresh=0)\n",
      "        TA_hits = painter.doLabel(TAresults,dx=TA_X,dy=TA_Y,thresh=0)\n",
      "        #print np.max(WTresults.stackedHits)\n",
      "        #print np.mean(WTresults.stackedHits)\n",
      "        \n",
      "        intermediateTTMeans.append(np.mean(WT_hits))\n",
      "        intermediateTAMeans.append(np.mean(TA_hits))\n",
      "    proximalTTMeans.append(np.mean(intermediateTTMeans))\n",
      "    proximalTAMeans.append(np.mean(intermediateTAMeans))\n",
      "    \n",
      "    with open('infarctTissue_proximal_TTmeans.pkl','w') as f:\n",
      "        pickle.dump(proximalTTMeans,f)\n",
      "        \n",
      "    with open('infarctTissue_proximal_TAmeans.pkl','w') as f:\n",
      "        pickle.dump(proximalTAMeans,f)"
     ],
     "language": "python",
     "metadata": {},
     "outputs": []
    }
   ],
   "metadata": {}
  }
 ]
}