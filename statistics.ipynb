{
 "metadata": {
  "kernelspec": {
   "display_name": "Python 2",
   "language": "python",
   "name": "python2"
  },
  "language_info": {
   "codemirror_mode": {
    "name": "ipython",
    "version": 2
   },
   "file_extension": ".py",
   "mimetype": "text/x-python",
   "name": "python",
   "nbconvert_exporter": "python",
   "pygments_lexer": "ipython2",
   "version": "2.7.5"
  },
  "name": "",
  "signature": "sha256:a30a2a4cab09c527e6d83ee8f19c5bf65f0b7823e535a313e73d565accc25aef"
 },
 "nbformat": 3,
 "nbformat_minor": 0,
 "worksheets": [
  {
   "cells": [
    {
     "cell_type": "markdown",
     "metadata": {},
     "source": [
      "Notebook to calculate some statistics that will be going into the paper"
     ]
    },
    {
     "cell_type": "code",
     "collapsed": true,
     "input": [
      "import matplotlib.pyplot as plt\n",
      "import numpy as np\n",
      "import scipy.stats as sps"
     ],
     "language": "python",
     "metadata": {},
     "outputs": [],
     "prompt_number": 1
    },
    {
     "cell_type": "code",
     "collapsed": true,
     "input": [
      "Sham = {'WT':[.730,.629,.730,.936,.886],\n",
      "        'LT':[.051,.063,.054,.003,.031],\n",
      "        'LD':[.131,.124,.123,.018,.032],\n",
      "        'angle':[40.9,73.0,57.7,66.8,48.6]\n",
      "       }\n",
      "\n",
      "Sham_masked = {'WT':[.838,.629,.833,.951,.886],\n",
      "               'LT':[.021,.063,.063,.003,.031],\n",
      "               'LD':[.073,.124,.068,.005,.032],\n",
      "               'angle':[42.4,73.0,59.6,66.5,48.6]\n",
      "              }\n",
      "\n",
      "MI_D = {'WT':[.532,.756,.389],\n",
      "        'LT':[.093,.064,.063],\n",
      "        'LD':[.173,.026,.140],\n",
      "        'angle':[41.0,54.5,49.4]\n",
      "       }\n",
      "\n",
      "MI_D_masked = {'WT':[.532,.756,.479],\n",
      "               'LT':[.093,.064,.026],\n",
      "               'LD':[.173,.026,.087],\n",
      "               'angle':[41.0,54.5,46.5]\n",
      "              }\n",
      "\n",
      "MI_M = {'WT':[.625,.531,.552],\n",
      "        'LT':[.097,.120,.081],\n",
      "        'LD':[.064,.197,.032],\n",
      "        'angle':[36.1,32.6,42.0]}\n",
      "\n",
      "MI_M_masked = {'WT':[.625,.595,.552],\n",
      "               'LT':[.097,.072,.081],\n",
      "               'LD':[.064,.234,.032],\n",
      "               'angle':[36.1,31.8,42.0]}\n",
      "\n",
      "MI_P = {'WT':[0.500,0.765,0.387],\n",
      "        'LT':[0.091,0.113,0.158],\n",
      "        'LD':[0.177,0.036,0.134],\n",
      "        'angle':[31.2,39.5,32.4]}\n",
      "\n",
      "HF = {'WT':[.167,.365,.030],\n",
      "      'LT':[.049,.060,.030],\n",
      "      'LD':[.292,.279,.550],\n",
      "      'angle':[45.2,38.1,25.0]}"
     ],
     "language": "python",
     "metadata": {},
     "outputs": [],
     "prompt_number": 47
    },
    {
     "cell_type": "code",
     "collapsed": true,
     "input": [
      "dicts = {'Sham':Sham, \n",
      "         'MI_D':MI_D, \n",
      "         'MI_M':MI_M, \n",
      "         'MI_P':MI_P, \n",
      "         'HF':HF}\n",
      "dicts_masked = [Sham_masked, MI_D_masked, MI_M_masked, MI_P, HF]"
     ],
     "language": "python",
     "metadata": {},
     "outputs": [],
     "prompt_number": 54
    },
    {
     "cell_type": "code",
     "collapsed": false,
     "input": [
      "for name,dictionary in dicts.iteritems():\n",
      "    print name\n",
      "    for name,array in dictionary.copy().iteritems():\n",
      "        print \"\\t\"+name\n",
      "        print \"\\tmean:\",str(np.mean(array))[:6]\n",
      "        print \"\\tstd:\",str(np.std(array))[:6]\n",
      "        #dictionary[name+'_mean'] = np.mean(array)\n",
      "        #dictionary[name+'_std'] = np.std(array)\n",
      "        \n",
      "\n",
      "\n"
     ],
     "language": "python",
     "metadata": {},
     "outputs": [
      {
       "output_type": "stream",
       "stream": "stdout",
       "text": [
        "MI_P\n",
        "\tLT\n",
        "\tmean: 0.1206\n",
        "\tstd: 0.0278\n",
        "\tWT\n",
        "\tmean: 0.5506\n",
        "\tstd: 0.1584\n",
        "\tangle\n",
        "\tmean: 34.366\n",
        "\tstd: 3.6627\n",
        "\tLD\n",
        "\tmean: 0.1156\n",
        "\tstd: 0.0590\n",
        "MI_D\n",
        "\tLT\n",
        "\tmean: 0.0733\n",
        "\tstd: 0.0139\n",
        "\tWT\n",
        "\tmean: 0.559\n",
        "\tstd: 0.1510\n",
        "\tangle\n",
        "\tmean: 48.300\n",
        "\tstd: 5.5659\n",
        "\tLD\n",
        "\tmean: 0.1129\n",
        "\tstd: 0.0629\n",
        "HF\n",
        "\tLT\n",
        "\tmean: 0.0463\n",
        "\tstd: 0.0123\n",
        "\tWT\n",
        "\tmean: 0.1873\n",
        "\tstd: 0.1375\n",
        "\tangle\n",
        "\tmean: 36.1\n",
        "\tstd: 8.3669\n",
        "\tLD\n",
        "\tmean: 0.3736\n",
        "\tstd: 0.1247\n",
        "MI_M\n",
        "\tLT\n",
        "\tmean: 0.0993\n",
        "\tstd: 0.0160\n",
        "\tWT\n",
        "\tmean: 0.5693\n",
        "\tstd: 0.0402\n",
        "\tangle\n",
        "\tmean: 36.9\n",
        "\tstd: 3.8790\n",
        "\tLD\n",
        "\tmean: 0.0976\n",
        "\tstd: 0.0714\n",
        "Sham\n",
        "\tLT\n",
        "\tmean: 0.0404\n",
        "\tstd: 0.0214\n",
        "\tWT\n",
        "\tmean: 0.7822\n",
        "\tstd: 0.1125\n",
        "\tangle\n",
        "\tmean: 57.400\n",
        "\tstd: 11.674\n",
        "\tLD\n",
        "\tmean: 0.0856\n",
        "\tstd: 0.0497\n"
       ]
      }
     ],
     "prompt_number": 56
    },
    {
     "cell_type": "code",
     "collapsed": false,
     "input": [
      "print Sham"
     ],
     "language": "python",
     "metadata": {},
     "outputs": [
      {
       "output_type": "stream",
       "stream": "stdout",
       "text": [
        "{'LT': [0.051, 0.063, 0.054, 0.003, 0.031], 'WT': [0.73, 0.629, 0.73, 0.936, 0.886], 'angle': [40.9, 73.0, 57.7, 66.8, 48.6], 'LD': [0.131, 0.124, 0.123, 0.018, 0.032]}\n"
       ]
      }
     ],
     "prompt_number": 50
    },
    {
     "cell_type": "heading",
     "level": 3,
     "metadata": {},
     "source": [
      "Non-Masked"
     ]
    },
    {
     "cell_type": "code",
     "collapsed": false,
     "input": [
      "#sps.ttest_ind()\n",
      "pValues = {}\n",
      "#test p value for everything against sham\n",
      "print \"Testing against Sham\\n\"\n",
      "for typeFilter,array in Sham.iteritems():\n",
      "    stat, pValue = sps.ttest_ind(array,MI_D[typeFilter],equal_var=False)\n",
      "    if pValue < 0.05:\n",
      "        print \"Sham x MI_D\",typeFilter,\"p value:\", str(pValue)[:6]\n",
      "        pValues['Sham_MI_D_'+typeFilter] = pValue\n",
      "    \n",
      "    stat, pValue = sps.ttest_ind(array,MI_M[typeFilter],equal_var=False)\n",
      "    if pValue < 0.05:\n",
      "        print \"Sham x MI_M\",typeFilter,\"p value:\", str(pValue)[:6]\n",
      "        pValues['Sham_MI_M_'+typeFilter] = pValue\n",
      "    \n",
      "    stat, pValue = sps.ttest_ind(array,MI_P[typeFilter],equal_var=False)\n",
      "    if pValue < 0.05:\n",
      "        print \"Sham x MI_P\",typeFilter,\"p value:\", str(pValue)[:6]\n",
      "        pValues['Sham_MI_P_'+typeFilter] = pValue\n",
      "    \n",
      "    stat, pValue = sps.ttest_ind(array,HF[typeFilter],equal_var=False)\n",
      "    if pValue < 0.05:\n",
      "        print \"Sham x HF  \",typeFilter,\"p value:\", str(pValue)[:6]\n",
      "        pValues['Sham_HF_'+typeFilter] = pValue\n",
      "\n",
      "print \"\\nTesting MI_D against others\\n\"\n",
      "for typeFilter,array in MI_D.iteritems():\n",
      "    stat, pValue = sps.ttest_ind(array,MI_M[typeFilter],equal_var=False)\n",
      "    if pValue < 0.05:\n",
      "        print \"MI_D x MI_M\",typeFilter,\"p value:\", str(pValue)[:6]\n",
      "        pValues['Sham_MI_M_'+typeFilter] = pValue\n",
      "    \n",
      "    stat, pValue = sps.ttest_ind(array,MI_P[typeFilter],equal_var=False)\n",
      "    if pValue < 0.05:\n",
      "        print \"MI_D x MI_P\",typeFilter,\"p value:\", str(pValue)[:6]\n",
      "        pValues['Sham_MI_P_'+typeFilter] = pValue\n",
      "    "
     ],
     "language": "python",
     "metadata": {},
     "outputs": [
      {
       "output_type": "stream",
       "stream": "stdout",
       "text": [
        "Testing against Sham\n",
        "\n",
        "Sham x MI_M LT p value: 0.0122\n",
        "Sham x MI_P LT p value: 0.0333\n",
        "Sham x MI_M WT p value: 0.0167\n",
        "Sham x HF   WT p value: 0.0096\n",
        "Sham x MI_M angle p value: 0.0219\n",
        "Sham x MI_P angle p value: 0.0138\n",
        "Sham x HF   angle p value: 0.0479\n",
        "\n",
        "Testing MI_D against others\n",
        "\n",
        "MI_D x MI_P angle p value: 0.0499\n"
       ]
      }
     ],
     "prompt_number": 51
    },
    {
     "cell_type": "heading",
     "level": 3,
     "metadata": {},
     "source": [
      "Masked"
     ]
    },
    {
     "cell_type": "code",
     "collapsed": false,
     "input": [
      "#sps.ttest_ind()\n",
      "pValues = {}\n",
      "#test p value for everything against sham\n",
      "print \"Testing against Sham\\n\"\n",
      "for typeFilter,array in Sham_masked.iteritems():\n",
      "    stat, pValue = sps.ttest_ind(array,MI_D_masked[typeFilter],equal_var=False)\n",
      "    if pValue < 0.05:\n",
      "        print \"Sham x MI_D\",typeFilter,\"p value:\", str(pValue)[:6]\n",
      "        pValues['Sham_MI_D_'+typeFilter] = pValue\n",
      "    \n",
      "    stat, pValue = sps.ttest_ind(array,MI_M_masked[typeFilter],equal_var=False)\n",
      "    if pValue < 0.05:\n",
      "        print \"Sham x MI_M\",typeFilter,\"p value:\", str(pValue)[:6]\n",
      "        pValues['Sham_MI_M_'+typeFilter] = pValue\n",
      "    \n",
      "    stat, pValue = sps.ttest_ind(array,MI_P[typeFilter],equal_var=False)\n",
      "    if pValue < 0.05:\n",
      "        print \"Sham x MI_P\",typeFilter,\"p value:\", str(pValue)[:6]\n",
      "        pValues['Sham_MI_P_'+typeFilter] = pValue\n",
      "    \n",
      "    stat, pValue = sps.ttest_ind(array,HF[typeFilter],equal_var=False)\n",
      "    if pValue < 0.05:\n",
      "        print \"Sham x HF  \",typeFilter,\"p value:\", str(pValue)[:6]\n",
      "        pValues['Sham_HF_'+typeFilter] = pValue\n",
      "\n",
      "print \"\\nTesting MI_D against others\\n\"\n",
      "for typeFilter,array in MI_D_masked.iteritems():\n",
      "    stat, pValue = sps.ttest_ind(array,MI_M_masked[typeFilter],equal_var=False)\n",
      "    if pValue < 0.05:\n",
      "        print \"MI_D x MI_M\",typeFilter,\"p value:\", str(pValue)[:6]\n",
      "        pValues['Sham_MI_M_'+typeFilter] = pValue\n",
      "    \n",
      "    stat, pValue = sps.ttest_ind(array,MI_P[typeFilter],equal_var=False)\n",
      "    if pValue < 0.05:\n",
      "        print \"MI_D x MI_P\",typeFilter,\"p value:\", str(pValue)[:6]\n",
      "        pValues['Sham_MI_P_'+typeFilter] = pValue"
     ],
     "language": "python",
     "metadata": {},
     "outputs": [
      {
       "output_type": "stream",
       "stream": "stdout",
       "text": [
        "Testing against Sham\n",
        "\n",
        "Sham x MI_M LT p value: 0.0150\n",
        "Sham x MI_P LT p value: 0.0272\n",
        "Sham x MI_M WT p value: 0.0091\n",
        "Sham x HF   WT p value: 0.0082\n",
        "Sham x MI_M angle p value: 0.0165\n",
        "Sham x MI_P angle p value: 0.0106\n",
        "Sham x HF   angle p value: 0.0422\n",
        "\n",
        "Testing MI_D against others\n",
        "\n"
       ]
      }
     ],
     "prompt_number": 46
    },
    {
     "cell_type": "markdown",
     "metadata": {},
     "source": [
      "### Now do stats for the tissue comparisons"
     ]
    },
    {
     "cell_type": "code",
     "collapsed": false,
     "input": [
      "Distal_Bootstrap_Content = np.load(\"Distal_Bootstrap_Content.npy\")\n",
      "Distal_Bootstrap_Angles = np.load(\"Distal_Bootstrap_Angles.npy\")\n",
      "Proximal_Bootstrap_Content = np.load(\"Proximal_Bootstrap_Content.npy\")\n",
      "Proximal_Bootstrap_Angles = np.load(\"Proximal_Bootstrap_Angles.npy\")"
     ],
     "language": "python",
     "metadata": {},
     "outputs": [],
     "prompt_number": 9
    },
    {
     "cell_type": "code",
     "collapsed": false,
     "input": [
      "stat, pValue = sps.ttest_ind(Distal_Bootstrap_Content,Proximal_Bootstrap_Content,equal_var=False)\n",
      "print pValue"
     ],
     "language": "python",
     "metadata": {},
     "outputs": [
      {
       "output_type": "stream",
       "stream": "stdout",
       "text": [
        "6.16307135939e-293\n"
       ]
      }
     ],
     "prompt_number": 10
    },
    {
     "cell_type": "code",
     "collapsed": false,
     "input": [
      "stat, pValue = sps.ttest_ind(Distal_Bootstrap_Angles,Proximal_Bootstrap_Angles,equal_var=False)\n",
      "print pValue"
     ],
     "language": "python",
     "metadata": {},
     "outputs": [
      {
       "output_type": "stream",
       "stream": "stdout",
       "text": [
        "0.0\n"
       ]
      }
     ],
     "prompt_number": 11
    },
    {
     "cell_type": "code",
     "collapsed": false,
     "input": [
      "print Distal_Bootstrap_Content\n",
      "print Proximal_Bootstrap_Content"
     ],
     "language": "python",
     "metadata": {},
     "outputs": [
      {
       "output_type": "stream",
       "stream": "stdout",
       "text": [
        "[ 0.28390313  0.29078906  0.23402344  0.27380625  0.24105937  0.25331406\n",
        "  0.2852125   0.26896719  0.271775    0.308725    0.29379375  0.25507813\n",
        "  0.27150625  0.24387813  0.30394219  0.2484125   0.26770156  0.26026406\n",
        "  0.26485625  0.26012969  0.26625156  0.24994687  0.23541094  0.29730313\n",
        "  0.27294531  0.26528906  0.27979219  0.29816562  0.29016406  0.27360313\n",
        "  0.27784062  0.27546406  0.23014844  0.25580625  0.27180781  0.24614531\n",
        "  0.25654531  0.26660938  0.25356719  0.25639687  0.25218438  0.23782969\n",
        "  0.29445     0.25864844  0.28925781  0.28623906  0.27532344  0.2837375\n",
        "  0.31960937  0.24322969  0.26129062  0.26372187  0.28480937  0.24903906\n",
        "  0.27327031  0.26047188  0.28349219  0.24406563  0.27716562  0.29749687\n",
        "  0.27072812  0.29695625  0.26332344  0.26123594  0.27527344  0.25288125\n",
        "  0.28893281  0.276525    0.26620156  0.26192031  0.30668906  0.26671875\n",
        "  0.25698906  0.2626375   0.29178125  0.28301875  0.26859844  0.24199844\n",
        "  0.2686375   0.23799063  0.29015313  0.24935469  0.25790937  0.27510313\n",
        "  0.2448875   0.27425     0.27934063  0.27879062  0.23430469  0.32780625\n",
        "  0.27210937  0.28332188  0.28639531  0.22387812  0.23867969  0.27793438\n",
        "  0.25029219  0.26675469  0.24145625  0.29830625  0.27226875  0.27530312\n",
        "  0.26921094  0.26512187  0.27677969  0.276975    0.23985937  0.25461406\n",
        "  0.25856406  0.2657125   0.23382969  0.27594531  0.27252969  0.24673906\n",
        "  0.25445312  0.25770781  0.27949375  0.28493906  0.27684844  0.24962031\n",
        "  0.24887656  0.26295313  0.27623438  0.31265625  0.27720469  0.28408906\n",
        "  0.26956719  0.2458125   0.24283906  0.251425    0.29331719  0.22937969\n",
        "  0.26936562  0.29253438  0.28492656  0.27503906  0.28042813  0.28055312\n",
        "  0.29076719  0.27184063  0.26022031  0.26888281  0.27753125  0.26150469\n",
        "  0.26053437  0.30285     0.27068281  0.26624844  0.28967656  0.26824375\n",
        "  0.23096719  0.25240781  0.27612187  0.25387031  0.25921563  0.25662344\n",
        "  0.27323594  0.25809219  0.30047656  0.28079688  0.27100781  0.27435937\n",
        "  0.27328281  0.25202031  0.26242031  0.26898437  0.27690938  0.24161094\n",
        "  0.29529844  0.25086094  0.28194531  0.25216094  0.22816562  0.246875\n",
        "  0.27415625  0.2736125   0.241325    0.26033438  0.24877187  0.22231719\n",
        "  0.26896875  0.25471406  0.26071875  0.24680937  0.2966625   0.28159687\n",
        "  0.24950781  0.27024844  0.27941563  0.3018      0.28315625  0.27297344\n",
        "  0.3019875   0.25568594  0.25917812  0.26788281  0.29898437  0.27246875\n",
        "  0.27354062  0.26429375  0.25164531  0.27064531  0.27003437  0.24347188\n",
        "  0.28920469  0.22930625  0.27876094  0.25384375  0.26228125  0.2777625\n",
        "  0.27511875  0.24849063  0.26214688  0.27972344  0.25220156  0.24799531\n",
        "  0.25339844  0.24276094  0.23763906  0.26462812  0.28103281  0.27482812\n",
        "  0.28954687  0.24281719  0.29213906  0.25180313  0.25165     0.25274062\n",
        "  0.30135781  0.28504063  0.30138437  0.28205938  0.23642188  0.31214375\n",
        "  0.27652813  0.27253125  0.26455156  0.24820313  0.27915469  0.27135625\n",
        "  0.27700625  0.30600312  0.24874844  0.29826094  0.28169375  0.2450375\n",
        "  0.27989219  0.2622875   0.28294531  0.27365   ]\n",
        "[ 0.01732031  0.02961875  0.02115938  0.02663281  0.02398594  0.0243625\n",
        "  0.02386563  0.02594375  0.02683125  0.02367344  0.02697187  0.01967969\n",
        "  0.02690937  0.03155625  0.01773438  0.02615625  0.02739375  0.02640781\n",
        "  0.02736562  0.02477656  0.02685937  0.03006719  0.027825    0.02432969\n",
        "  0.03092031  0.026025    0.02663281  0.02578438  0.02046406  0.021275\n",
        "  0.020975    0.03332031  0.0289375   0.02980469  0.03307344  0.02958906\n",
        "  0.01935781  0.02714844  0.0297375   0.02567344  0.02139687  0.03356406\n",
        "  0.0170875   0.02937344  0.0272375   0.02263594  0.02415     0.02129219\n",
        "  0.02636719  0.02304063  0.01272344  0.02714063  0.02824219  0.02721094\n",
        "  0.0247125   0.02411406  0.02947969  0.02895781  0.02562344  0.02591719\n",
        "  0.02402969  0.02815938  0.02428125  0.02639688  0.03020625  0.02415313\n",
        "  0.02896563  0.02944375  0.03031875  0.02227031  0.02789844  0.02824531\n",
        "  0.03108906  0.02770156  0.02033281  0.01896406  0.02179375  0.02255625\n",
        "  0.02874219  0.02542813  0.03205781  0.02648437  0.02749219  0.02501875\n",
        "  0.02589219  0.02648125  0.02782813  0.02815938  0.01809844  0.01766406\n",
        "  0.02382813  0.03630469  0.0348625   0.028925    0.02324844  0.03459062\n",
        "  0.02426719  0.02565625  0.02048281  0.02670938  0.02641094  0.022575\n",
        "  0.02749688  0.02739375  0.02999062  0.02986406  0.0227875   0.02383906\n",
        "  0.02728125  0.032325    0.03153281  0.0257125   0.0248125   0.02655156\n",
        "  0.02742969  0.02237656  0.02840938  0.02937656  0.03123438  0.02537344\n",
        "  0.02908906  0.02938281  0.03230938  0.02616875  0.03022969  0.02841562\n",
        "  0.02431719  0.0269      0.02382969  0.02167812  0.02045625  0.02253438\n",
        "  0.02676563  0.02876875  0.02879063  0.02191094  0.02423281  0.02390156\n",
        "  0.0294375   0.0284      0.03315469  0.02232969  0.02955469  0.02790313\n",
        "  0.02844844  0.02493438  0.02186562  0.02380156  0.02722031  0.02302188\n",
        "  0.02768906  0.0267      0.02367031  0.02697187  0.02062031  0.02911406\n",
        "  0.03065156  0.02810469  0.02003438  0.02943281  0.02737188  0.02572344\n",
        "  0.0242625   0.02458281  0.02579219  0.02437656  0.0319375   0.03172969\n",
        "  0.03176406  0.02652813  0.02811406  0.02771563  0.02803438  0.03026094\n",
        "  0.02738906  0.02580312  0.03350313  0.02541094  0.02619063  0.02710938\n",
        "  0.03696875  0.02671094  0.02829375  0.01506406  0.02258125  0.02640937\n",
        "  0.02498125  0.03135625  0.03003438  0.0169      0.02968906  0.03731719\n",
        "  0.03300156  0.02564531  0.03110312  0.02304375  0.02952969  0.02002656\n",
        "  0.027425    0.0293125   0.02219219  0.03088438  0.027525    0.03440156\n",
        "  0.02471406  0.02765937  0.03209531  0.0245125   0.02823594  0.0293875\n",
        "  0.02179375  0.03467813  0.02601563  0.02543906  0.02230937  0.02634375\n",
        "  0.03262031  0.02780781  0.0303875   0.02688125  0.02699531  0.02467188\n",
        "  0.02052344  0.02686563  0.03220625  0.02239063  0.02615781  0.02484688\n",
        "  0.02859063  0.03247969  0.02453125  0.02817031  0.03091094  0.02911562\n",
        "  0.02782969  0.02785312  0.01915625  0.03146875  0.02590625  0.02305156\n",
        "  0.02135781  0.02567813  0.02221094  0.034825    0.03231406  0.0254\n",
        "  0.03322031  0.02949062  0.02757969  0.02361094]\n"
       ]
      }
     ],
     "prompt_number": 12
    },
    {
     "cell_type": "code",
     "collapsed": false,
     "input": [],
     "language": "python",
     "metadata": {},
     "outputs": []
    }
   ],
   "metadata": {}
  }
 ]
}