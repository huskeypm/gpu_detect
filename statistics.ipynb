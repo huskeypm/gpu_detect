{
 "cells": [
  {
   "cell_type": "markdown",
   "metadata": {},
   "source": [
    "Notebook to calculate some statistics that will be going into the paper"
   ]
  },
  {
   "cell_type": "code",
   "execution_count": 20,
   "metadata": {
    "collapsed": true
   },
   "outputs": [],
   "source": [
    "import matplotlib.pyplot as plt\n",
    "import numpy as np\n",
    "import scipy.stats as sps"
   ]
  },
  {
   "cell_type": "code",
   "execution_count": 47,
   "metadata": {
    "collapsed": true
   },
   "outputs": [],
   "source": [
    "Sham = {'WT':[.730,.629,.730,.936,.886],\n",
    "        'LT':[.051,.063,.054,.003,.031],\n",
    "        'LD':[.131,.124,.123,.018,.032],\n",
    "        'angle':[40.9,73.0,57.7,66.8,48.6]\n",
    "       }\n",
    "\n",
    "Sham_masked = {'WT':[.838,.629,.833,.951,.886],\n",
    "               'LT':[.021,.063,.063,.003,.031],\n",
    "               'LD':[.073,.124,.068,.005,.032],\n",
    "               'angle':[42.4,73.0,59.6,66.5,48.6]\n",
    "              }\n",
    "\n",
    "MI_D = {'WT':[.532,.756,.389],\n",
    "        'LT':[.093,.064,.063],\n",
    "        'LD':[.173,.026,.140],\n",
    "        'angle':[41.0,54.5,49.4]\n",
    "       }\n",
    "\n",
    "MI_D_masked = {'WT':[.532,.756,.479],\n",
    "               'LT':[.093,.064,.026],\n",
    "               'LD':[.173,.026,.087],\n",
    "               'angle':[41.0,54.5,46.5]\n",
    "              }\n",
    "\n",
    "MI_M = {'WT':[.625,.531,.552],\n",
    "        'LT':[.097,.120,.081],\n",
    "        'LD':[.064,.197,.032],\n",
    "        'angle':[36.1,32.6,42.0]}\n",
    "\n",
    "MI_M_masked = {'WT':[.625,.595,.552],\n",
    "               'LT':[.097,.072,.081],\n",
    "               'LD':[.064,.234,.032],\n",
    "               'angle':[36.1,31.8,42.0]}\n",
    "\n",
    "MI_P = {'WT':[0.500,0.765,0.387],\n",
    "        'LT':[0.091,0.113,0.158],\n",
    "        'LD':[0.177,0.036,0.134],\n",
    "        'angle':[31.2,39.5,32.4]}\n",
    "\n",
    "HF = {'WT':[.167,.365,.030],\n",
    "      'LT':[.049,.060,.030],\n",
    "      'LD':[.292,.279,.550],\n",
    "      'angle':[45.2,38.1,25.0]}"
   ]
  },
  {
   "cell_type": "code",
   "execution_count": 54,
   "metadata": {
    "collapsed": true
   },
   "outputs": [],
   "source": [
    "dicts = {'Sham':Sham, \n",
    "         'MI_D':MI_D, \n",
    "         'MI_M':MI_M, \n",
    "         'MI_P':MI_P, \n",
    "         'HF':HF}\n",
    "dicts_masked = [Sham_masked, MI_D_masked, MI_M_masked, MI_P, HF]"
   ]
  },
  {
   "cell_type": "code",
   "execution_count": 56,
   "metadata": {},
   "outputs": [
    {
     "name": "stdout",
     "output_type": "stream",
     "text": [
      "MI_P\n",
      "\tLT\n",
      "\tmean: 0.1206\n",
      "\tstd: 0.0278\n",
      "\tWT\n",
      "\tmean: 0.5506\n",
      "\tstd: 0.1584\n",
      "\tangle\n",
      "\tmean: 34.366\n",
      "\tstd: 3.6627\n",
      "\tLD\n",
      "\tmean: 0.1156\n",
      "\tstd: 0.0590\n",
      "MI_D\n",
      "\tLT\n",
      "\tmean: 0.0733\n",
      "\tstd: 0.0139\n",
      "\tWT\n",
      "\tmean: 0.559\n",
      "\tstd: 0.1510\n",
      "\tangle\n",
      "\tmean: 48.300\n",
      "\tstd: 5.5659\n",
      "\tLD\n",
      "\tmean: 0.1129\n",
      "\tstd: 0.0629\n",
      "HF\n",
      "\tLT\n",
      "\tmean: 0.0463\n",
      "\tstd: 0.0123\n",
      "\tWT\n",
      "\tmean: 0.1873\n",
      "\tstd: 0.1375\n",
      "\tangle\n",
      "\tmean: 36.1\n",
      "\tstd: 8.3669\n",
      "\tLD\n",
      "\tmean: 0.3736\n",
      "\tstd: 0.1247\n",
      "MI_M\n",
      "\tLT\n",
      "\tmean: 0.0993\n",
      "\tstd: 0.0160\n",
      "\tWT\n",
      "\tmean: 0.5693\n",
      "\tstd: 0.0402\n",
      "\tangle\n",
      "\tmean: 36.9\n",
      "\tstd: 3.8790\n",
      "\tLD\n",
      "\tmean: 0.0976\n",
      "\tstd: 0.0714\n",
      "Sham\n",
      "\tLT\n",
      "\tmean: 0.0404\n",
      "\tstd: 0.0214\n",
      "\tWT\n",
      "\tmean: 0.7822\n",
      "\tstd: 0.1125\n",
      "\tangle\n",
      "\tmean: 57.400\n",
      "\tstd: 11.674\n",
      "\tLD\n",
      "\tmean: 0.0856\n",
      "\tstd: 0.0497\n"
     ]
    }
   ],
   "source": [
    "for name,dictionary in dicts.iteritems():\n",
    "    print name\n",
    "    for name,array in dictionary.copy().iteritems():\n",
    "        print \"\\t\"+name\n",
    "        print \"\\tmean:\",str(np.mean(array))[:6]\n",
    "        print \"\\tstd:\",str(np.std(array))[:6]\n",
    "        #dictionary[name+'_mean'] = np.mean(array)\n",
    "        #dictionary[name+'_std'] = np.std(array)\n",
    "        \n",
    "\n",
    "\n"
   ]
  },
  {
   "cell_type": "code",
   "execution_count": 50,
   "metadata": {},
   "outputs": [
    {
     "name": "stdout",
     "output_type": "stream",
     "text": [
      "{'LT': [0.051, 0.063, 0.054, 0.003, 0.031], 'WT': [0.73, 0.629, 0.73, 0.936, 0.886], 'angle': [40.9, 73.0, 57.7, 66.8, 48.6], 'LD': [0.131, 0.124, 0.123, 0.018, 0.032]}\n"
     ]
    }
   ],
   "source": [
    "print Sham"
   ]
  },
  {
   "cell_type": "markdown",
   "metadata": {},
   "source": [
    "### Non-Masked"
   ]
  },
  {
   "cell_type": "code",
   "execution_count": 51,
   "metadata": {},
   "outputs": [
    {
     "name": "stdout",
     "output_type": "stream",
     "text": [
      "Testing against Sham\n",
      "\n",
      "Sham x MI_M LT p value: 0.0122\n",
      "Sham x MI_P LT p value: 0.0333\n",
      "Sham x MI_M WT p value: 0.0167\n",
      "Sham x HF   WT p value: 0.0096\n",
      "Sham x MI_M angle p value: 0.0219\n",
      "Sham x MI_P angle p value: 0.0138\n",
      "Sham x HF   angle p value: 0.0479\n",
      "\n",
      "Testing MI_D against others\n",
      "\n",
      "MI_D x MI_P angle p value: 0.0499\n"
     ]
    }
   ],
   "source": [
    "#sps.ttest_ind()\n",
    "pValues = {}\n",
    "#test p value for everything against sham\n",
    "print \"Testing against Sham\\n\"\n",
    "for typeFilter,array in Sham.iteritems():\n",
    "    stat, pValue = sps.ttest_ind(array,MI_D[typeFilter],equal_var=False)\n",
    "    if pValue < 0.05:\n",
    "        print \"Sham x MI_D\",typeFilter,\"p value:\", str(pValue)[:6]\n",
    "        pValues['Sham_MI_D_'+typeFilter] = pValue\n",
    "    \n",
    "    stat, pValue = sps.ttest_ind(array,MI_M[typeFilter],equal_var=False)\n",
    "    if pValue < 0.05:\n",
    "        print \"Sham x MI_M\",typeFilter,\"p value:\", str(pValue)[:6]\n",
    "        pValues['Sham_MI_M_'+typeFilter] = pValue\n",
    "    \n",
    "    stat, pValue = sps.ttest_ind(array,MI_P[typeFilter],equal_var=False)\n",
    "    if pValue < 0.05:\n",
    "        print \"Sham x MI_P\",typeFilter,\"p value:\", str(pValue)[:6]\n",
    "        pValues['Sham_MI_P_'+typeFilter] = pValue\n",
    "    \n",
    "    stat, pValue = sps.ttest_ind(array,HF[typeFilter],equal_var=False)\n",
    "    if pValue < 0.05:\n",
    "        print \"Sham x HF  \",typeFilter,\"p value:\", str(pValue)[:6]\n",
    "        pValues['Sham_HF_'+typeFilter] = pValue\n",
    "\n",
    "print \"\\nTesting MI_D against others\\n\"\n",
    "for typeFilter,array in MI_D.iteritems():\n",
    "    stat, pValue = sps.ttest_ind(array,MI_M[typeFilter],equal_var=False)\n",
    "    if pValue < 0.05:\n",
    "        print \"MI_D x MI_M\",typeFilter,\"p value:\", str(pValue)[:6]\n",
    "        pValues['Sham_MI_M_'+typeFilter] = pValue\n",
    "    \n",
    "    stat, pValue = sps.ttest_ind(array,MI_P[typeFilter],equal_var=False)\n",
    "    if pValue < 0.05:\n",
    "        print \"MI_D x MI_P\",typeFilter,\"p value:\", str(pValue)[:6]\n",
    "        pValues['Sham_MI_P_'+typeFilter] = pValue\n",
    "    "
   ]
  },
  {
   "cell_type": "markdown",
   "metadata": {},
   "source": [
    "### Masked"
   ]
  },
  {
   "cell_type": "code",
   "execution_count": 46,
   "metadata": {},
   "outputs": [
    {
     "name": "stdout",
     "output_type": "stream",
     "text": [
      "Testing against Sham\n",
      "\n",
      "Sham x MI_M LT p value: 0.0150\n",
      "Sham x MI_P LT p value: 0.0272\n",
      "Sham x MI_M WT p value: 0.0091\n",
      "Sham x HF   WT p value: 0.0082\n",
      "Sham x MI_M angle p value: 0.0165\n",
      "Sham x MI_P angle p value: 0.0106\n",
      "Sham x HF   angle p value: 0.0422\n",
      "\n",
      "Testing MI_D against others\n",
      "\n"
     ]
    }
   ],
   "source": [
    "#sps.ttest_ind()\n",
    "pValues = {}\n",
    "#test p value for everything against sham\n",
    "print \"Testing against Sham\\n\"\n",
    "for typeFilter,array in Sham_masked.iteritems():\n",
    "    stat, pValue = sps.ttest_ind(array,MI_D_masked[typeFilter],equal_var=False)\n",
    "    if pValue < 0.05:\n",
    "        print \"Sham x MI_D\",typeFilter,\"p value:\", str(pValue)[:6]\n",
    "        pValues['Sham_MI_D_'+typeFilter] = pValue\n",
    "    \n",
    "    stat, pValue = sps.ttest_ind(array,MI_M_masked[typeFilter],equal_var=False)\n",
    "    if pValue < 0.05:\n",
    "        print \"Sham x MI_M\",typeFilter,\"p value:\", str(pValue)[:6]\n",
    "        pValues['Sham_MI_M_'+typeFilter] = pValue\n",
    "    \n",
    "    stat, pValue = sps.ttest_ind(array,MI_P[typeFilter],equal_var=False)\n",
    "    if pValue < 0.05:\n",
    "        print \"Sham x MI_P\",typeFilter,\"p value:\", str(pValue)[:6]\n",
    "        pValues['Sham_MI_P_'+typeFilter] = pValue\n",
    "    \n",
    "    stat, pValue = sps.ttest_ind(array,HF[typeFilter],equal_var=False)\n",
    "    if pValue < 0.05:\n",
    "        print \"Sham x HF  \",typeFilter,\"p value:\", str(pValue)[:6]\n",
    "        pValues['Sham_HF_'+typeFilter] = pValue\n",
    "\n",
    "print \"\\nTesting MI_D against others\\n\"\n",
    "for typeFilter,array in MI_D_masked.iteritems():\n",
    "    stat, pValue = sps.ttest_ind(array,MI_M_masked[typeFilter],equal_var=False)\n",
    "    if pValue < 0.05:\n",
    "        print \"MI_D x MI_M\",typeFilter,\"p value:\", str(pValue)[:6]\n",
    "        pValues['Sham_MI_M_'+typeFilter] = pValue\n",
    "    \n",
    "    stat, pValue = sps.ttest_ind(array,MI_P[typeFilter],equal_var=False)\n",
    "    if pValue < 0.05:\n",
    "        print \"MI_D x MI_P\",typeFilter,\"p value:\", str(pValue)[:6]\n",
    "        pValues['Sham_MI_P_'+typeFilter] = pValue"
   ]
  },
  {
   "cell_type": "code",
   "execution_count": null,
   "metadata": {
    "collapsed": true
   },
   "outputs": [],
   "source": []
  }
 ],
 "metadata": {
  "kernelspec": {
   "display_name": "Python 2",
   "language": "python",
   "name": "python2"
  },
  "language_info": {
   "codemirror_mode": {
    "name": "ipython",
    "version": 2
   },
   "file_extension": ".py",
   "mimetype": "text/x-python",
   "name": "python",
   "nbconvert_exporter": "python",
   "pygments_lexer": "ipython2",
   "version": "2.7.5"
  }
 },
 "nbformat": 4,
 "nbformat_minor": 2
}
